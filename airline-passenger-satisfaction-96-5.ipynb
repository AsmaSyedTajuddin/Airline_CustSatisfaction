{
 "cells": [
  {
   "cell_type": "code",
   "execution_count": 1,
   "id": "7c038a3b",
   "metadata": {
    "_cell_guid": "b1076dfc-b9ad-4769-8c92-a6c4dae69d19",
    "_uuid": "8f2839f25d086af736a60e9eeb907d3b93b6e0e5",
    "execution": {
     "iopub.execute_input": "2021-08-17T07:48:43.907792Z",
     "iopub.status.busy": "2021-08-17T07:48:43.906901Z",
     "iopub.status.idle": "2021-08-17T07:48:43.922700Z",
     "shell.execute_reply": "2021-08-17T07:48:43.921731Z",
     "shell.execute_reply.started": "2021-08-17T06:59:28.377062Z"
    },
    "papermill": {
     "duration": 0.074105,
     "end_time": "2021-08-17T07:48:43.922929",
     "exception": false,
     "start_time": "2021-08-17T07:48:43.848824",
     "status": "completed"
    },
    "tags": []
   },
   "outputs": [
    {
     "name": "stdout",
     "output_type": "stream",
     "text": [
      "/kaggle/input/airline-passenger-satisfaction/train.csv\n",
      "/kaggle/input/airline-passenger-satisfaction/test.csv\n"
     ]
    }
   ],
   "source": [
    "# This Python 3 environment comes with many helpful analytics libraries installed\n",
    "# It is defined by the kaggle/python Docker image: https://github.com/kaggle/docker-python\n",
    "# For example, here's several helpful packages to load\n",
    "\n",
    "import numpy as np # linear algebra\n",
    "import pandas as pd # data processing, CSV file I/O (e.g. pd.read_csv)\n",
    "\n",
    "# Input data files are available in the read-only \"../input/\" directory\n",
    "# For example, running this (by clicking run or pressing Shift+Enter) will list all files under the input directory\n",
    "\n",
    "import os\n",
    "for dirname, _, filenames in os.walk('/kaggle/input'):\n",
    "    for filename in filenames:\n",
    "        print(os.path.join(dirname, filename))\n",
    "\n",
    "# You can write up to 20GB to the current directory (/kaggle/working/) that gets preserved as output when you create a version using \"Save & Run All\" \n",
    "# You can also write temporary files to /kaggle/temp/, but they won't be saved outside of the current session"
   ]
  },
  {
   "cell_type": "code",
   "execution_count": 2,
   "id": "52901abd",
   "metadata": {
    "execution": {
     "iopub.execute_input": "2021-08-17T07:48:44.026227Z",
     "iopub.status.busy": "2021-08-17T07:48:44.025331Z",
     "iopub.status.idle": "2021-08-17T07:48:45.017669Z",
     "shell.execute_reply": "2021-08-17T07:48:45.016834Z",
     "shell.execute_reply.started": "2021-08-17T06:59:28.431060Z"
    },
    "papermill": {
     "duration": 1.051062,
     "end_time": "2021-08-17T07:48:45.017868",
     "exception": false,
     "start_time": "2021-08-17T07:48:43.966806",
     "status": "completed"
    },
    "tags": []
   },
   "outputs": [],
   "source": [
    "train = pd.read_csv(\"/kaggle/input/airline-passenger-satisfaction/train.csv\")\n",
    "test = pd.read_csv(\"/kaggle/input/airline-passenger-satisfaction/test.csv\")"
   ]
  },
  {
   "cell_type": "code",
   "execution_count": 3,
   "id": "b71d4f91",
   "metadata": {
    "execution": {
     "iopub.execute_input": "2021-08-17T07:48:45.116671Z",
     "iopub.status.busy": "2021-08-17T07:48:45.115905Z",
     "iopub.status.idle": "2021-08-17T07:48:45.153512Z",
     "shell.execute_reply": "2021-08-17T07:48:45.154058Z",
     "shell.execute_reply.started": "2021-08-17T06:59:29.136262Z"
    },
    "papermill": {
     "duration": 0.093204,
     "end_time": "2021-08-17T07:48:45.154491",
     "exception": false,
     "start_time": "2021-08-17T07:48:45.061287",
     "status": "completed"
    },
    "tags": []
   },
   "outputs": [
    {
     "data": {
      "text/html": [
       "<div>\n",
       "<style scoped>\n",
       "    .dataframe tbody tr th:only-of-type {\n",
       "        vertical-align: middle;\n",
       "    }\n",
       "\n",
       "    .dataframe tbody tr th {\n",
       "        vertical-align: top;\n",
       "    }\n",
       "\n",
       "    .dataframe thead th {\n",
       "        text-align: right;\n",
       "    }\n",
       "</style>\n",
       "<table border=\"1\" class=\"dataframe\">\n",
       "  <thead>\n",
       "    <tr style=\"text-align: right;\">\n",
       "      <th></th>\n",
       "      <th>Unnamed: 0</th>\n",
       "      <th>id</th>\n",
       "      <th>Gender</th>\n",
       "      <th>Customer Type</th>\n",
       "      <th>Age</th>\n",
       "      <th>Type of Travel</th>\n",
       "      <th>Class</th>\n",
       "      <th>Flight Distance</th>\n",
       "      <th>Inflight wifi service</th>\n",
       "      <th>Departure/Arrival time convenient</th>\n",
       "      <th>...</th>\n",
       "      <th>Inflight entertainment</th>\n",
       "      <th>On-board service</th>\n",
       "      <th>Leg room service</th>\n",
       "      <th>Baggage handling</th>\n",
       "      <th>Checkin service</th>\n",
       "      <th>Inflight service</th>\n",
       "      <th>Cleanliness</th>\n",
       "      <th>Departure Delay in Minutes</th>\n",
       "      <th>Arrival Delay in Minutes</th>\n",
       "      <th>satisfaction</th>\n",
       "    </tr>\n",
       "  </thead>\n",
       "  <tbody>\n",
       "    <tr>\n",
       "      <th>0</th>\n",
       "      <td>0</td>\n",
       "      <td>70172</td>\n",
       "      <td>Male</td>\n",
       "      <td>Loyal Customer</td>\n",
       "      <td>13</td>\n",
       "      <td>Personal Travel</td>\n",
       "      <td>Eco Plus</td>\n",
       "      <td>460</td>\n",
       "      <td>3</td>\n",
       "      <td>4</td>\n",
       "      <td>...</td>\n",
       "      <td>5</td>\n",
       "      <td>4</td>\n",
       "      <td>3</td>\n",
       "      <td>4</td>\n",
       "      <td>4</td>\n",
       "      <td>5</td>\n",
       "      <td>5</td>\n",
       "      <td>25</td>\n",
       "      <td>18.0</td>\n",
       "      <td>neutral or dissatisfied</td>\n",
       "    </tr>\n",
       "    <tr>\n",
       "      <th>1</th>\n",
       "      <td>1</td>\n",
       "      <td>5047</td>\n",
       "      <td>Male</td>\n",
       "      <td>disloyal Customer</td>\n",
       "      <td>25</td>\n",
       "      <td>Business travel</td>\n",
       "      <td>Business</td>\n",
       "      <td>235</td>\n",
       "      <td>3</td>\n",
       "      <td>2</td>\n",
       "      <td>...</td>\n",
       "      <td>1</td>\n",
       "      <td>1</td>\n",
       "      <td>5</td>\n",
       "      <td>3</td>\n",
       "      <td>1</td>\n",
       "      <td>4</td>\n",
       "      <td>1</td>\n",
       "      <td>1</td>\n",
       "      <td>6.0</td>\n",
       "      <td>neutral or dissatisfied</td>\n",
       "    </tr>\n",
       "    <tr>\n",
       "      <th>2</th>\n",
       "      <td>2</td>\n",
       "      <td>110028</td>\n",
       "      <td>Female</td>\n",
       "      <td>Loyal Customer</td>\n",
       "      <td>26</td>\n",
       "      <td>Business travel</td>\n",
       "      <td>Business</td>\n",
       "      <td>1142</td>\n",
       "      <td>2</td>\n",
       "      <td>2</td>\n",
       "      <td>...</td>\n",
       "      <td>5</td>\n",
       "      <td>4</td>\n",
       "      <td>3</td>\n",
       "      <td>4</td>\n",
       "      <td>4</td>\n",
       "      <td>4</td>\n",
       "      <td>5</td>\n",
       "      <td>0</td>\n",
       "      <td>0.0</td>\n",
       "      <td>satisfied</td>\n",
       "    </tr>\n",
       "    <tr>\n",
       "      <th>3</th>\n",
       "      <td>3</td>\n",
       "      <td>24026</td>\n",
       "      <td>Female</td>\n",
       "      <td>Loyal Customer</td>\n",
       "      <td>25</td>\n",
       "      <td>Business travel</td>\n",
       "      <td>Business</td>\n",
       "      <td>562</td>\n",
       "      <td>2</td>\n",
       "      <td>5</td>\n",
       "      <td>...</td>\n",
       "      <td>2</td>\n",
       "      <td>2</td>\n",
       "      <td>5</td>\n",
       "      <td>3</td>\n",
       "      <td>1</td>\n",
       "      <td>4</td>\n",
       "      <td>2</td>\n",
       "      <td>11</td>\n",
       "      <td>9.0</td>\n",
       "      <td>neutral or dissatisfied</td>\n",
       "    </tr>\n",
       "    <tr>\n",
       "      <th>4</th>\n",
       "      <td>4</td>\n",
       "      <td>119299</td>\n",
       "      <td>Male</td>\n",
       "      <td>Loyal Customer</td>\n",
       "      <td>61</td>\n",
       "      <td>Business travel</td>\n",
       "      <td>Business</td>\n",
       "      <td>214</td>\n",
       "      <td>3</td>\n",
       "      <td>3</td>\n",
       "      <td>...</td>\n",
       "      <td>3</td>\n",
       "      <td>3</td>\n",
       "      <td>4</td>\n",
       "      <td>4</td>\n",
       "      <td>3</td>\n",
       "      <td>3</td>\n",
       "      <td>3</td>\n",
       "      <td>0</td>\n",
       "      <td>0.0</td>\n",
       "      <td>satisfied</td>\n",
       "    </tr>\n",
       "  </tbody>\n",
       "</table>\n",
       "<p>5 rows × 25 columns</p>\n",
       "</div>"
      ],
      "text/plain": [
       "   Unnamed: 0      id  Gender      Customer Type  Age   Type of Travel  \\\n",
       "0           0   70172    Male     Loyal Customer   13  Personal Travel   \n",
       "1           1    5047    Male  disloyal Customer   25  Business travel   \n",
       "2           2  110028  Female     Loyal Customer   26  Business travel   \n",
       "3           3   24026  Female     Loyal Customer   25  Business travel   \n",
       "4           4  119299    Male     Loyal Customer   61  Business travel   \n",
       "\n",
       "      Class  Flight Distance  Inflight wifi service  \\\n",
       "0  Eco Plus              460                      3   \n",
       "1  Business              235                      3   \n",
       "2  Business             1142                      2   \n",
       "3  Business              562                      2   \n",
       "4  Business              214                      3   \n",
       "\n",
       "   Departure/Arrival time convenient  ...  Inflight entertainment  \\\n",
       "0                                  4  ...                       5   \n",
       "1                                  2  ...                       1   \n",
       "2                                  2  ...                       5   \n",
       "3                                  5  ...                       2   \n",
       "4                                  3  ...                       3   \n",
       "\n",
       "   On-board service  Leg room service  Baggage handling  Checkin service  \\\n",
       "0                 4                 3                 4                4   \n",
       "1                 1                 5                 3                1   \n",
       "2                 4                 3                 4                4   \n",
       "3                 2                 5                 3                1   \n",
       "4                 3                 4                 4                3   \n",
       "\n",
       "   Inflight service  Cleanliness  Departure Delay in Minutes  \\\n",
       "0                 5            5                          25   \n",
       "1                 4            1                           1   \n",
       "2                 4            5                           0   \n",
       "3                 4            2                          11   \n",
       "4                 3            3                           0   \n",
       "\n",
       "   Arrival Delay in Minutes             satisfaction  \n",
       "0                      18.0  neutral or dissatisfied  \n",
       "1                       6.0  neutral or dissatisfied  \n",
       "2                       0.0                satisfied  \n",
       "3                       9.0  neutral or dissatisfied  \n",
       "4                       0.0                satisfied  \n",
       "\n",
       "[5 rows x 25 columns]"
      ]
     },
     "execution_count": 3,
     "metadata": {},
     "output_type": "execute_result"
    }
   ],
   "source": [
    "train.head()"
   ]
  },
  {
   "cell_type": "code",
   "execution_count": 4,
   "id": "fb73dbf6",
   "metadata": {
    "execution": {
     "iopub.execute_input": "2021-08-17T07:48:45.245386Z",
     "iopub.status.busy": "2021-08-17T07:48:45.244666Z",
     "iopub.status.idle": "2021-08-17T07:48:45.249763Z",
     "shell.execute_reply": "2021-08-17T07:48:45.250351Z",
     "shell.execute_reply.started": "2021-08-17T06:59:29.183961Z"
    },
    "papermill": {
     "duration": 0.052085,
     "end_time": "2021-08-17T07:48:45.250566",
     "exception": false,
     "start_time": "2021-08-17T07:48:45.198481",
     "status": "completed"
    },
    "tags": []
   },
   "outputs": [
    {
     "data": {
      "text/plain": [
       "(103904, 25)"
      ]
     },
     "execution_count": 4,
     "metadata": {},
     "output_type": "execute_result"
    }
   ],
   "source": [
    "train.shape\n"
   ]
  },
  {
   "cell_type": "code",
   "execution_count": 5,
   "id": "f90c23fc",
   "metadata": {
    "execution": {
     "iopub.execute_input": "2021-08-17T07:48:45.347158Z",
     "iopub.status.busy": "2021-08-17T07:48:45.346328Z",
     "iopub.status.idle": "2021-08-17T07:48:45.350567Z",
     "shell.execute_reply": "2021-08-17T07:48:45.350040Z",
     "shell.execute_reply.started": "2021-08-17T06:59:29.190584Z"
    },
    "papermill": {
     "duration": 0.053691,
     "end_time": "2021-08-17T07:48:45.350736",
     "exception": false,
     "start_time": "2021-08-17T07:48:45.297045",
     "status": "completed"
    },
    "tags": []
   },
   "outputs": [
    {
     "data": {
      "text/plain": [
       "(25976, 25)"
      ]
     },
     "execution_count": 5,
     "metadata": {},
     "output_type": "execute_result"
    }
   ],
   "source": [
    "test.shape"
   ]
  },
  {
   "cell_type": "code",
   "execution_count": 6,
   "id": "980e5e38",
   "metadata": {
    "execution": {
     "iopub.execute_input": "2021-08-17T07:48:45.446147Z",
     "iopub.status.busy": "2021-08-17T07:48:45.445343Z",
     "iopub.status.idle": "2021-08-17T07:48:45.522877Z",
     "shell.execute_reply": "2021-08-17T07:48:45.522167Z",
     "shell.execute_reply.started": "2021-08-17T06:59:29.204938Z"
    },
    "papermill": {
     "duration": 0.128187,
     "end_time": "2021-08-17T07:48:45.523037",
     "exception": false,
     "start_time": "2021-08-17T07:48:45.394850",
     "status": "completed"
    },
    "tags": []
   },
   "outputs": [
    {
     "name": "stdout",
     "output_type": "stream",
     "text": [
      "<class 'pandas.core.frame.DataFrame'>\n",
      "RangeIndex: 103904 entries, 0 to 103903\n",
      "Data columns (total 25 columns):\n",
      " #   Column                             Non-Null Count   Dtype  \n",
      "---  ------                             --------------   -----  \n",
      " 0   Unnamed: 0                         103904 non-null  int64  \n",
      " 1   id                                 103904 non-null  int64  \n",
      " 2   Gender                             103904 non-null  object \n",
      " 3   Customer Type                      103904 non-null  object \n",
      " 4   Age                                103904 non-null  int64  \n",
      " 5   Type of Travel                     103904 non-null  object \n",
      " 6   Class                              103904 non-null  object \n",
      " 7   Flight Distance                    103904 non-null  int64  \n",
      " 8   Inflight wifi service              103904 non-null  int64  \n",
      " 9   Departure/Arrival time convenient  103904 non-null  int64  \n",
      " 10  Ease of Online booking             103904 non-null  int64  \n",
      " 11  Gate location                      103904 non-null  int64  \n",
      " 12  Food and drink                     103904 non-null  int64  \n",
      " 13  Online boarding                    103904 non-null  int64  \n",
      " 14  Seat comfort                       103904 non-null  int64  \n",
      " 15  Inflight entertainment             103904 non-null  int64  \n",
      " 16  On-board service                   103904 non-null  int64  \n",
      " 17  Leg room service                   103904 non-null  int64  \n",
      " 18  Baggage handling                   103904 non-null  int64  \n",
      " 19  Checkin service                    103904 non-null  int64  \n",
      " 20  Inflight service                   103904 non-null  int64  \n",
      " 21  Cleanliness                        103904 non-null  int64  \n",
      " 22  Departure Delay in Minutes         103904 non-null  int64  \n",
      " 23  Arrival Delay in Minutes           103594 non-null  float64\n",
      " 24  satisfaction                       103904 non-null  object \n",
      "dtypes: float64(1), int64(19), object(5)\n",
      "memory usage: 19.8+ MB\n"
     ]
    }
   ],
   "source": [
    "train.info()"
   ]
  },
  {
   "cell_type": "code",
   "execution_count": 7,
   "id": "bbd3041f",
   "metadata": {
    "execution": {
     "iopub.execute_input": "2021-08-17T07:48:45.616197Z",
     "iopub.status.busy": "2021-08-17T07:48:45.615498Z",
     "iopub.status.idle": "2021-08-17T07:48:45.679981Z",
     "shell.execute_reply": "2021-08-17T07:48:45.679396Z",
     "shell.execute_reply.started": "2021-08-17T06:59:29.259894Z"
    },
    "papermill": {
     "duration": 0.113272,
     "end_time": "2021-08-17T07:48:45.680147",
     "exception": false,
     "start_time": "2021-08-17T07:48:45.566875",
     "status": "completed"
    },
    "tags": []
   },
   "outputs": [
    {
     "data": {
      "text/plain": [
       "Unnamed: 0                             0\n",
       "id                                     0\n",
       "Gender                                 0\n",
       "Customer Type                          0\n",
       "Age                                    0\n",
       "Type of Travel                         0\n",
       "Class                                  0\n",
       "Flight Distance                        0\n",
       "Inflight wifi service                  0\n",
       "Departure/Arrival time convenient      0\n",
       "Ease of Online booking                 0\n",
       "Gate location                          0\n",
       "Food and drink                         0\n",
       "Online boarding                        0\n",
       "Seat comfort                           0\n",
       "Inflight entertainment                 0\n",
       "On-board service                       0\n",
       "Leg room service                       0\n",
       "Baggage handling                       0\n",
       "Checkin service                        0\n",
       "Inflight service                       0\n",
       "Cleanliness                            0\n",
       "Departure Delay in Minutes             0\n",
       "Arrival Delay in Minutes             310\n",
       "satisfaction                           0\n",
       "dtype: int64"
      ]
     },
     "execution_count": 7,
     "metadata": {},
     "output_type": "execute_result"
    }
   ],
   "source": [
    "train.isnull().sum()"
   ]
  },
  {
   "cell_type": "code",
   "execution_count": 8,
   "id": "5accc6fd",
   "metadata": {
    "execution": {
     "iopub.execute_input": "2021-08-17T07:48:45.775380Z",
     "iopub.status.busy": "2021-08-17T07:48:45.774399Z",
     "iopub.status.idle": "2021-08-17T07:48:45.798072Z",
     "shell.execute_reply": "2021-08-17T07:48:45.797497Z",
     "shell.execute_reply.started": "2021-08-17T06:59:29.292614Z"
    },
    "papermill": {
     "duration": 0.073505,
     "end_time": "2021-08-17T07:48:45.798240",
     "exception": false,
     "start_time": "2021-08-17T07:48:45.724735",
     "status": "completed"
    },
    "tags": []
   },
   "outputs": [
    {
     "data": {
      "text/plain": [
       "Unnamed: 0                            0\n",
       "id                                    0\n",
       "Gender                                0\n",
       "Customer Type                         0\n",
       "Age                                   0\n",
       "Type of Travel                        0\n",
       "Class                                 0\n",
       "Flight Distance                       0\n",
       "Inflight wifi service                 0\n",
       "Departure/Arrival time convenient     0\n",
       "Ease of Online booking                0\n",
       "Gate location                         0\n",
       "Food and drink                        0\n",
       "Online boarding                       0\n",
       "Seat comfort                          0\n",
       "Inflight entertainment                0\n",
       "On-board service                      0\n",
       "Leg room service                      0\n",
       "Baggage handling                      0\n",
       "Checkin service                       0\n",
       "Inflight service                      0\n",
       "Cleanliness                           0\n",
       "Departure Delay in Minutes            0\n",
       "Arrival Delay in Minutes             83\n",
       "satisfaction                          0\n",
       "dtype: int64"
      ]
     },
     "execution_count": 8,
     "metadata": {},
     "output_type": "execute_result"
    }
   ],
   "source": [
    "test.isnull().sum()"
   ]
  },
  {
   "cell_type": "code",
   "execution_count": 9,
   "id": "d788f665",
   "metadata": {
    "execution": {
     "iopub.execute_input": "2021-08-17T07:48:45.894125Z",
     "iopub.status.busy": "2021-08-17T07:48:45.893437Z",
     "iopub.status.idle": "2021-08-17T07:48:45.998598Z",
     "shell.execute_reply": "2021-08-17T07:48:45.999180Z",
     "shell.execute_reply.started": "2021-08-17T06:59:29.309231Z"
    },
    "papermill": {
     "duration": 0.156466,
     "end_time": "2021-08-17T07:48:45.999397",
     "exception": false,
     "start_time": "2021-08-17T07:48:45.842931",
     "status": "completed"
    },
    "tags": []
   },
   "outputs": [],
   "source": [
    "train.dropna(inplace=True)"
   ]
  },
  {
   "cell_type": "code",
   "execution_count": 10,
   "id": "5a046e05",
   "metadata": {
    "execution": {
     "iopub.execute_input": "2021-08-17T07:48:46.093608Z",
     "iopub.status.busy": "2021-08-17T07:48:46.092556Z",
     "iopub.status.idle": "2021-08-17T07:48:46.123975Z",
     "shell.execute_reply": "2021-08-17T07:48:46.123180Z",
     "shell.execute_reply.started": "2021-08-17T06:59:29.377862Z"
    },
    "papermill": {
     "duration": 0.080381,
     "end_time": "2021-08-17T07:48:46.124136",
     "exception": false,
     "start_time": "2021-08-17T07:48:46.043755",
     "status": "completed"
    },
    "tags": []
   },
   "outputs": [],
   "source": [
    "test.dropna(inplace=True)"
   ]
  },
  {
   "cell_type": "code",
   "execution_count": 11,
   "id": "6cbabf30",
   "metadata": {
    "execution": {
     "iopub.execute_input": "2021-08-17T07:48:46.221104Z",
     "iopub.status.busy": "2021-08-17T07:48:46.219985Z",
     "iopub.status.idle": "2021-08-17T07:48:46.222124Z",
     "shell.execute_reply": "2021-08-17T07:48:46.222606Z",
     "shell.execute_reply.started": "2021-08-17T06:59:29.402794Z"
    },
    "papermill": {
     "duration": 0.054009,
     "end_time": "2021-08-17T07:48:46.222820",
     "exception": false,
     "start_time": "2021-08-17T07:48:46.168811",
     "status": "completed"
    },
    "tags": []
   },
   "outputs": [],
   "source": [
    "def dropds(dset):\n",
    "    dset.drop([\"Unnamed: 0\",\"id\"],axis=1,inplace=True)\n",
    "    dset[\"Gender\"] = dset[\"Gender\"].map({\"Male\":1,\"Female\":0})\n",
    "    dset[\"Customer Type\"] = dset[\"Customer Type\"].map({\"Loyal Customer\":1,\"disloyal Customer\":0})\n",
    "    #travel_dum = pd.get_dummies(dset[[\"Type of Travel\"]],drop_first=True)\n",
    "    #class_dum = pd.get_dummies(dset[[\"Class\"]],drop_first=True)\n"
   ]
  },
  {
   "cell_type": "code",
   "execution_count": 12,
   "id": "d8cfe13a",
   "metadata": {
    "execution": {
     "iopub.execute_input": "2021-08-17T07:48:46.316909Z",
     "iopub.status.busy": "2021-08-17T07:48:46.315963Z",
     "iopub.status.idle": "2021-08-17T07:48:46.394125Z",
     "shell.execute_reply": "2021-08-17T07:48:46.393307Z",
     "shell.execute_reply.started": "2021-08-17T06:59:29.409166Z"
    },
    "papermill": {
     "duration": 0.126754,
     "end_time": "2021-08-17T07:48:46.394291",
     "exception": false,
     "start_time": "2021-08-17T07:48:46.267537",
     "status": "completed"
    },
    "tags": []
   },
   "outputs": [],
   "source": [
    "dropds(train)\n",
    "dropds(test)"
   ]
  },
  {
   "cell_type": "code",
   "execution_count": 13,
   "id": "cbdf99b5",
   "metadata": {
    "execution": {
     "iopub.execute_input": "2021-08-17T07:48:46.488499Z",
     "iopub.status.busy": "2021-08-17T07:48:46.487714Z",
     "iopub.status.idle": "2021-08-17T07:48:46.492907Z",
     "shell.execute_reply": "2021-08-17T07:48:46.493397Z",
     "shell.execute_reply.started": "2021-08-17T06:59:29.473041Z"
    },
    "papermill": {
     "duration": 0.05412,
     "end_time": "2021-08-17T07:48:46.493589",
     "exception": false,
     "start_time": "2021-08-17T07:48:46.439469",
     "status": "completed"
    },
    "tags": []
   },
   "outputs": [
    {
     "data": {
      "text/plain": [
       "(103594, 23)"
      ]
     },
     "execution_count": 13,
     "metadata": {},
     "output_type": "execute_result"
    }
   ],
   "source": [
    "train.shape"
   ]
  },
  {
   "cell_type": "code",
   "execution_count": 14,
   "id": "0c5253ff",
   "metadata": {
    "execution": {
     "iopub.execute_input": "2021-08-17T07:48:46.586726Z",
     "iopub.status.busy": "2021-08-17T07:48:46.586115Z",
     "iopub.status.idle": "2021-08-17T07:48:46.591122Z",
     "shell.execute_reply": "2021-08-17T07:48:46.591683Z",
     "shell.execute_reply.started": "2021-08-17T06:59:29.480001Z"
    },
    "papermill": {
     "duration": 0.053431,
     "end_time": "2021-08-17T07:48:46.591900",
     "exception": false,
     "start_time": "2021-08-17T07:48:46.538469",
     "status": "completed"
    },
    "tags": []
   },
   "outputs": [
    {
     "data": {
      "text/plain": [
       "(25893, 23)"
      ]
     },
     "execution_count": 14,
     "metadata": {},
     "output_type": "execute_result"
    }
   ],
   "source": [
    "test.shape"
   ]
  },
  {
   "cell_type": "code",
   "execution_count": 15,
   "id": "bd70c636",
   "metadata": {
    "execution": {
     "iopub.execute_input": "2021-08-17T07:48:46.685578Z",
     "iopub.status.busy": "2021-08-17T07:48:46.684940Z",
     "iopub.status.idle": "2021-08-17T07:48:46.710018Z",
     "shell.execute_reply": "2021-08-17T07:48:46.710572Z",
     "shell.execute_reply.started": "2021-08-17T06:59:29.493960Z"
    },
    "papermill": {
     "duration": 0.074188,
     "end_time": "2021-08-17T07:48:46.710856",
     "exception": false,
     "start_time": "2021-08-17T07:48:46.636668",
     "status": "completed"
    },
    "tags": []
   },
   "outputs": [
    {
     "data": {
      "text/html": [
       "<div>\n",
       "<style scoped>\n",
       "    .dataframe tbody tr th:only-of-type {\n",
       "        vertical-align: middle;\n",
       "    }\n",
       "\n",
       "    .dataframe tbody tr th {\n",
       "        vertical-align: top;\n",
       "    }\n",
       "\n",
       "    .dataframe thead th {\n",
       "        text-align: right;\n",
       "    }\n",
       "</style>\n",
       "<table border=\"1\" class=\"dataframe\">\n",
       "  <thead>\n",
       "    <tr style=\"text-align: right;\">\n",
       "      <th></th>\n",
       "      <th>Gender</th>\n",
       "      <th>Customer Type</th>\n",
       "      <th>Age</th>\n",
       "      <th>Type of Travel</th>\n",
       "      <th>Class</th>\n",
       "      <th>Flight Distance</th>\n",
       "      <th>Inflight wifi service</th>\n",
       "      <th>Departure/Arrival time convenient</th>\n",
       "      <th>Ease of Online booking</th>\n",
       "      <th>Gate location</th>\n",
       "      <th>...</th>\n",
       "      <th>Inflight entertainment</th>\n",
       "      <th>On-board service</th>\n",
       "      <th>Leg room service</th>\n",
       "      <th>Baggage handling</th>\n",
       "      <th>Checkin service</th>\n",
       "      <th>Inflight service</th>\n",
       "      <th>Cleanliness</th>\n",
       "      <th>Departure Delay in Minutes</th>\n",
       "      <th>Arrival Delay in Minutes</th>\n",
       "      <th>satisfaction</th>\n",
       "    </tr>\n",
       "  </thead>\n",
       "  <tbody>\n",
       "    <tr>\n",
       "      <th>0</th>\n",
       "      <td>1</td>\n",
       "      <td>1</td>\n",
       "      <td>13</td>\n",
       "      <td>Personal Travel</td>\n",
       "      <td>Eco Plus</td>\n",
       "      <td>460</td>\n",
       "      <td>3</td>\n",
       "      <td>4</td>\n",
       "      <td>3</td>\n",
       "      <td>1</td>\n",
       "      <td>...</td>\n",
       "      <td>5</td>\n",
       "      <td>4</td>\n",
       "      <td>3</td>\n",
       "      <td>4</td>\n",
       "      <td>4</td>\n",
       "      <td>5</td>\n",
       "      <td>5</td>\n",
       "      <td>25</td>\n",
       "      <td>18.0</td>\n",
       "      <td>neutral or dissatisfied</td>\n",
       "    </tr>\n",
       "    <tr>\n",
       "      <th>1</th>\n",
       "      <td>1</td>\n",
       "      <td>0</td>\n",
       "      <td>25</td>\n",
       "      <td>Business travel</td>\n",
       "      <td>Business</td>\n",
       "      <td>235</td>\n",
       "      <td>3</td>\n",
       "      <td>2</td>\n",
       "      <td>3</td>\n",
       "      <td>3</td>\n",
       "      <td>...</td>\n",
       "      <td>1</td>\n",
       "      <td>1</td>\n",
       "      <td>5</td>\n",
       "      <td>3</td>\n",
       "      <td>1</td>\n",
       "      <td>4</td>\n",
       "      <td>1</td>\n",
       "      <td>1</td>\n",
       "      <td>6.0</td>\n",
       "      <td>neutral or dissatisfied</td>\n",
       "    </tr>\n",
       "    <tr>\n",
       "      <th>2</th>\n",
       "      <td>0</td>\n",
       "      <td>1</td>\n",
       "      <td>26</td>\n",
       "      <td>Business travel</td>\n",
       "      <td>Business</td>\n",
       "      <td>1142</td>\n",
       "      <td>2</td>\n",
       "      <td>2</td>\n",
       "      <td>2</td>\n",
       "      <td>2</td>\n",
       "      <td>...</td>\n",
       "      <td>5</td>\n",
       "      <td>4</td>\n",
       "      <td>3</td>\n",
       "      <td>4</td>\n",
       "      <td>4</td>\n",
       "      <td>4</td>\n",
       "      <td>5</td>\n",
       "      <td>0</td>\n",
       "      <td>0.0</td>\n",
       "      <td>satisfied</td>\n",
       "    </tr>\n",
       "    <tr>\n",
       "      <th>3</th>\n",
       "      <td>0</td>\n",
       "      <td>1</td>\n",
       "      <td>25</td>\n",
       "      <td>Business travel</td>\n",
       "      <td>Business</td>\n",
       "      <td>562</td>\n",
       "      <td>2</td>\n",
       "      <td>5</td>\n",
       "      <td>5</td>\n",
       "      <td>5</td>\n",
       "      <td>...</td>\n",
       "      <td>2</td>\n",
       "      <td>2</td>\n",
       "      <td>5</td>\n",
       "      <td>3</td>\n",
       "      <td>1</td>\n",
       "      <td>4</td>\n",
       "      <td>2</td>\n",
       "      <td>11</td>\n",
       "      <td>9.0</td>\n",
       "      <td>neutral or dissatisfied</td>\n",
       "    </tr>\n",
       "    <tr>\n",
       "      <th>4</th>\n",
       "      <td>1</td>\n",
       "      <td>1</td>\n",
       "      <td>61</td>\n",
       "      <td>Business travel</td>\n",
       "      <td>Business</td>\n",
       "      <td>214</td>\n",
       "      <td>3</td>\n",
       "      <td>3</td>\n",
       "      <td>3</td>\n",
       "      <td>3</td>\n",
       "      <td>...</td>\n",
       "      <td>3</td>\n",
       "      <td>3</td>\n",
       "      <td>4</td>\n",
       "      <td>4</td>\n",
       "      <td>3</td>\n",
       "      <td>3</td>\n",
       "      <td>3</td>\n",
       "      <td>0</td>\n",
       "      <td>0.0</td>\n",
       "      <td>satisfied</td>\n",
       "    </tr>\n",
       "  </tbody>\n",
       "</table>\n",
       "<p>5 rows × 23 columns</p>\n",
       "</div>"
      ],
      "text/plain": [
       "   Gender  Customer Type  Age   Type of Travel     Class  Flight Distance  \\\n",
       "0       1              1   13  Personal Travel  Eco Plus              460   \n",
       "1       1              0   25  Business travel  Business              235   \n",
       "2       0              1   26  Business travel  Business             1142   \n",
       "3       0              1   25  Business travel  Business              562   \n",
       "4       1              1   61  Business travel  Business              214   \n",
       "\n",
       "   Inflight wifi service  Departure/Arrival time convenient  \\\n",
       "0                      3                                  4   \n",
       "1                      3                                  2   \n",
       "2                      2                                  2   \n",
       "3                      2                                  5   \n",
       "4                      3                                  3   \n",
       "\n",
       "   Ease of Online booking  Gate location  ...  Inflight entertainment  \\\n",
       "0                       3              1  ...                       5   \n",
       "1                       3              3  ...                       1   \n",
       "2                       2              2  ...                       5   \n",
       "3                       5              5  ...                       2   \n",
       "4                       3              3  ...                       3   \n",
       "\n",
       "   On-board service  Leg room service  Baggage handling  Checkin service  \\\n",
       "0                 4                 3                 4                4   \n",
       "1                 1                 5                 3                1   \n",
       "2                 4                 3                 4                4   \n",
       "3                 2                 5                 3                1   \n",
       "4                 3                 4                 4                3   \n",
       "\n",
       "   Inflight service  Cleanliness  Departure Delay in Minutes  \\\n",
       "0                 5            5                          25   \n",
       "1                 4            1                           1   \n",
       "2                 4            5                           0   \n",
       "3                 4            2                          11   \n",
       "4                 3            3                           0   \n",
       "\n",
       "   Arrival Delay in Minutes             satisfaction  \n",
       "0                      18.0  neutral or dissatisfied  \n",
       "1                       6.0  neutral or dissatisfied  \n",
       "2                       0.0                satisfied  \n",
       "3                       9.0  neutral or dissatisfied  \n",
       "4                       0.0                satisfied  \n",
       "\n",
       "[5 rows x 23 columns]"
      ]
     },
     "execution_count": 15,
     "metadata": {},
     "output_type": "execute_result"
    }
   ],
   "source": [
    "train.head()"
   ]
  },
  {
   "cell_type": "code",
   "execution_count": 16,
   "id": "7bbb2589",
   "metadata": {
    "execution": {
     "iopub.execute_input": "2021-08-17T07:48:46.807137Z",
     "iopub.status.busy": "2021-08-17T07:48:46.806402Z",
     "iopub.status.idle": "2021-08-17T07:48:46.861273Z",
     "shell.execute_reply": "2021-08-17T07:48:46.861801Z",
     "shell.execute_reply.started": "2021-08-17T06:59:29.525873Z"
    },
    "papermill": {
     "duration": 0.104639,
     "end_time": "2021-08-17T07:48:46.862033",
     "exception": false,
     "start_time": "2021-08-17T07:48:46.757394",
     "status": "completed"
    },
    "tags": []
   },
   "outputs": [
    {
     "name": "stdout",
     "output_type": "stream",
     "text": [
      "<class 'pandas.core.frame.DataFrame'>\n",
      "Int64Index: 103594 entries, 0 to 103903\n",
      "Data columns (total 23 columns):\n",
      " #   Column                             Non-Null Count   Dtype  \n",
      "---  ------                             --------------   -----  \n",
      " 0   Gender                             103594 non-null  int64  \n",
      " 1   Customer Type                      103594 non-null  int64  \n",
      " 2   Age                                103594 non-null  int64  \n",
      " 3   Type of Travel                     103594 non-null  object \n",
      " 4   Class                              103594 non-null  object \n",
      " 5   Flight Distance                    103594 non-null  int64  \n",
      " 6   Inflight wifi service              103594 non-null  int64  \n",
      " 7   Departure/Arrival time convenient  103594 non-null  int64  \n",
      " 8   Ease of Online booking             103594 non-null  int64  \n",
      " 9   Gate location                      103594 non-null  int64  \n",
      " 10  Food and drink                     103594 non-null  int64  \n",
      " 11  Online boarding                    103594 non-null  int64  \n",
      " 12  Seat comfort                       103594 non-null  int64  \n",
      " 13  Inflight entertainment             103594 non-null  int64  \n",
      " 14  On-board service                   103594 non-null  int64  \n",
      " 15  Leg room service                   103594 non-null  int64  \n",
      " 16  Baggage handling                   103594 non-null  int64  \n",
      " 17  Checkin service                    103594 non-null  int64  \n",
      " 18  Inflight service                   103594 non-null  int64  \n",
      " 19  Cleanliness                        103594 non-null  int64  \n",
      " 20  Departure Delay in Minutes         103594 non-null  int64  \n",
      " 21  Arrival Delay in Minutes           103594 non-null  float64\n",
      " 22  satisfaction                       103594 non-null  object \n",
      "dtypes: float64(1), int64(19), object(3)\n",
      "memory usage: 19.0+ MB\n"
     ]
    }
   ],
   "source": [
    "train.info()"
   ]
  },
  {
   "cell_type": "code",
   "execution_count": 17,
   "id": "25d948b8",
   "metadata": {
    "execution": {
     "iopub.execute_input": "2021-08-17T07:48:46.970633Z",
     "iopub.status.busy": "2021-08-17T07:48:46.969732Z",
     "iopub.status.idle": "2021-08-17T07:48:46.986546Z",
     "shell.execute_reply": "2021-08-17T07:48:46.987174Z",
     "shell.execute_reply.started": "2021-08-17T06:59:29.564706Z"
    },
    "papermill": {
     "duration": 0.078524,
     "end_time": "2021-08-17T07:48:46.987505",
     "exception": false,
     "start_time": "2021-08-17T07:48:46.908981",
     "status": "completed"
    },
    "tags": []
   },
   "outputs": [
    {
     "name": "stdout",
     "output_type": "stream",
     "text": [
      "<class 'pandas.core.frame.DataFrame'>\n",
      "Int64Index: 25893 entries, 0 to 25975\n",
      "Data columns (total 23 columns):\n",
      " #   Column                             Non-Null Count  Dtype  \n",
      "---  ------                             --------------  -----  \n",
      " 0   Gender                             25893 non-null  int64  \n",
      " 1   Customer Type                      25893 non-null  int64  \n",
      " 2   Age                                25893 non-null  int64  \n",
      " 3   Type of Travel                     25893 non-null  object \n",
      " 4   Class                              25893 non-null  object \n",
      " 5   Flight Distance                    25893 non-null  int64  \n",
      " 6   Inflight wifi service              25893 non-null  int64  \n",
      " 7   Departure/Arrival time convenient  25893 non-null  int64  \n",
      " 8   Ease of Online booking             25893 non-null  int64  \n",
      " 9   Gate location                      25893 non-null  int64  \n",
      " 10  Food and drink                     25893 non-null  int64  \n",
      " 11  Online boarding                    25893 non-null  int64  \n",
      " 12  Seat comfort                       25893 non-null  int64  \n",
      " 13  Inflight entertainment             25893 non-null  int64  \n",
      " 14  On-board service                   25893 non-null  int64  \n",
      " 15  Leg room service                   25893 non-null  int64  \n",
      " 16  Baggage handling                   25893 non-null  int64  \n",
      " 17  Checkin service                    25893 non-null  int64  \n",
      " 18  Inflight service                   25893 non-null  int64  \n",
      " 19  Cleanliness                        25893 non-null  int64  \n",
      " 20  Departure Delay in Minutes         25893 non-null  int64  \n",
      " 21  Arrival Delay in Minutes           25893 non-null  float64\n",
      " 22  satisfaction                       25893 non-null  object \n",
      "dtypes: float64(1), int64(19), object(3)\n",
      "memory usage: 4.7+ MB\n"
     ]
    }
   ],
   "source": [
    "test.info()"
   ]
  },
  {
   "cell_type": "code",
   "execution_count": 18,
   "id": "64802f41",
   "metadata": {
    "execution": {
     "iopub.execute_input": "2021-08-17T07:48:47.090461Z",
     "iopub.status.busy": "2021-08-17T07:48:47.089717Z",
     "iopub.status.idle": "2021-08-17T07:48:47.157901Z",
     "shell.execute_reply": "2021-08-17T07:48:47.157226Z",
     "shell.execute_reply.started": "2021-08-17T06:59:29.585583Z"
    },
    "papermill": {
     "duration": 0.12197,
     "end_time": "2021-08-17T07:48:47.158067",
     "exception": false,
     "start_time": "2021-08-17T07:48:47.036097",
     "status": "completed"
    },
    "tags": []
   },
   "outputs": [],
   "source": [
    "travel_dum = pd.get_dummies(train[[\"Type of Travel\"]],drop_first=True)\n",
    "class_dum = pd.get_dummies(train[[\"Class\"]],drop_first=True)\n",
    "train = pd.concat([train,travel_dum,class_dum],axis=1)"
   ]
  },
  {
   "cell_type": "code",
   "execution_count": 19,
   "id": "af08e0b3",
   "metadata": {
    "execution": {
     "iopub.execute_input": "2021-08-17T07:48:47.271508Z",
     "iopub.status.busy": "2021-08-17T07:48:47.269604Z",
     "iopub.status.idle": "2021-08-17T07:48:47.283141Z",
     "shell.execute_reply": "2021-08-17T07:48:47.282447Z",
     "shell.execute_reply.started": "2021-08-17T06:59:29.641699Z"
    },
    "papermill": {
     "duration": 0.077461,
     "end_time": "2021-08-17T07:48:47.283305",
     "exception": false,
     "start_time": "2021-08-17T07:48:47.205844",
     "status": "completed"
    },
    "tags": []
   },
   "outputs": [
    {
     "data": {
      "text/html": [
       "<div>\n",
       "<style scoped>\n",
       "    .dataframe tbody tr th:only-of-type {\n",
       "        vertical-align: middle;\n",
       "    }\n",
       "\n",
       "    .dataframe tbody tr th {\n",
       "        vertical-align: top;\n",
       "    }\n",
       "\n",
       "    .dataframe thead th {\n",
       "        text-align: right;\n",
       "    }\n",
       "</style>\n",
       "<table border=\"1\" class=\"dataframe\">\n",
       "  <thead>\n",
       "    <tr style=\"text-align: right;\">\n",
       "      <th></th>\n",
       "      <th>Gender</th>\n",
       "      <th>Customer Type</th>\n",
       "      <th>Age</th>\n",
       "      <th>Type of Travel</th>\n",
       "      <th>Class</th>\n",
       "      <th>Flight Distance</th>\n",
       "      <th>Inflight wifi service</th>\n",
       "      <th>Departure/Arrival time convenient</th>\n",
       "      <th>Ease of Online booking</th>\n",
       "      <th>Gate location</th>\n",
       "      <th>...</th>\n",
       "      <th>Baggage handling</th>\n",
       "      <th>Checkin service</th>\n",
       "      <th>Inflight service</th>\n",
       "      <th>Cleanliness</th>\n",
       "      <th>Departure Delay in Minutes</th>\n",
       "      <th>Arrival Delay in Minutes</th>\n",
       "      <th>satisfaction</th>\n",
       "      <th>Type of Travel_Personal Travel</th>\n",
       "      <th>Class_Eco</th>\n",
       "      <th>Class_Eco Plus</th>\n",
       "    </tr>\n",
       "  </thead>\n",
       "  <tbody>\n",
       "    <tr>\n",
       "      <th>0</th>\n",
       "      <td>1</td>\n",
       "      <td>1</td>\n",
       "      <td>13</td>\n",
       "      <td>Personal Travel</td>\n",
       "      <td>Eco Plus</td>\n",
       "      <td>460</td>\n",
       "      <td>3</td>\n",
       "      <td>4</td>\n",
       "      <td>3</td>\n",
       "      <td>1</td>\n",
       "      <td>...</td>\n",
       "      <td>4</td>\n",
       "      <td>4</td>\n",
       "      <td>5</td>\n",
       "      <td>5</td>\n",
       "      <td>25</td>\n",
       "      <td>18.0</td>\n",
       "      <td>neutral or dissatisfied</td>\n",
       "      <td>1</td>\n",
       "      <td>0</td>\n",
       "      <td>1</td>\n",
       "    </tr>\n",
       "    <tr>\n",
       "      <th>1</th>\n",
       "      <td>1</td>\n",
       "      <td>0</td>\n",
       "      <td>25</td>\n",
       "      <td>Business travel</td>\n",
       "      <td>Business</td>\n",
       "      <td>235</td>\n",
       "      <td>3</td>\n",
       "      <td>2</td>\n",
       "      <td>3</td>\n",
       "      <td>3</td>\n",
       "      <td>...</td>\n",
       "      <td>3</td>\n",
       "      <td>1</td>\n",
       "      <td>4</td>\n",
       "      <td>1</td>\n",
       "      <td>1</td>\n",
       "      <td>6.0</td>\n",
       "      <td>neutral or dissatisfied</td>\n",
       "      <td>0</td>\n",
       "      <td>0</td>\n",
       "      <td>0</td>\n",
       "    </tr>\n",
       "    <tr>\n",
       "      <th>2</th>\n",
       "      <td>0</td>\n",
       "      <td>1</td>\n",
       "      <td>26</td>\n",
       "      <td>Business travel</td>\n",
       "      <td>Business</td>\n",
       "      <td>1142</td>\n",
       "      <td>2</td>\n",
       "      <td>2</td>\n",
       "      <td>2</td>\n",
       "      <td>2</td>\n",
       "      <td>...</td>\n",
       "      <td>4</td>\n",
       "      <td>4</td>\n",
       "      <td>4</td>\n",
       "      <td>5</td>\n",
       "      <td>0</td>\n",
       "      <td>0.0</td>\n",
       "      <td>satisfied</td>\n",
       "      <td>0</td>\n",
       "      <td>0</td>\n",
       "      <td>0</td>\n",
       "    </tr>\n",
       "    <tr>\n",
       "      <th>3</th>\n",
       "      <td>0</td>\n",
       "      <td>1</td>\n",
       "      <td>25</td>\n",
       "      <td>Business travel</td>\n",
       "      <td>Business</td>\n",
       "      <td>562</td>\n",
       "      <td>2</td>\n",
       "      <td>5</td>\n",
       "      <td>5</td>\n",
       "      <td>5</td>\n",
       "      <td>...</td>\n",
       "      <td>3</td>\n",
       "      <td>1</td>\n",
       "      <td>4</td>\n",
       "      <td>2</td>\n",
       "      <td>11</td>\n",
       "      <td>9.0</td>\n",
       "      <td>neutral or dissatisfied</td>\n",
       "      <td>0</td>\n",
       "      <td>0</td>\n",
       "      <td>0</td>\n",
       "    </tr>\n",
       "    <tr>\n",
       "      <th>4</th>\n",
       "      <td>1</td>\n",
       "      <td>1</td>\n",
       "      <td>61</td>\n",
       "      <td>Business travel</td>\n",
       "      <td>Business</td>\n",
       "      <td>214</td>\n",
       "      <td>3</td>\n",
       "      <td>3</td>\n",
       "      <td>3</td>\n",
       "      <td>3</td>\n",
       "      <td>...</td>\n",
       "      <td>4</td>\n",
       "      <td>3</td>\n",
       "      <td>3</td>\n",
       "      <td>3</td>\n",
       "      <td>0</td>\n",
       "      <td>0.0</td>\n",
       "      <td>satisfied</td>\n",
       "      <td>0</td>\n",
       "      <td>0</td>\n",
       "      <td>0</td>\n",
       "    </tr>\n",
       "  </tbody>\n",
       "</table>\n",
       "<p>5 rows × 26 columns</p>\n",
       "</div>"
      ],
      "text/plain": [
       "   Gender  Customer Type  Age   Type of Travel     Class  Flight Distance  \\\n",
       "0       1              1   13  Personal Travel  Eco Plus              460   \n",
       "1       1              0   25  Business travel  Business              235   \n",
       "2       0              1   26  Business travel  Business             1142   \n",
       "3       0              1   25  Business travel  Business              562   \n",
       "4       1              1   61  Business travel  Business              214   \n",
       "\n",
       "   Inflight wifi service  Departure/Arrival time convenient  \\\n",
       "0                      3                                  4   \n",
       "1                      3                                  2   \n",
       "2                      2                                  2   \n",
       "3                      2                                  5   \n",
       "4                      3                                  3   \n",
       "\n",
       "   Ease of Online booking  Gate location  ...  Baggage handling  \\\n",
       "0                       3              1  ...                 4   \n",
       "1                       3              3  ...                 3   \n",
       "2                       2              2  ...                 4   \n",
       "3                       5              5  ...                 3   \n",
       "4                       3              3  ...                 4   \n",
       "\n",
       "   Checkin service  Inflight service  Cleanliness  Departure Delay in Minutes  \\\n",
       "0                4                 5            5                          25   \n",
       "1                1                 4            1                           1   \n",
       "2                4                 4            5                           0   \n",
       "3                1                 4            2                          11   \n",
       "4                3                 3            3                           0   \n",
       "\n",
       "   Arrival Delay in Minutes             satisfaction  \\\n",
       "0                      18.0  neutral or dissatisfied   \n",
       "1                       6.0  neutral or dissatisfied   \n",
       "2                       0.0                satisfied   \n",
       "3                       9.0  neutral or dissatisfied   \n",
       "4                       0.0                satisfied   \n",
       "\n",
       "   Type of Travel_Personal Travel  Class_Eco  Class_Eco Plus  \n",
       "0                               1          0               1  \n",
       "1                               0          0               0  \n",
       "2                               0          0               0  \n",
       "3                               0          0               0  \n",
       "4                               0          0               0  \n",
       "\n",
       "[5 rows x 26 columns]"
      ]
     },
     "execution_count": 19,
     "metadata": {},
     "output_type": "execute_result"
    }
   ],
   "source": [
    "train.head()"
   ]
  },
  {
   "cell_type": "code",
   "execution_count": 20,
   "id": "38ab3650",
   "metadata": {
    "execution": {
     "iopub.execute_input": "2021-08-17T07:48:47.385899Z",
     "iopub.status.busy": "2021-08-17T07:48:47.385171Z",
     "iopub.status.idle": "2021-08-17T07:48:47.409237Z",
     "shell.execute_reply": "2021-08-17T07:48:47.408396Z",
     "shell.execute_reply.started": "2021-08-17T06:59:29.665489Z"
    },
    "papermill": {
     "duration": 0.07854,
     "end_time": "2021-08-17T07:48:47.409410",
     "exception": false,
     "start_time": "2021-08-17T07:48:47.330870",
     "status": "completed"
    },
    "tags": []
   },
   "outputs": [],
   "source": [
    "travel_dum = pd.get_dummies(test[[\"Type of Travel\"]],drop_first=True)\n",
    "class_dum = pd.get_dummies(test[[\"Class\"]],drop_first=True)\n",
    "test = pd.concat([test,travel_dum,class_dum],axis=1)"
   ]
  },
  {
   "cell_type": "code",
   "execution_count": 21,
   "id": "4c237fc7",
   "metadata": {
    "execution": {
     "iopub.execute_input": "2021-08-17T07:48:47.519622Z",
     "iopub.status.busy": "2021-08-17T07:48:47.514629Z",
     "iopub.status.idle": "2021-08-17T07:48:47.536053Z",
     "shell.execute_reply": "2021-08-17T07:48:47.535425Z",
     "shell.execute_reply.started": "2021-08-17T06:59:29.691124Z"
    },
    "papermill": {
     "duration": 0.078848,
     "end_time": "2021-08-17T07:48:47.536218",
     "exception": false,
     "start_time": "2021-08-17T07:48:47.457370",
     "status": "completed"
    },
    "tags": []
   },
   "outputs": [
    {
     "data": {
      "text/html": [
       "<div>\n",
       "<style scoped>\n",
       "    .dataframe tbody tr th:only-of-type {\n",
       "        vertical-align: middle;\n",
       "    }\n",
       "\n",
       "    .dataframe tbody tr th {\n",
       "        vertical-align: top;\n",
       "    }\n",
       "\n",
       "    .dataframe thead th {\n",
       "        text-align: right;\n",
       "    }\n",
       "</style>\n",
       "<table border=\"1\" class=\"dataframe\">\n",
       "  <thead>\n",
       "    <tr style=\"text-align: right;\">\n",
       "      <th></th>\n",
       "      <th>Gender</th>\n",
       "      <th>Customer Type</th>\n",
       "      <th>Age</th>\n",
       "      <th>Type of Travel</th>\n",
       "      <th>Class</th>\n",
       "      <th>Flight Distance</th>\n",
       "      <th>Inflight wifi service</th>\n",
       "      <th>Departure/Arrival time convenient</th>\n",
       "      <th>Ease of Online booking</th>\n",
       "      <th>Gate location</th>\n",
       "      <th>...</th>\n",
       "      <th>Baggage handling</th>\n",
       "      <th>Checkin service</th>\n",
       "      <th>Inflight service</th>\n",
       "      <th>Cleanliness</th>\n",
       "      <th>Departure Delay in Minutes</th>\n",
       "      <th>Arrival Delay in Minutes</th>\n",
       "      <th>satisfaction</th>\n",
       "      <th>Type of Travel_Personal Travel</th>\n",
       "      <th>Class_Eco</th>\n",
       "      <th>Class_Eco Plus</th>\n",
       "    </tr>\n",
       "  </thead>\n",
       "  <tbody>\n",
       "    <tr>\n",
       "      <th>0</th>\n",
       "      <td>0</td>\n",
       "      <td>1</td>\n",
       "      <td>52</td>\n",
       "      <td>Business travel</td>\n",
       "      <td>Eco</td>\n",
       "      <td>160</td>\n",
       "      <td>5</td>\n",
       "      <td>4</td>\n",
       "      <td>3</td>\n",
       "      <td>4</td>\n",
       "      <td>...</td>\n",
       "      <td>5</td>\n",
       "      <td>2</td>\n",
       "      <td>5</td>\n",
       "      <td>5</td>\n",
       "      <td>50</td>\n",
       "      <td>44.0</td>\n",
       "      <td>satisfied</td>\n",
       "      <td>0</td>\n",
       "      <td>1</td>\n",
       "      <td>0</td>\n",
       "    </tr>\n",
       "    <tr>\n",
       "      <th>1</th>\n",
       "      <td>0</td>\n",
       "      <td>1</td>\n",
       "      <td>36</td>\n",
       "      <td>Business travel</td>\n",
       "      <td>Business</td>\n",
       "      <td>2863</td>\n",
       "      <td>1</td>\n",
       "      <td>1</td>\n",
       "      <td>3</td>\n",
       "      <td>1</td>\n",
       "      <td>...</td>\n",
       "      <td>4</td>\n",
       "      <td>3</td>\n",
       "      <td>4</td>\n",
       "      <td>5</td>\n",
       "      <td>0</td>\n",
       "      <td>0.0</td>\n",
       "      <td>satisfied</td>\n",
       "      <td>0</td>\n",
       "      <td>0</td>\n",
       "      <td>0</td>\n",
       "    </tr>\n",
       "    <tr>\n",
       "      <th>2</th>\n",
       "      <td>1</td>\n",
       "      <td>0</td>\n",
       "      <td>20</td>\n",
       "      <td>Business travel</td>\n",
       "      <td>Eco</td>\n",
       "      <td>192</td>\n",
       "      <td>2</td>\n",
       "      <td>0</td>\n",
       "      <td>2</td>\n",
       "      <td>4</td>\n",
       "      <td>...</td>\n",
       "      <td>3</td>\n",
       "      <td>2</td>\n",
       "      <td>2</td>\n",
       "      <td>2</td>\n",
       "      <td>0</td>\n",
       "      <td>0.0</td>\n",
       "      <td>neutral or dissatisfied</td>\n",
       "      <td>0</td>\n",
       "      <td>1</td>\n",
       "      <td>0</td>\n",
       "    </tr>\n",
       "    <tr>\n",
       "      <th>3</th>\n",
       "      <td>1</td>\n",
       "      <td>1</td>\n",
       "      <td>44</td>\n",
       "      <td>Business travel</td>\n",
       "      <td>Business</td>\n",
       "      <td>3377</td>\n",
       "      <td>0</td>\n",
       "      <td>0</td>\n",
       "      <td>0</td>\n",
       "      <td>2</td>\n",
       "      <td>...</td>\n",
       "      <td>1</td>\n",
       "      <td>3</td>\n",
       "      <td>1</td>\n",
       "      <td>4</td>\n",
       "      <td>0</td>\n",
       "      <td>6.0</td>\n",
       "      <td>satisfied</td>\n",
       "      <td>0</td>\n",
       "      <td>0</td>\n",
       "      <td>0</td>\n",
       "    </tr>\n",
       "    <tr>\n",
       "      <th>4</th>\n",
       "      <td>0</td>\n",
       "      <td>1</td>\n",
       "      <td>49</td>\n",
       "      <td>Business travel</td>\n",
       "      <td>Eco</td>\n",
       "      <td>1182</td>\n",
       "      <td>2</td>\n",
       "      <td>3</td>\n",
       "      <td>4</td>\n",
       "      <td>3</td>\n",
       "      <td>...</td>\n",
       "      <td>2</td>\n",
       "      <td>4</td>\n",
       "      <td>2</td>\n",
       "      <td>4</td>\n",
       "      <td>0</td>\n",
       "      <td>20.0</td>\n",
       "      <td>satisfied</td>\n",
       "      <td>0</td>\n",
       "      <td>1</td>\n",
       "      <td>0</td>\n",
       "    </tr>\n",
       "  </tbody>\n",
       "</table>\n",
       "<p>5 rows × 26 columns</p>\n",
       "</div>"
      ],
      "text/plain": [
       "   Gender  Customer Type  Age   Type of Travel     Class  Flight Distance  \\\n",
       "0       0              1   52  Business travel       Eco              160   \n",
       "1       0              1   36  Business travel  Business             2863   \n",
       "2       1              0   20  Business travel       Eco              192   \n",
       "3       1              1   44  Business travel  Business             3377   \n",
       "4       0              1   49  Business travel       Eco             1182   \n",
       "\n",
       "   Inflight wifi service  Departure/Arrival time convenient  \\\n",
       "0                      5                                  4   \n",
       "1                      1                                  1   \n",
       "2                      2                                  0   \n",
       "3                      0                                  0   \n",
       "4                      2                                  3   \n",
       "\n",
       "   Ease of Online booking  Gate location  ...  Baggage handling  \\\n",
       "0                       3              4  ...                 5   \n",
       "1                       3              1  ...                 4   \n",
       "2                       2              4  ...                 3   \n",
       "3                       0              2  ...                 1   \n",
       "4                       4              3  ...                 2   \n",
       "\n",
       "   Checkin service  Inflight service  Cleanliness  Departure Delay in Minutes  \\\n",
       "0                2                 5            5                          50   \n",
       "1                3                 4            5                           0   \n",
       "2                2                 2            2                           0   \n",
       "3                3                 1            4                           0   \n",
       "4                4                 2            4                           0   \n",
       "\n",
       "   Arrival Delay in Minutes             satisfaction  \\\n",
       "0                      44.0                satisfied   \n",
       "1                       0.0                satisfied   \n",
       "2                       0.0  neutral or dissatisfied   \n",
       "3                       6.0                satisfied   \n",
       "4                      20.0                satisfied   \n",
       "\n",
       "   Type of Travel_Personal Travel  Class_Eco  Class_Eco Plus  \n",
       "0                               0          1               0  \n",
       "1                               0          0               0  \n",
       "2                               0          1               0  \n",
       "3                               0          0               0  \n",
       "4                               0          1               0  \n",
       "\n",
       "[5 rows x 26 columns]"
      ]
     },
     "execution_count": 21,
     "metadata": {},
     "output_type": "execute_result"
    }
   ],
   "source": [
    "test.head()"
   ]
  },
  {
   "cell_type": "code",
   "execution_count": 22,
   "id": "e5d9f4f0",
   "metadata": {
    "execution": {
     "iopub.execute_input": "2021-08-17T07:48:47.640528Z",
     "iopub.status.busy": "2021-08-17T07:48:47.639764Z",
     "iopub.status.idle": "2021-08-17T07:48:47.678997Z",
     "shell.execute_reply": "2021-08-17T07:48:47.678337Z",
     "shell.execute_reply.started": "2021-08-17T06:59:29.718203Z"
    },
    "papermill": {
     "duration": 0.093887,
     "end_time": "2021-08-17T07:48:47.679164",
     "exception": false,
     "start_time": "2021-08-17T07:48:47.585277",
     "status": "completed"
    },
    "tags": []
   },
   "outputs": [],
   "source": [
    "train.drop([\"Type of Travel\",\"Class\"],axis=1,inplace=True)"
   ]
  },
  {
   "cell_type": "code",
   "execution_count": 23,
   "id": "b36c7cc7",
   "metadata": {
    "execution": {
     "iopub.execute_input": "2021-08-17T07:48:47.783996Z",
     "iopub.status.busy": "2021-08-17T07:48:47.783179Z",
     "iopub.status.idle": "2021-08-17T07:48:47.792696Z",
     "shell.execute_reply": "2021-08-17T07:48:47.791987Z",
     "shell.execute_reply.started": "2021-08-17T06:59:29.748110Z"
    },
    "papermill": {
     "duration": 0.064597,
     "end_time": "2021-08-17T07:48:47.792876",
     "exception": false,
     "start_time": "2021-08-17T07:48:47.728279",
     "status": "completed"
    },
    "tags": []
   },
   "outputs": [],
   "source": [
    "test.drop([\"Type of Travel\",\"Class\"],axis=1,inplace=True)"
   ]
  },
  {
   "cell_type": "code",
   "execution_count": 24,
   "id": "fd399fbe",
   "metadata": {
    "execution": {
     "iopub.execute_input": "2021-08-17T07:48:47.898979Z",
     "iopub.status.busy": "2021-08-17T07:48:47.898170Z",
     "iopub.status.idle": "2021-08-17T07:48:47.916463Z",
     "shell.execute_reply": "2021-08-17T07:48:47.917070Z",
     "shell.execute_reply.started": "2021-08-17T06:59:29.758675Z"
    },
    "papermill": {
     "duration": 0.075581,
     "end_time": "2021-08-17T07:48:47.917302",
     "exception": false,
     "start_time": "2021-08-17T07:48:47.841721",
     "status": "completed"
    },
    "tags": []
   },
   "outputs": [
    {
     "data": {
      "text/html": [
       "<div>\n",
       "<style scoped>\n",
       "    .dataframe tbody tr th:only-of-type {\n",
       "        vertical-align: middle;\n",
       "    }\n",
       "\n",
       "    .dataframe tbody tr th {\n",
       "        vertical-align: top;\n",
       "    }\n",
       "\n",
       "    .dataframe thead th {\n",
       "        text-align: right;\n",
       "    }\n",
       "</style>\n",
       "<table border=\"1\" class=\"dataframe\">\n",
       "  <thead>\n",
       "    <tr style=\"text-align: right;\">\n",
       "      <th></th>\n",
       "      <th>Gender</th>\n",
       "      <th>Customer Type</th>\n",
       "      <th>Age</th>\n",
       "      <th>Flight Distance</th>\n",
       "      <th>Inflight wifi service</th>\n",
       "      <th>Departure/Arrival time convenient</th>\n",
       "      <th>Ease of Online booking</th>\n",
       "      <th>Gate location</th>\n",
       "      <th>Food and drink</th>\n",
       "      <th>Online boarding</th>\n",
       "      <th>...</th>\n",
       "      <th>Baggage handling</th>\n",
       "      <th>Checkin service</th>\n",
       "      <th>Inflight service</th>\n",
       "      <th>Cleanliness</th>\n",
       "      <th>Departure Delay in Minutes</th>\n",
       "      <th>Arrival Delay in Minutes</th>\n",
       "      <th>satisfaction</th>\n",
       "      <th>Type of Travel_Personal Travel</th>\n",
       "      <th>Class_Eco</th>\n",
       "      <th>Class_Eco Plus</th>\n",
       "    </tr>\n",
       "  </thead>\n",
       "  <tbody>\n",
       "    <tr>\n",
       "      <th>0</th>\n",
       "      <td>1</td>\n",
       "      <td>1</td>\n",
       "      <td>13</td>\n",
       "      <td>460</td>\n",
       "      <td>3</td>\n",
       "      <td>4</td>\n",
       "      <td>3</td>\n",
       "      <td>1</td>\n",
       "      <td>5</td>\n",
       "      <td>3</td>\n",
       "      <td>...</td>\n",
       "      <td>4</td>\n",
       "      <td>4</td>\n",
       "      <td>5</td>\n",
       "      <td>5</td>\n",
       "      <td>25</td>\n",
       "      <td>18.0</td>\n",
       "      <td>neutral or dissatisfied</td>\n",
       "      <td>1</td>\n",
       "      <td>0</td>\n",
       "      <td>1</td>\n",
       "    </tr>\n",
       "    <tr>\n",
       "      <th>1</th>\n",
       "      <td>1</td>\n",
       "      <td>0</td>\n",
       "      <td>25</td>\n",
       "      <td>235</td>\n",
       "      <td>3</td>\n",
       "      <td>2</td>\n",
       "      <td>3</td>\n",
       "      <td>3</td>\n",
       "      <td>1</td>\n",
       "      <td>3</td>\n",
       "      <td>...</td>\n",
       "      <td>3</td>\n",
       "      <td>1</td>\n",
       "      <td>4</td>\n",
       "      <td>1</td>\n",
       "      <td>1</td>\n",
       "      <td>6.0</td>\n",
       "      <td>neutral or dissatisfied</td>\n",
       "      <td>0</td>\n",
       "      <td>0</td>\n",
       "      <td>0</td>\n",
       "    </tr>\n",
       "    <tr>\n",
       "      <th>2</th>\n",
       "      <td>0</td>\n",
       "      <td>1</td>\n",
       "      <td>26</td>\n",
       "      <td>1142</td>\n",
       "      <td>2</td>\n",
       "      <td>2</td>\n",
       "      <td>2</td>\n",
       "      <td>2</td>\n",
       "      <td>5</td>\n",
       "      <td>5</td>\n",
       "      <td>...</td>\n",
       "      <td>4</td>\n",
       "      <td>4</td>\n",
       "      <td>4</td>\n",
       "      <td>5</td>\n",
       "      <td>0</td>\n",
       "      <td>0.0</td>\n",
       "      <td>satisfied</td>\n",
       "      <td>0</td>\n",
       "      <td>0</td>\n",
       "      <td>0</td>\n",
       "    </tr>\n",
       "    <tr>\n",
       "      <th>3</th>\n",
       "      <td>0</td>\n",
       "      <td>1</td>\n",
       "      <td>25</td>\n",
       "      <td>562</td>\n",
       "      <td>2</td>\n",
       "      <td>5</td>\n",
       "      <td>5</td>\n",
       "      <td>5</td>\n",
       "      <td>2</td>\n",
       "      <td>2</td>\n",
       "      <td>...</td>\n",
       "      <td>3</td>\n",
       "      <td>1</td>\n",
       "      <td>4</td>\n",
       "      <td>2</td>\n",
       "      <td>11</td>\n",
       "      <td>9.0</td>\n",
       "      <td>neutral or dissatisfied</td>\n",
       "      <td>0</td>\n",
       "      <td>0</td>\n",
       "      <td>0</td>\n",
       "    </tr>\n",
       "    <tr>\n",
       "      <th>4</th>\n",
       "      <td>1</td>\n",
       "      <td>1</td>\n",
       "      <td>61</td>\n",
       "      <td>214</td>\n",
       "      <td>3</td>\n",
       "      <td>3</td>\n",
       "      <td>3</td>\n",
       "      <td>3</td>\n",
       "      <td>4</td>\n",
       "      <td>5</td>\n",
       "      <td>...</td>\n",
       "      <td>4</td>\n",
       "      <td>3</td>\n",
       "      <td>3</td>\n",
       "      <td>3</td>\n",
       "      <td>0</td>\n",
       "      <td>0.0</td>\n",
       "      <td>satisfied</td>\n",
       "      <td>0</td>\n",
       "      <td>0</td>\n",
       "      <td>0</td>\n",
       "    </tr>\n",
       "  </tbody>\n",
       "</table>\n",
       "<p>5 rows × 24 columns</p>\n",
       "</div>"
      ],
      "text/plain": [
       "   Gender  Customer Type  Age  Flight Distance  Inflight wifi service  \\\n",
       "0       1              1   13              460                      3   \n",
       "1       1              0   25              235                      3   \n",
       "2       0              1   26             1142                      2   \n",
       "3       0              1   25              562                      2   \n",
       "4       1              1   61              214                      3   \n",
       "\n",
       "   Departure/Arrival time convenient  Ease of Online booking  Gate location  \\\n",
       "0                                  4                       3              1   \n",
       "1                                  2                       3              3   \n",
       "2                                  2                       2              2   \n",
       "3                                  5                       5              5   \n",
       "4                                  3                       3              3   \n",
       "\n",
       "   Food and drink  Online boarding  ...  Baggage handling  Checkin service  \\\n",
       "0               5                3  ...                 4                4   \n",
       "1               1                3  ...                 3                1   \n",
       "2               5                5  ...                 4                4   \n",
       "3               2                2  ...                 3                1   \n",
       "4               4                5  ...                 4                3   \n",
       "\n",
       "   Inflight service  Cleanliness  Departure Delay in Minutes  \\\n",
       "0                 5            5                          25   \n",
       "1                 4            1                           1   \n",
       "2                 4            5                           0   \n",
       "3                 4            2                          11   \n",
       "4                 3            3                           0   \n",
       "\n",
       "   Arrival Delay in Minutes             satisfaction  \\\n",
       "0                      18.0  neutral or dissatisfied   \n",
       "1                       6.0  neutral or dissatisfied   \n",
       "2                       0.0                satisfied   \n",
       "3                       9.0  neutral or dissatisfied   \n",
       "4                       0.0                satisfied   \n",
       "\n",
       "   Type of Travel_Personal Travel  Class_Eco  Class_Eco Plus  \n",
       "0                               1          0               1  \n",
       "1                               0          0               0  \n",
       "2                               0          0               0  \n",
       "3                               0          0               0  \n",
       "4                               0          0               0  \n",
       "\n",
       "[5 rows x 24 columns]"
      ]
     },
     "execution_count": 24,
     "metadata": {},
     "output_type": "execute_result"
    }
   ],
   "source": [
    "train.head()"
   ]
  },
  {
   "cell_type": "code",
   "execution_count": 25,
   "id": "db726160",
   "metadata": {
    "execution": {
     "iopub.execute_input": "2021-08-17T07:48:48.021386Z",
     "iopub.status.busy": "2021-08-17T07:48:48.020633Z",
     "iopub.status.idle": "2021-08-17T07:48:48.042517Z",
     "shell.execute_reply": "2021-08-17T07:48:48.043020Z",
     "shell.execute_reply.started": "2021-08-17T06:59:29.780630Z"
    },
    "papermill": {
     "duration": 0.075366,
     "end_time": "2021-08-17T07:48:48.043244",
     "exception": false,
     "start_time": "2021-08-17T07:48:47.967878",
     "status": "completed"
    },
    "tags": []
   },
   "outputs": [
    {
     "data": {
      "text/html": [
       "<div>\n",
       "<style scoped>\n",
       "    .dataframe tbody tr th:only-of-type {\n",
       "        vertical-align: middle;\n",
       "    }\n",
       "\n",
       "    .dataframe tbody tr th {\n",
       "        vertical-align: top;\n",
       "    }\n",
       "\n",
       "    .dataframe thead th {\n",
       "        text-align: right;\n",
       "    }\n",
       "</style>\n",
       "<table border=\"1\" class=\"dataframe\">\n",
       "  <thead>\n",
       "    <tr style=\"text-align: right;\">\n",
       "      <th></th>\n",
       "      <th>Gender</th>\n",
       "      <th>Customer Type</th>\n",
       "      <th>Age</th>\n",
       "      <th>Flight Distance</th>\n",
       "      <th>Inflight wifi service</th>\n",
       "      <th>Departure/Arrival time convenient</th>\n",
       "      <th>Ease of Online booking</th>\n",
       "      <th>Gate location</th>\n",
       "      <th>Food and drink</th>\n",
       "      <th>Online boarding</th>\n",
       "      <th>...</th>\n",
       "      <th>Baggage handling</th>\n",
       "      <th>Checkin service</th>\n",
       "      <th>Inflight service</th>\n",
       "      <th>Cleanliness</th>\n",
       "      <th>Departure Delay in Minutes</th>\n",
       "      <th>Arrival Delay in Minutes</th>\n",
       "      <th>satisfaction</th>\n",
       "      <th>Type of Travel_Personal Travel</th>\n",
       "      <th>Class_Eco</th>\n",
       "      <th>Class_Eco Plus</th>\n",
       "    </tr>\n",
       "  </thead>\n",
       "  <tbody>\n",
       "    <tr>\n",
       "      <th>0</th>\n",
       "      <td>0</td>\n",
       "      <td>1</td>\n",
       "      <td>52</td>\n",
       "      <td>160</td>\n",
       "      <td>5</td>\n",
       "      <td>4</td>\n",
       "      <td>3</td>\n",
       "      <td>4</td>\n",
       "      <td>3</td>\n",
       "      <td>4</td>\n",
       "      <td>...</td>\n",
       "      <td>5</td>\n",
       "      <td>2</td>\n",
       "      <td>5</td>\n",
       "      <td>5</td>\n",
       "      <td>50</td>\n",
       "      <td>44.0</td>\n",
       "      <td>satisfied</td>\n",
       "      <td>0</td>\n",
       "      <td>1</td>\n",
       "      <td>0</td>\n",
       "    </tr>\n",
       "    <tr>\n",
       "      <th>1</th>\n",
       "      <td>0</td>\n",
       "      <td>1</td>\n",
       "      <td>36</td>\n",
       "      <td>2863</td>\n",
       "      <td>1</td>\n",
       "      <td>1</td>\n",
       "      <td>3</td>\n",
       "      <td>1</td>\n",
       "      <td>5</td>\n",
       "      <td>4</td>\n",
       "      <td>...</td>\n",
       "      <td>4</td>\n",
       "      <td>3</td>\n",
       "      <td>4</td>\n",
       "      <td>5</td>\n",
       "      <td>0</td>\n",
       "      <td>0.0</td>\n",
       "      <td>satisfied</td>\n",
       "      <td>0</td>\n",
       "      <td>0</td>\n",
       "      <td>0</td>\n",
       "    </tr>\n",
       "    <tr>\n",
       "      <th>2</th>\n",
       "      <td>1</td>\n",
       "      <td>0</td>\n",
       "      <td>20</td>\n",
       "      <td>192</td>\n",
       "      <td>2</td>\n",
       "      <td>0</td>\n",
       "      <td>2</td>\n",
       "      <td>4</td>\n",
       "      <td>2</td>\n",
       "      <td>2</td>\n",
       "      <td>...</td>\n",
       "      <td>3</td>\n",
       "      <td>2</td>\n",
       "      <td>2</td>\n",
       "      <td>2</td>\n",
       "      <td>0</td>\n",
       "      <td>0.0</td>\n",
       "      <td>neutral or dissatisfied</td>\n",
       "      <td>0</td>\n",
       "      <td>1</td>\n",
       "      <td>0</td>\n",
       "    </tr>\n",
       "    <tr>\n",
       "      <th>3</th>\n",
       "      <td>1</td>\n",
       "      <td>1</td>\n",
       "      <td>44</td>\n",
       "      <td>3377</td>\n",
       "      <td>0</td>\n",
       "      <td>0</td>\n",
       "      <td>0</td>\n",
       "      <td>2</td>\n",
       "      <td>3</td>\n",
       "      <td>4</td>\n",
       "      <td>...</td>\n",
       "      <td>1</td>\n",
       "      <td>3</td>\n",
       "      <td>1</td>\n",
       "      <td>4</td>\n",
       "      <td>0</td>\n",
       "      <td>6.0</td>\n",
       "      <td>satisfied</td>\n",
       "      <td>0</td>\n",
       "      <td>0</td>\n",
       "      <td>0</td>\n",
       "    </tr>\n",
       "    <tr>\n",
       "      <th>4</th>\n",
       "      <td>0</td>\n",
       "      <td>1</td>\n",
       "      <td>49</td>\n",
       "      <td>1182</td>\n",
       "      <td>2</td>\n",
       "      <td>3</td>\n",
       "      <td>4</td>\n",
       "      <td>3</td>\n",
       "      <td>4</td>\n",
       "      <td>1</td>\n",
       "      <td>...</td>\n",
       "      <td>2</td>\n",
       "      <td>4</td>\n",
       "      <td>2</td>\n",
       "      <td>4</td>\n",
       "      <td>0</td>\n",
       "      <td>20.0</td>\n",
       "      <td>satisfied</td>\n",
       "      <td>0</td>\n",
       "      <td>1</td>\n",
       "      <td>0</td>\n",
       "    </tr>\n",
       "  </tbody>\n",
       "</table>\n",
       "<p>5 rows × 24 columns</p>\n",
       "</div>"
      ],
      "text/plain": [
       "   Gender  Customer Type  Age  Flight Distance  Inflight wifi service  \\\n",
       "0       0              1   52              160                      5   \n",
       "1       0              1   36             2863                      1   \n",
       "2       1              0   20              192                      2   \n",
       "3       1              1   44             3377                      0   \n",
       "4       0              1   49             1182                      2   \n",
       "\n",
       "   Departure/Arrival time convenient  Ease of Online booking  Gate location  \\\n",
       "0                                  4                       3              4   \n",
       "1                                  1                       3              1   \n",
       "2                                  0                       2              4   \n",
       "3                                  0                       0              2   \n",
       "4                                  3                       4              3   \n",
       "\n",
       "   Food and drink  Online boarding  ...  Baggage handling  Checkin service  \\\n",
       "0               3                4  ...                 5                2   \n",
       "1               5                4  ...                 4                3   \n",
       "2               2                2  ...                 3                2   \n",
       "3               3                4  ...                 1                3   \n",
       "4               4                1  ...                 2                4   \n",
       "\n",
       "   Inflight service  Cleanliness  Departure Delay in Minutes  \\\n",
       "0                 5            5                          50   \n",
       "1                 4            5                           0   \n",
       "2                 2            2                           0   \n",
       "3                 1            4                           0   \n",
       "4                 2            4                           0   \n",
       "\n",
       "   Arrival Delay in Minutes             satisfaction  \\\n",
       "0                      44.0                satisfied   \n",
       "1                       0.0                satisfied   \n",
       "2                       0.0  neutral or dissatisfied   \n",
       "3                       6.0                satisfied   \n",
       "4                      20.0                satisfied   \n",
       "\n",
       "   Type of Travel_Personal Travel  Class_Eco  Class_Eco Plus  \n",
       "0                               0          1               0  \n",
       "1                               0          0               0  \n",
       "2                               0          1               0  \n",
       "3                               0          0               0  \n",
       "4                               0          1               0  \n",
       "\n",
       "[5 rows x 24 columns]"
      ]
     },
     "execution_count": 25,
     "metadata": {},
     "output_type": "execute_result"
    }
   ],
   "source": [
    "test.head()"
   ]
  },
  {
   "cell_type": "code",
   "execution_count": 26,
   "id": "5b0cfaea",
   "metadata": {
    "execution": {
     "iopub.execute_input": "2021-08-17T07:48:48.147456Z",
     "iopub.status.busy": "2021-08-17T07:48:48.146790Z",
     "iopub.status.idle": "2021-08-17T07:48:48.170485Z",
     "shell.execute_reply": "2021-08-17T07:48:48.171071Z",
     "shell.execute_reply.started": "2021-08-17T06:59:29.804477Z"
    },
    "papermill": {
     "duration": 0.077759,
     "end_time": "2021-08-17T07:48:48.171316",
     "exception": false,
     "start_time": "2021-08-17T07:48:48.093557",
     "status": "completed"
    },
    "tags": []
   },
   "outputs": [],
   "source": [
    "train[\"satisfaction\"] = train[\"satisfaction\"].map({\"satisfied\":1,\"neutral or dissatisfied\":0})\n",
    "test[\"satisfaction\"] = test[\"satisfaction\"].map({\"satisfied\":1,\"neutral or dissatisfied\":0})"
   ]
  },
  {
   "cell_type": "code",
   "execution_count": 27,
   "id": "0f3d7c54",
   "metadata": {
    "execution": {
     "iopub.execute_input": "2021-08-17T07:48:48.279832Z",
     "iopub.status.busy": "2021-08-17T07:48:48.279101Z",
     "iopub.status.idle": "2021-08-17T07:48:48.298170Z",
     "shell.execute_reply": "2021-08-17T07:48:48.298621Z",
     "shell.execute_reply.started": "2021-08-17T06:59:29.881328Z"
    },
    "papermill": {
     "duration": 0.077469,
     "end_time": "2021-08-17T07:48:48.298841",
     "exception": false,
     "start_time": "2021-08-17T07:48:48.221372",
     "status": "completed"
    },
    "tags": []
   },
   "outputs": [
    {
     "data": {
      "text/html": [
       "<div>\n",
       "<style scoped>\n",
       "    .dataframe tbody tr th:only-of-type {\n",
       "        vertical-align: middle;\n",
       "    }\n",
       "\n",
       "    .dataframe tbody tr th {\n",
       "        vertical-align: top;\n",
       "    }\n",
       "\n",
       "    .dataframe thead th {\n",
       "        text-align: right;\n",
       "    }\n",
       "</style>\n",
       "<table border=\"1\" class=\"dataframe\">\n",
       "  <thead>\n",
       "    <tr style=\"text-align: right;\">\n",
       "      <th></th>\n",
       "      <th>Gender</th>\n",
       "      <th>Customer Type</th>\n",
       "      <th>Age</th>\n",
       "      <th>Flight Distance</th>\n",
       "      <th>Inflight wifi service</th>\n",
       "      <th>Departure/Arrival time convenient</th>\n",
       "      <th>Ease of Online booking</th>\n",
       "      <th>Gate location</th>\n",
       "      <th>Food and drink</th>\n",
       "      <th>Online boarding</th>\n",
       "      <th>...</th>\n",
       "      <th>Baggage handling</th>\n",
       "      <th>Checkin service</th>\n",
       "      <th>Inflight service</th>\n",
       "      <th>Cleanliness</th>\n",
       "      <th>Departure Delay in Minutes</th>\n",
       "      <th>Arrival Delay in Minutes</th>\n",
       "      <th>satisfaction</th>\n",
       "      <th>Type of Travel_Personal Travel</th>\n",
       "      <th>Class_Eco</th>\n",
       "      <th>Class_Eco Plus</th>\n",
       "    </tr>\n",
       "  </thead>\n",
       "  <tbody>\n",
       "    <tr>\n",
       "      <th>0</th>\n",
       "      <td>1</td>\n",
       "      <td>1</td>\n",
       "      <td>13</td>\n",
       "      <td>460</td>\n",
       "      <td>3</td>\n",
       "      <td>4</td>\n",
       "      <td>3</td>\n",
       "      <td>1</td>\n",
       "      <td>5</td>\n",
       "      <td>3</td>\n",
       "      <td>...</td>\n",
       "      <td>4</td>\n",
       "      <td>4</td>\n",
       "      <td>5</td>\n",
       "      <td>5</td>\n",
       "      <td>25</td>\n",
       "      <td>18.0</td>\n",
       "      <td>0</td>\n",
       "      <td>1</td>\n",
       "      <td>0</td>\n",
       "      <td>1</td>\n",
       "    </tr>\n",
       "    <tr>\n",
       "      <th>1</th>\n",
       "      <td>1</td>\n",
       "      <td>0</td>\n",
       "      <td>25</td>\n",
       "      <td>235</td>\n",
       "      <td>3</td>\n",
       "      <td>2</td>\n",
       "      <td>3</td>\n",
       "      <td>3</td>\n",
       "      <td>1</td>\n",
       "      <td>3</td>\n",
       "      <td>...</td>\n",
       "      <td>3</td>\n",
       "      <td>1</td>\n",
       "      <td>4</td>\n",
       "      <td>1</td>\n",
       "      <td>1</td>\n",
       "      <td>6.0</td>\n",
       "      <td>0</td>\n",
       "      <td>0</td>\n",
       "      <td>0</td>\n",
       "      <td>0</td>\n",
       "    </tr>\n",
       "    <tr>\n",
       "      <th>2</th>\n",
       "      <td>0</td>\n",
       "      <td>1</td>\n",
       "      <td>26</td>\n",
       "      <td>1142</td>\n",
       "      <td>2</td>\n",
       "      <td>2</td>\n",
       "      <td>2</td>\n",
       "      <td>2</td>\n",
       "      <td>5</td>\n",
       "      <td>5</td>\n",
       "      <td>...</td>\n",
       "      <td>4</td>\n",
       "      <td>4</td>\n",
       "      <td>4</td>\n",
       "      <td>5</td>\n",
       "      <td>0</td>\n",
       "      <td>0.0</td>\n",
       "      <td>1</td>\n",
       "      <td>0</td>\n",
       "      <td>0</td>\n",
       "      <td>0</td>\n",
       "    </tr>\n",
       "    <tr>\n",
       "      <th>3</th>\n",
       "      <td>0</td>\n",
       "      <td>1</td>\n",
       "      <td>25</td>\n",
       "      <td>562</td>\n",
       "      <td>2</td>\n",
       "      <td>5</td>\n",
       "      <td>5</td>\n",
       "      <td>5</td>\n",
       "      <td>2</td>\n",
       "      <td>2</td>\n",
       "      <td>...</td>\n",
       "      <td>3</td>\n",
       "      <td>1</td>\n",
       "      <td>4</td>\n",
       "      <td>2</td>\n",
       "      <td>11</td>\n",
       "      <td>9.0</td>\n",
       "      <td>0</td>\n",
       "      <td>0</td>\n",
       "      <td>0</td>\n",
       "      <td>0</td>\n",
       "    </tr>\n",
       "    <tr>\n",
       "      <th>4</th>\n",
       "      <td>1</td>\n",
       "      <td>1</td>\n",
       "      <td>61</td>\n",
       "      <td>214</td>\n",
       "      <td>3</td>\n",
       "      <td>3</td>\n",
       "      <td>3</td>\n",
       "      <td>3</td>\n",
       "      <td>4</td>\n",
       "      <td>5</td>\n",
       "      <td>...</td>\n",
       "      <td>4</td>\n",
       "      <td>3</td>\n",
       "      <td>3</td>\n",
       "      <td>3</td>\n",
       "      <td>0</td>\n",
       "      <td>0.0</td>\n",
       "      <td>1</td>\n",
       "      <td>0</td>\n",
       "      <td>0</td>\n",
       "      <td>0</td>\n",
       "    </tr>\n",
       "  </tbody>\n",
       "</table>\n",
       "<p>5 rows × 24 columns</p>\n",
       "</div>"
      ],
      "text/plain": [
       "   Gender  Customer Type  Age  Flight Distance  Inflight wifi service  \\\n",
       "0       1              1   13              460                      3   \n",
       "1       1              0   25              235                      3   \n",
       "2       0              1   26             1142                      2   \n",
       "3       0              1   25              562                      2   \n",
       "4       1              1   61              214                      3   \n",
       "\n",
       "   Departure/Arrival time convenient  Ease of Online booking  Gate location  \\\n",
       "0                                  4                       3              1   \n",
       "1                                  2                       3              3   \n",
       "2                                  2                       2              2   \n",
       "3                                  5                       5              5   \n",
       "4                                  3                       3              3   \n",
       "\n",
       "   Food and drink  Online boarding  ...  Baggage handling  Checkin service  \\\n",
       "0               5                3  ...                 4                4   \n",
       "1               1                3  ...                 3                1   \n",
       "2               5                5  ...                 4                4   \n",
       "3               2                2  ...                 3                1   \n",
       "4               4                5  ...                 4                3   \n",
       "\n",
       "   Inflight service  Cleanliness  Departure Delay in Minutes  \\\n",
       "0                 5            5                          25   \n",
       "1                 4            1                           1   \n",
       "2                 4            5                           0   \n",
       "3                 4            2                          11   \n",
       "4                 3            3                           0   \n",
       "\n",
       "   Arrival Delay in Minutes  satisfaction  Type of Travel_Personal Travel  \\\n",
       "0                      18.0             0                               1   \n",
       "1                       6.0             0                               0   \n",
       "2                       0.0             1                               0   \n",
       "3                       9.0             0                               0   \n",
       "4                       0.0             1                               0   \n",
       "\n",
       "   Class_Eco  Class_Eco Plus  \n",
       "0          0               1  \n",
       "1          0               0  \n",
       "2          0               0  \n",
       "3          0               0  \n",
       "4          0               0  \n",
       "\n",
       "[5 rows x 24 columns]"
      ]
     },
     "execution_count": 27,
     "metadata": {},
     "output_type": "execute_result"
    }
   ],
   "source": [
    "train.head()"
   ]
  },
  {
   "cell_type": "code",
   "execution_count": 28,
   "id": "9c28b372",
   "metadata": {
    "execution": {
     "iopub.execute_input": "2021-08-17T07:48:48.403921Z",
     "iopub.status.busy": "2021-08-17T07:48:48.403160Z",
     "iopub.status.idle": "2021-08-17T07:48:48.427062Z",
     "shell.execute_reply": "2021-08-17T07:48:48.427572Z",
     "shell.execute_reply.started": "2021-08-17T06:59:29.927327Z"
    },
    "papermill": {
     "duration": 0.078248,
     "end_time": "2021-08-17T07:48:48.427787",
     "exception": false,
     "start_time": "2021-08-17T07:48:48.349539",
     "status": "completed"
    },
    "tags": []
   },
   "outputs": [
    {
     "name": "stdout",
     "output_type": "stream",
     "text": [
      "<class 'pandas.core.frame.DataFrame'>\n",
      "Int64Index: 103594 entries, 0 to 103903\n",
      "Data columns (total 24 columns):\n",
      " #   Column                             Non-Null Count   Dtype  \n",
      "---  ------                             --------------   -----  \n",
      " 0   Gender                             103594 non-null  int64  \n",
      " 1   Customer Type                      103594 non-null  int64  \n",
      " 2   Age                                103594 non-null  int64  \n",
      " 3   Flight Distance                    103594 non-null  int64  \n",
      " 4   Inflight wifi service              103594 non-null  int64  \n",
      " 5   Departure/Arrival time convenient  103594 non-null  int64  \n",
      " 6   Ease of Online booking             103594 non-null  int64  \n",
      " 7   Gate location                      103594 non-null  int64  \n",
      " 8   Food and drink                     103594 non-null  int64  \n",
      " 9   Online boarding                    103594 non-null  int64  \n",
      " 10  Seat comfort                       103594 non-null  int64  \n",
      " 11  Inflight entertainment             103594 non-null  int64  \n",
      " 12  On-board service                   103594 non-null  int64  \n",
      " 13  Leg room service                   103594 non-null  int64  \n",
      " 14  Baggage handling                   103594 non-null  int64  \n",
      " 15  Checkin service                    103594 non-null  int64  \n",
      " 16  Inflight service                   103594 non-null  int64  \n",
      " 17  Cleanliness                        103594 non-null  int64  \n",
      " 18  Departure Delay in Minutes         103594 non-null  int64  \n",
      " 19  Arrival Delay in Minutes           103594 non-null  float64\n",
      " 20  satisfaction                       103594 non-null  int64  \n",
      " 21  Type of Travel_Personal Travel     103594 non-null  uint8  \n",
      " 22  Class_Eco                          103594 non-null  uint8  \n",
      " 23  Class_Eco Plus                     103594 non-null  uint8  \n",
      "dtypes: float64(1), int64(20), uint8(3)\n",
      "memory usage: 17.7 MB\n"
     ]
    }
   ],
   "source": [
    "train.info()"
   ]
  },
  {
   "cell_type": "code",
   "execution_count": 29,
   "id": "fd29fc3c",
   "metadata": {
    "execution": {
     "iopub.execute_input": "2021-08-17T07:48:48.534377Z",
     "iopub.status.busy": "2021-08-17T07:48:48.533566Z",
     "iopub.status.idle": "2021-08-17T07:48:49.493955Z",
     "shell.execute_reply": "2021-08-17T07:48:49.493284Z",
     "shell.execute_reply.started": "2021-08-17T06:59:29.973057Z"
    },
    "papermill": {
     "duration": 1.014609,
     "end_time": "2021-08-17T07:48:49.494145",
     "exception": false,
     "start_time": "2021-08-17T07:48:48.479536",
     "status": "completed"
    },
    "tags": []
   },
   "outputs": [],
   "source": [
    "import seaborn as sns \n",
    "import matplotlib.pyplot as plt \n"
   ]
  },
  {
   "cell_type": "code",
   "execution_count": 30,
   "id": "599389c2",
   "metadata": {
    "execution": {
     "iopub.execute_input": "2021-08-17T07:48:49.606112Z",
     "iopub.status.busy": "2021-08-17T07:48:49.605353Z",
     "iopub.status.idle": "2021-08-17T07:48:49.616386Z",
     "shell.execute_reply": "2021-08-17T07:48:49.616931Z",
     "shell.execute_reply.started": "2021-08-17T06:59:30.865644Z"
    },
    "papermill": {
     "duration": 0.071521,
     "end_time": "2021-08-17T07:48:49.617137",
     "exception": false,
     "start_time": "2021-08-17T07:48:49.545616",
     "status": "completed"
    },
    "tags": []
   },
   "outputs": [
    {
     "data": {
      "text/plain": [
       "<Figure size 1440x1440 with 0 Axes>"
      ]
     },
     "execution_count": 30,
     "metadata": {},
     "output_type": "execute_result"
    },
    {
     "data": {
      "text/plain": [
       "<Figure size 1440x1440 with 0 Axes>"
      ]
     },
     "metadata": {},
     "output_type": "display_data"
    }
   ],
   "source": [
    "plt.figure(figsize=(20,20))\n",
    "#sns.pairplot(train)"
   ]
  },
  {
   "cell_type": "code",
   "execution_count": 31,
   "id": "562c2b5d",
   "metadata": {
    "execution": {
     "iopub.execute_input": "2021-08-17T07:48:49.727769Z",
     "iopub.status.busy": "2021-08-17T07:48:49.726619Z",
     "iopub.status.idle": "2021-08-17T07:48:50.030623Z",
     "shell.execute_reply": "2021-08-17T07:48:50.030069Z",
     "shell.execute_reply.started": "2021-08-17T07:38:39.498445Z"
    },
    "papermill": {
     "duration": 0.361508,
     "end_time": "2021-08-17T07:48:50.030814",
     "exception": false,
     "start_time": "2021-08-17T07:48:49.669306",
     "status": "completed"
    },
    "tags": []
   },
   "outputs": [
    {
     "data": {
      "text/plain": [
       "<AxesSubplot:xlabel='Online boarding', ylabel='count'>"
      ]
     },
     "execution_count": 31,
     "metadata": {},
     "output_type": "execute_result"
    },
    {
     "data": {
      "image/png": "[encoded data removed]",
      "text/plain": [
       "<Figure size 432x288 with 1 Axes>"
      ]
     },
     "metadata": {
      "needs_background": "light"
     },
     "output_type": "display_data"
    }
   ],
   "source": [
    "sns.countplot(x='Online boarding',hue=\"satisfaction\",data=train,color=\"green\")"
   ]
  },
  {
   "cell_type": "code",
   "execution_count": 32,
   "id": "401e7aea",
   "metadata": {
    "execution": {
     "iopub.execute_input": "2021-08-17T07:48:50.143250Z",
     "iopub.status.busy": "2021-08-17T07:48:50.142469Z",
     "iopub.status.idle": "2021-08-17T07:48:51.669908Z",
     "shell.execute_reply": "2021-08-17T07:48:51.669126Z",
     "shell.execute_reply.started": "2021-08-17T07:37:47.300815Z"
    },
    "papermill": {
     "duration": 1.586226,
     "end_time": "2021-08-17T07:48:51.670085",
     "exception": false,
     "start_time": "2021-08-17T07:48:50.083859",
     "status": "completed"
    },
    "tags": []
   },
   "outputs": [
    {
     "data": {
      "text/plain": [
       "<AxesSubplot:xlabel='Age', ylabel='Count'>"
      ]
     },
     "execution_count": 32,
     "metadata": {},
     "output_type": "execute_result"
    },
    {
     "data": {
      "image/png": "[encoded data removed]",
      "text/plain": [
       "<Figure size 432x288 with 1 Axes>"
      ]
     },
     "metadata": {
      "needs_background": "light"
     },
     "output_type": "display_data"
    }
   ],
   "source": [
    "sns.histplot(x='Age',hue=\"satisfaction\",data=train,kde=True,palette=\"flare\")"
   ]
  },
  {
   "cell_type": "code",
   "execution_count": 33,
   "id": "6ddb0cd9",
   "metadata": {
    "execution": {
     "iopub.execute_input": "2021-08-17T07:48:51.786697Z",
     "iopub.status.busy": "2021-08-17T07:48:51.785581Z",
     "iopub.status.idle": "2021-08-17T07:48:51.964789Z",
     "shell.execute_reply": "2021-08-17T07:48:51.965386Z",
     "shell.execute_reply.started": "2021-08-17T07:39:53.733823Z"
    },
    "papermill": {
     "duration": 0.240726,
     "end_time": "2021-08-17T07:48:51.965595",
     "exception": false,
     "start_time": "2021-08-17T07:48:51.724869",
     "status": "completed"
    },
    "tags": []
   },
   "outputs": [
    {
     "data": {
      "text/plain": [
       "<AxesSubplot:xlabel='Customer Type', ylabel='count'>"
      ]
     },
     "execution_count": 33,
     "metadata": {},
     "output_type": "execute_result"
    },
    {
     "data": {
      "image/png": "[encoded data removed]",
      "text/plain": [
       "<Figure size 432x288 with 1 Axes>"
      ]
     },
     "metadata": {
      "needs_background": "light"
     },
     "output_type": "display_data"
    }
   ],
   "source": [
    "sns.countplot(x='Customer Type',hue=\"satisfaction\",data=train)"
   ]
  },
  {
   "cell_type": "code",
   "execution_count": 34,
   "id": "400d3138",
   "metadata": {
    "execution": {
     "iopub.execute_input": "2021-08-17T07:48:52.085419Z",
     "iopub.status.busy": "2021-08-17T07:48:52.084554Z",
     "iopub.status.idle": "2021-08-17T07:48:53.707515Z",
     "shell.execute_reply": "2021-08-17T07:48:53.708014Z",
     "shell.execute_reply.started": "2021-08-17T07:38:12.192787Z"
    },
    "papermill": {
     "duration": 1.686029,
     "end_time": "2021-08-17T07:48:53.708241",
     "exception": false,
     "start_time": "2021-08-17T07:48:52.022212",
     "status": "completed"
    },
    "tags": []
   },
   "outputs": [
    {
     "data": {
      "text/plain": [
       "<AxesSubplot:xlabel='Flight Distance', ylabel='Count'>"
      ]
     },
     "execution_count": 34,
     "metadata": {},
     "output_type": "execute_result"
    },
    {
     "data": {
      "image/png": "[encoded data removed]",
      "text/plain": [
       "<Figure size 432x288 with 1 Axes>"
      ]
     },
     "metadata": {
      "needs_background": "light"
     },
     "output_type": "display_data"
    }
   ],
   "source": [
    "sns.histplot(x='Flight Distance',hue=\"satisfaction\",data=train,kde=True,palette=\"dark\")"
   ]
  },
  {
   "cell_type": "code",
   "execution_count": 35,
   "id": "e1092062",
   "metadata": {
    "execution": {
     "iopub.execute_input": "2021-08-17T07:48:53.826030Z",
     "iopub.status.busy": "2021-08-17T07:48:53.825318Z",
     "iopub.status.idle": "2021-08-17T07:48:54.097515Z",
     "shell.execute_reply": "2021-08-17T07:48:54.096960Z",
     "shell.execute_reply.started": "2021-08-17T07:38:27.598834Z"
    },
    "papermill": {
     "duration": 0.332052,
     "end_time": "2021-08-17T07:48:54.097686",
     "exception": false,
     "start_time": "2021-08-17T07:48:53.765634",
     "status": "completed"
    },
    "tags": []
   },
   "outputs": [
    {
     "data": {
      "text/plain": [
       "<AxesSubplot:xlabel='Inflight wifi service', ylabel='count'>"
      ]
     },
     "execution_count": 35,
     "metadata": {},
     "output_type": "execute_result"
    },
    {
     "data": {
      "image/png": "[encoded data removed]",
      "text/plain": [
       "<Figure size 432x288 with 1 Axes>"
      ]
     },
     "metadata": {
      "needs_background": "light"
     },
     "output_type": "display_data"
    }
   ],
   "source": [
    "sns.countplot(x='Inflight wifi service',hue=\"satisfaction\",data=train,color=\"red\")"
   ]
  },
  {
   "cell_type": "code",
   "execution_count": 36,
   "id": "2cb4f2a7",
   "metadata": {
    "execution": {
     "iopub.execute_input": "2021-08-17T07:48:54.221281Z",
     "iopub.status.busy": "2021-08-17T07:48:54.220489Z",
     "iopub.status.idle": "2021-08-17T07:48:54.484349Z",
     "shell.execute_reply": "2021-08-17T07:48:54.483633Z",
     "shell.execute_reply.started": "2021-08-17T07:41:53.205727Z"
    },
    "papermill": {
     "duration": 0.328294,
     "end_time": "2021-08-17T07:48:54.484507",
     "exception": false,
     "start_time": "2021-08-17T07:48:54.156213",
     "status": "completed"
    },
    "tags": []
   },
   "outputs": [
    {
     "data": {
      "text/plain": [
       "<AxesSubplot:xlabel='Food and drink', ylabel='count'>"
      ]
     },
     "execution_count": 36,
     "metadata": {},
     "output_type": "execute_result"
    },
    {
     "data": {
      "image/png": "[encoded data removed]",
      "text/plain": [
       "<Figure size 432x288 with 1 Axes>"
      ]
     },
     "metadata": {
      "needs_background": "light"
     },
     "output_type": "display_data"
    }
   ],
   "source": [
    "sns.countplot(x='Food and drink',hue=\"satisfaction\",data=train,color=\"orange\")"
   ]
  },
  {
   "cell_type": "code",
   "execution_count": null,
   "id": "240d9b90",
   "metadata": {
    "papermill": {
     "duration": 0.058605,
     "end_time": "2021-08-17T07:48:54.602108",
     "exception": false,
     "start_time": "2021-08-17T07:48:54.543503",
     "status": "completed"
    },
    "tags": []
   },
   "outputs": [],
   "source": []
  },
  {
   "cell_type": "code",
   "execution_count": 37,
   "id": "9af7cf09",
   "metadata": {
    "execution": {
     "iopub.execute_input": "2021-08-17T07:48:54.731059Z",
     "iopub.status.busy": "2021-08-17T07:48:54.729296Z",
     "iopub.status.idle": "2021-08-17T07:48:58.600390Z",
     "shell.execute_reply": "2021-08-17T07:48:58.600932Z",
     "shell.execute_reply.started": "2021-08-17T06:59:30.881802Z"
    },
    "papermill": {
     "duration": 3.938985,
     "end_time": "2021-08-17T07:48:58.601444",
     "exception": false,
     "start_time": "2021-08-17T07:48:54.662459",
     "status": "completed"
    },
    "tags": []
   },
   "outputs": [
    {
     "data": {
      "text/plain": [
       "<AxesSubplot:>"
      ]
     },
     "execution_count": 37,
     "metadata": {},
     "output_type": "execute_result"
    },
    {
     "data": {
      "image/png": "[encoded data removed]",
      "text/plain": [
       "<Figure size 1296x1296 with 2 Axes>"
      ]
     },
     "metadata": {
      "needs_background": "light"
     },
     "output_type": "display_data"
    }
   ],
   "source": [
    "plt.figure(figsize = (18,18))\n",
    "sns.heatmap(train.corr(), annot = True, cmap = \"RdYlGn\")"
   ]
  },
  {
   "cell_type": "code",
   "execution_count": 38,
   "id": "ffecfd35",
   "metadata": {
    "execution": {
     "iopub.execute_input": "2021-08-17T07:48:58.747264Z",
     "iopub.status.busy": "2021-08-17T07:48:58.746512Z",
     "iopub.status.idle": "2021-08-17T07:48:58.887101Z",
     "shell.execute_reply": "2021-08-17T07:48:58.886196Z",
     "shell.execute_reply.started": "2021-08-17T07:00:03.168628Z"
    },
    "papermill": {
     "duration": 0.214386,
     "end_time": "2021-08-17T07:48:58.887260",
     "exception": false,
     "start_time": "2021-08-17T07:48:58.672874",
     "status": "completed"
    },
    "tags": []
   },
   "outputs": [],
   "source": [
    "from sklearn.preprocessing import StandardScaler\n",
    "scaler = StandardScaler()\n"
   ]
  },
  {
   "cell_type": "code",
   "execution_count": 39,
   "id": "85f8703a",
   "metadata": {
    "execution": {
     "iopub.execute_input": "2021-08-17T07:48:59.035815Z",
     "iopub.status.busy": "2021-08-17T07:48:59.034001Z",
     "iopub.status.idle": "2021-08-17T07:48:59.062181Z",
     "shell.execute_reply": "2021-08-17T07:48:59.062799Z",
     "shell.execute_reply.started": "2021-08-17T07:00:48.016777Z"
    },
    "papermill": {
     "duration": 0.10651,
     "end_time": "2021-08-17T07:48:59.063010",
     "exception": false,
     "start_time": "2021-08-17T07:48:58.956500",
     "status": "completed"
    },
    "tags": []
   },
   "outputs": [],
   "source": [
    "x_train = train.drop([\"satisfaction\"],axis=1)\n",
    "y_train = train['satisfaction']"
   ]
  },
  {
   "cell_type": "code",
   "execution_count": 40,
   "id": "26ae5f9c",
   "metadata": {
    "execution": {
     "iopub.execute_input": "2021-08-17T07:48:59.205683Z",
     "iopub.status.busy": "2021-08-17T07:48:59.205015Z",
     "iopub.status.idle": "2021-08-17T07:48:59.219260Z",
     "shell.execute_reply": "2021-08-17T07:48:59.219857Z",
     "shell.execute_reply.started": "2021-08-17T07:01:23.585591Z"
    },
    "papermill": {
     "duration": 0.087791,
     "end_time": "2021-08-17T07:48:59.220069",
     "exception": false,
     "start_time": "2021-08-17T07:48:59.132278",
     "status": "completed"
    },
    "tags": []
   },
   "outputs": [],
   "source": [
    "x_test = test.drop([\"satisfaction\"],axis=1)\n",
    "y_test = test[\"satisfaction\"]\n"
   ]
  },
  {
   "cell_type": "code",
   "execution_count": 41,
   "id": "e64ae04d",
   "metadata": {
    "execution": {
     "iopub.execute_input": "2021-08-17T07:48:59.364058Z",
     "iopub.status.busy": "2021-08-17T07:48:59.363297Z",
     "iopub.status.idle": "2021-08-17T07:48:59.465844Z",
     "shell.execute_reply": "2021-08-17T07:48:59.466522Z",
     "shell.execute_reply.started": "2021-08-17T07:02:01.153987Z"
    },
    "papermill": {
     "duration": 0.176043,
     "end_time": "2021-08-17T07:48:59.466745",
     "exception": false,
     "start_time": "2021-08-17T07:48:59.290702",
     "status": "completed"
    },
    "tags": []
   },
   "outputs": [],
   "source": [
    "x_train = scaler.fit_transform(x_train)\n",
    "x_test = scaler.transform(x_test)"
   ]
  },
  {
   "cell_type": "code",
   "execution_count": 42,
   "id": "e100929b",
   "metadata": {
    "execution": {
     "iopub.execute_input": "2021-08-17T07:48:59.610516Z",
     "iopub.status.busy": "2021-08-17T07:48:59.609814Z",
     "iopub.status.idle": "2021-08-17T07:48:59.757089Z",
     "shell.execute_reply": "2021-08-17T07:48:59.756267Z",
     "shell.execute_reply.started": "2021-08-17T07:02:35.411200Z"
    },
    "papermill": {
     "duration": 0.221005,
     "end_time": "2021-08-17T07:48:59.757287",
     "exception": false,
     "start_time": "2021-08-17T07:48:59.536282",
     "status": "completed"
    },
    "tags": []
   },
   "outputs": [],
   "source": [
    "from xgboost import XGBClassifier\n",
    "xgb = XGBClassifier()"
   ]
  },
  {
   "cell_type": "code",
   "execution_count": 43,
   "id": "b7b2f892",
   "metadata": {
    "execution": {
     "iopub.execute_input": "2021-08-17T07:48:59.901951Z",
     "iopub.status.busy": "2021-08-17T07:48:59.901255Z",
     "iopub.status.idle": "2021-08-17T07:49:06.447729Z",
     "shell.execute_reply": "2021-08-17T07:49:06.446318Z",
     "shell.execute_reply.started": "2021-08-17T07:02:45.376117Z"
    },
    "papermill": {
     "duration": 6.620884,
     "end_time": "2021-08-17T07:49:06.447972",
     "exception": false,
     "start_time": "2021-08-17T07:48:59.827088",
     "status": "completed"
    },
    "tags": []
   },
   "outputs": [
    {
     "name": "stderr",
     "output_type": "stream",
     "text": [
      "/opt/conda/lib/python3.7/site-packages/xgboost/sklearn.py:1146: UserWarning: The use of label encoder in XGBClassifier is deprecated and will be removed in a future release. To remove this warning, do the following: 1) Pass option use_label_encoder=False when constructing XGBClassifier object; and 2) Encode your labels (y) as integers starting with 0, i.e. 0, 1, 2, ..., [num_class - 1].\n",
      "  warnings.warn(label_encoder_deprecation_msg, UserWarning)\n"
     ]
    },
    {
     "name": "stdout",
     "output_type": "stream",
     "text": [
      "[07:49:00] WARNING: ../src/learner.cc:1095: Starting in XGBoost 1.3.0, the default evaluation metric used with the objective 'binary:logistic' was changed from 'error' to 'logloss'. Explicitly set eval_metric if you'd like to restore the old behavior.\n"
     ]
    },
    {
     "data": {
      "text/plain": [
       "XGBClassifier(base_score=0.5, booster='gbtree', colsample_bylevel=1,\n",
       "              colsample_bynode=1, colsample_bytree=1, gamma=0, gpu_id=-1,\n",
       "              importance_type='gain', interaction_constraints='',\n",
       "              learning_rate=0.300000012, max_delta_step=0, max_depth=6,\n",
       "              min_child_weight=1, missing=nan, monotone_constraints='()',\n",
       "              n_estimators=100, n_jobs=4, num_parallel_tree=1, random_state=0,\n",
       "              reg_alpha=0, reg_lambda=1, scale_pos_weight=1, subsample=1,\n",
       "              tree_method='exact', validate_parameters=1, verbosity=None)"
      ]
     },
     "execution_count": 43,
     "metadata": {},
     "output_type": "execute_result"
    }
   ],
   "source": [
    "xgb.fit(x_train,y_train)"
   ]
  },
  {
   "cell_type": "code",
   "execution_count": 44,
   "id": "30e23e51",
   "metadata": {
    "execution": {
     "iopub.execute_input": "2021-08-17T07:49:06.602891Z",
     "iopub.status.busy": "2021-08-17T07:49:06.602155Z",
     "iopub.status.idle": "2021-08-17T07:49:06.639894Z",
     "shell.execute_reply": "2021-08-17T07:49:06.640540Z",
     "shell.execute_reply.started": "2021-08-17T07:03:02.124032Z"
    },
    "papermill": {
     "duration": 0.111762,
     "end_time": "2021-08-17T07:49:06.640807",
     "exception": false,
     "start_time": "2021-08-17T07:49:06.529045",
     "status": "completed"
    },
    "tags": []
   },
   "outputs": [],
   "source": [
    "pred = xgb.predict(x_test)"
   ]
  },
  {
   "cell_type": "code",
   "execution_count": 45,
   "id": "b4ae60d6",
   "metadata": {
    "execution": {
     "iopub.execute_input": "2021-08-17T07:49:06.788514Z",
     "iopub.status.busy": "2021-08-17T07:49:06.787534Z",
     "iopub.status.idle": "2021-08-17T07:49:06.790140Z",
     "shell.execute_reply": "2021-08-17T07:49:06.790630Z",
     "shell.execute_reply.started": "2021-08-17T07:03:24.298832Z"
    },
    "papermill": {
     "duration": 0.07828,
     "end_time": "2021-08-17T07:49:06.790853",
     "exception": false,
     "start_time": "2021-08-17T07:49:06.712573",
     "status": "completed"
    },
    "tags": []
   },
   "outputs": [],
   "source": [
    "from sklearn.metrics import accuracy_score, confusion_matrix"
   ]
  },
  {
   "cell_type": "code",
   "execution_count": 46,
   "id": "cb3317b0",
   "metadata": {
    "execution": {
     "iopub.execute_input": "2021-08-17T07:49:06.939657Z",
     "iopub.status.busy": "2021-08-17T07:49:06.938950Z",
     "iopub.status.idle": "2021-08-17T07:49:06.947415Z",
     "shell.execute_reply": "2021-08-17T07:49:06.946883Z",
     "shell.execute_reply.started": "2021-08-17T07:03:37.677702Z"
    },
    "papermill": {
     "duration": 0.086251,
     "end_time": "2021-08-17T07:49:06.947563",
     "exception": false,
     "start_time": "2021-08-17T07:49:06.861312",
     "status": "completed"
    },
    "tags": []
   },
   "outputs": [
    {
     "data": {
      "text/plain": [
       "0.9635808905881899"
      ]
     },
     "execution_count": 46,
     "metadata": {},
     "output_type": "execute_result"
    }
   ],
   "source": [
    "accuracy_score(y_test,pred)"
   ]
  },
  {
   "cell_type": "code",
   "execution_count": 47,
   "id": "9649024c",
   "metadata": {
    "execution": {
     "iopub.execute_input": "2021-08-17T07:49:07.091942Z",
     "iopub.status.busy": "2021-08-17T07:49:07.091267Z",
     "iopub.status.idle": "2021-08-17T07:49:07.140959Z",
     "shell.execute_reply": "2021-08-17T07:49:07.140398Z",
     "shell.execute_reply.started": "2021-08-17T07:04:30.811569Z"
    },
    "papermill": {
     "duration": 0.123152,
     "end_time": "2021-08-17T07:49:07.141123",
     "exception": false,
     "start_time": "2021-08-17T07:49:07.017971",
     "status": "completed"
    },
    "tags": []
   },
   "outputs": [
    {
     "data": {
      "text/plain": [
       "array([[14206,   322],\n",
       "       [  621, 10744]])"
      ]
     },
     "execution_count": 47,
     "metadata": {},
     "output_type": "execute_result"
    }
   ],
   "source": [
    "confusion_matrix(y_test,pred)"
   ]
  },
  {
   "cell_type": "code",
   "execution_count": 48,
   "id": "6937a273",
   "metadata": {
    "execution": {
     "iopub.execute_input": "2021-08-17T07:49:07.288576Z",
     "iopub.status.busy": "2021-08-17T07:49:07.287857Z",
     "iopub.status.idle": "2021-08-17T07:49:07.702435Z",
     "shell.execute_reply": "2021-08-17T07:49:07.701820Z",
     "shell.execute_reply.started": "2021-08-17T07:20:17.646367Z"
    },
    "papermill": {
     "duration": 0.490569,
     "end_time": "2021-08-17T07:49:07.702609",
     "exception": false,
     "start_time": "2021-08-17T07:49:07.212040",
     "status": "completed"
    },
    "tags": []
   },
   "outputs": [],
   "source": [
    "from sklearn.ensemble import RandomForestClassifier\n",
    "reg_rf = RandomForestClassifier()"
   ]
  },
  {
   "cell_type": "code",
   "execution_count": 49,
   "id": "be9f90b7",
   "metadata": {
    "execution": {
     "iopub.execute_input": "2021-08-17T07:49:07.850210Z",
     "iopub.status.busy": "2021-08-17T07:49:07.849439Z",
     "iopub.status.idle": "2021-08-17T07:49:22.484823Z",
     "shell.execute_reply": "2021-08-17T07:49:22.484177Z",
     "shell.execute_reply.started": "2021-08-17T07:21:47.899851Z"
    },
    "papermill": {
     "duration": 14.711109,
     "end_time": "2021-08-17T07:49:22.485011",
     "exception": false,
     "start_time": "2021-08-17T07:49:07.773902",
     "status": "completed"
    },
    "tags": []
   },
   "outputs": [
    {
     "data": {
      "text/plain": [
       "RandomForestClassifier()"
      ]
     },
     "execution_count": 49,
     "metadata": {},
     "output_type": "execute_result"
    }
   ],
   "source": [
    "reg_rf.fit(x_train,y_train)\n",
    "#reg_rf.score(y_test,x_test)"
   ]
  },
  {
   "cell_type": "code",
   "execution_count": 50,
   "id": "43356189",
   "metadata": {
    "execution": {
     "iopub.execute_input": "2021-08-17T07:49:22.636480Z",
     "iopub.status.busy": "2021-08-17T07:49:22.635711Z",
     "iopub.status.idle": "2021-08-17T07:49:23.378541Z",
     "shell.execute_reply": "2021-08-17T07:49:23.377876Z",
     "shell.execute_reply.started": "2021-08-17T07:22:24.400812Z"
    },
    "papermill": {
     "duration": 0.822113,
     "end_time": "2021-08-17T07:49:23.378743",
     "exception": false,
     "start_time": "2021-08-17T07:49:22.556630",
     "status": "completed"
    },
    "tags": []
   },
   "outputs": [],
   "source": [
    "rf_pred = reg_rf.predict(x_test)"
   ]
  },
  {
   "cell_type": "code",
   "execution_count": 51,
   "id": "34646951",
   "metadata": {
    "execution": {
     "iopub.execute_input": "2021-08-17T07:49:23.530890Z",
     "iopub.status.busy": "2021-08-17T07:49:23.530138Z",
     "iopub.status.idle": "2021-08-17T07:49:23.537710Z",
     "shell.execute_reply": "2021-08-17T07:49:23.538300Z",
     "shell.execute_reply.started": "2021-08-17T07:22:41.371163Z"
    },
    "papermill": {
     "duration": 0.085658,
     "end_time": "2021-08-17T07:49:23.538514",
     "exception": false,
     "start_time": "2021-08-17T07:49:23.452856",
     "status": "completed"
    },
    "tags": []
   },
   "outputs": [
    {
     "data": {
      "text/plain": [
       "0.961997451048546"
      ]
     },
     "execution_count": 51,
     "metadata": {},
     "output_type": "execute_result"
    }
   ],
   "source": [
    "accuracy_score(y_test,rf_pred)"
   ]
  },
  {
   "cell_type": "code",
   "execution_count": null,
   "id": "2dad882e",
   "metadata": {
    "papermill": {
     "duration": 0.072589,
     "end_time": "2021-08-17T07:49:23.683191",
     "exception": false,
     "start_time": "2021-08-17T07:49:23.610602",
     "status": "completed"
    },
    "tags": []
   },
   "outputs": [],
   "source": []
  }
 ],
 "metadata": {
  "kernelspec": {
   "display_name": "Python 3",
   "language": "python",
   "name": "python3"
  },
  "language_info": {
   "codemirror_mode": {
    "name": "ipython",
    "version": 3
   },
   "file_extension": ".py",
   "mimetype": "text/x-python",
   "name": "python",
   "nbconvert_exporter": "python",
   "pygments_lexer": "ipython3",
   "version": "3.7.10"
  },
  "papermill": {
   "default_parameters": {},
   "duration": 49.910728,
   "end_time": "2021-08-17T07:49:25.298702",
   "environment_variables": {},
   "exception": null,
   "input_path": "__notebook__.ipynb",
   "output_path": "__notebook__.ipynb",
   "parameters": {},
   "start_time": "2021-08-17T07:48:35.387974",
   "version": "2.3.3"
  }
 },
 "nbformat": 4,
 "nbformat_minor": 5
}
