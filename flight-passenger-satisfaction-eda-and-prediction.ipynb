{
 "cells": [
  {
   "cell_type": "markdown",
   "metadata": {
    "papermill": {
     "duration": 0.052238,
     "end_time": "2022-05-15T18:41:56.897809",
     "exception": false,
     "start_time": "2022-05-15T18:41:56.845571",
     "status": "completed"
    },
    "tags": []
   },
   "source": [
    "This kernel explores different factors driving satisfaction of the airline passengers. The data set was quite clean devoid of the hassles related to imbalance or too many missing values etc. Hence, I concentrated mainly on doing extensive EDA through putting different visualizations here. Finally, I applied eight models and compared their performances to select the best one.\n",
    "\n",
    "# Importing Data"
   ]
  },
  {
   "cell_type": "code",
   "execution_count": 1,
   "metadata": {
    "_cell_guid": "b1076dfc-b9ad-4769-8c92-a6c4dae69d19",
    "_uuid": "8f2839f25d086af736a60e9eeb907d3b93b6e0e5",
    "execution": {
     "iopub.execute_input": "2022-05-15T18:41:57.004174Z",
     "iopub.status.busy": "2022-05-15T18:41:57.003448Z",
     "iopub.status.idle": "2022-05-15T18:41:57.543586Z",
     "shell.execute_reply": "2022-05-15T18:41:57.544155Z"
    },
    "papermill": {
     "duration": 0.594969,
     "end_time": "2022-05-15T18:41:57.544368",
     "exception": false,
     "start_time": "2022-05-15T18:41:56.949399",
     "status": "completed"
    },
    "tags": []
   },
   "outputs": [],
   "source": [
    "# Importing data\n",
    "import pandas as pd\n",
    "train = pd.read_csv('../input/airline-passenger-satisfaction/train.csv')\n",
    "test = pd.read_csv('../input/airline-passenger-satisfaction/test.csv')"
   ]
  },
  {
   "cell_type": "code",
   "execution_count": 2,
   "metadata": {
    "execution": {
     "iopub.execute_input": "2022-05-15T18:41:57.652366Z",
     "iopub.status.busy": "2022-05-15T18:41:57.651634Z",
     "iopub.status.idle": "2022-05-15T18:41:57.659544Z",
     "shell.execute_reply": "2022-05-15T18:41:57.658836Z"
    },
    "papermill": {
     "duration": 0.062647,
     "end_time": "2022-05-15T18:41:57.659665",
     "exception": false,
     "start_time": "2022-05-15T18:41:57.597018",
     "status": "completed"
    },
    "tags": []
   },
   "outputs": [
    {
     "data": {
      "text/plain": [
       "(103904, 25)"
      ]
     },
     "execution_count": 2,
     "metadata": {},
     "output_type": "execute_result"
    }
   ],
   "source": [
    "# Get row and column count\n",
    "train.shape"
   ]
  },
  {
   "cell_type": "code",
   "execution_count": 3,
   "metadata": {
    "_cell_guid": "79c7e3d0-c299-4dcb-8224-4455121ee9b0",
    "_uuid": "d629ff2d2480ee46fbb7e2d37f6b5fab8052498a",
    "execution": {
     "iopub.execute_input": "2022-05-15T18:41:57.788755Z",
     "iopub.status.busy": "2022-05-15T18:41:57.787725Z",
     "iopub.status.idle": "2022-05-15T18:41:57.805556Z",
     "shell.execute_reply": "2022-05-15T18:41:57.804884Z"
    },
    "papermill": {
     "duration": 0.093478,
     "end_time": "2022-05-15T18:41:57.805673",
     "exception": false,
     "start_time": "2022-05-15T18:41:57.712195",
     "status": "completed"
    },
    "tags": []
   },
   "outputs": [
    {
     "data": {
      "text/html": [
       "<div>\n",
       "<style scoped>\n",
       "    .dataframe tbody tr th:only-of-type {\n",
       "        vertical-align: middle;\n",
       "    }\n",
       "\n",
       "    .dataframe tbody tr th {\n",
       "        vertical-align: top;\n",
       "    }\n",
       "\n",
       "    .dataframe thead th {\n",
       "        text-align: right;\n",
       "    }\n",
       "</style>\n",
       "<table border=\"1\" class=\"dataframe\">\n",
       "  <thead>\n",
       "    <tr style=\"text-align: right;\">\n",
       "      <th></th>\n",
       "      <th>Unnamed: 0</th>\n",
       "      <th>id</th>\n",
       "      <th>Gender</th>\n",
       "      <th>Customer Type</th>\n",
       "      <th>Age</th>\n",
       "      <th>Type of Travel</th>\n",
       "      <th>Class</th>\n",
       "      <th>Flight Distance</th>\n",
       "      <th>Inflight wifi service</th>\n",
       "      <th>Departure/Arrival time convenient</th>\n",
       "      <th>...</th>\n",
       "      <th>Inflight entertainment</th>\n",
       "      <th>On-board service</th>\n",
       "      <th>Leg room service</th>\n",
       "      <th>Baggage handling</th>\n",
       "      <th>Checkin service</th>\n",
       "      <th>Inflight service</th>\n",
       "      <th>Cleanliness</th>\n",
       "      <th>Departure Delay in Minutes</th>\n",
       "      <th>Arrival Delay in Minutes</th>\n",
       "      <th>satisfaction</th>\n",
       "    </tr>\n",
       "  </thead>\n",
       "  <tbody>\n",
       "    <tr>\n",
       "      <th>0</th>\n",
       "      <td>0</td>\n",
       "      <td>70172</td>\n",
       "      <td>Male</td>\n",
       "      <td>Loyal Customer</td>\n",
       "      <td>13</td>\n",
       "      <td>Personal Travel</td>\n",
       "      <td>Eco Plus</td>\n",
       "      <td>460</td>\n",
       "      <td>3</td>\n",
       "      <td>4</td>\n",
       "      <td>...</td>\n",
       "      <td>5</td>\n",
       "      <td>4</td>\n",
       "      <td>3</td>\n",
       "      <td>4</td>\n",
       "      <td>4</td>\n",
       "      <td>5</td>\n",
       "      <td>5</td>\n",
       "      <td>25</td>\n",
       "      <td>18.0</td>\n",
       "      <td>neutral or dissatisfied</td>\n",
       "    </tr>\n",
       "    <tr>\n",
       "      <th>1</th>\n",
       "      <td>1</td>\n",
       "      <td>5047</td>\n",
       "      <td>Male</td>\n",
       "      <td>disloyal Customer</td>\n",
       "      <td>25</td>\n",
       "      <td>Business travel</td>\n",
       "      <td>Business</td>\n",
       "      <td>235</td>\n",
       "      <td>3</td>\n",
       "      <td>2</td>\n",
       "      <td>...</td>\n",
       "      <td>1</td>\n",
       "      <td>1</td>\n",
       "      <td>5</td>\n",
       "      <td>3</td>\n",
       "      <td>1</td>\n",
       "      <td>4</td>\n",
       "      <td>1</td>\n",
       "      <td>1</td>\n",
       "      <td>6.0</td>\n",
       "      <td>neutral or dissatisfied</td>\n",
       "    </tr>\n",
       "    <tr>\n",
       "      <th>2</th>\n",
       "      <td>2</td>\n",
       "      <td>110028</td>\n",
       "      <td>Female</td>\n",
       "      <td>Loyal Customer</td>\n",
       "      <td>26</td>\n",
       "      <td>Business travel</td>\n",
       "      <td>Business</td>\n",
       "      <td>1142</td>\n",
       "      <td>2</td>\n",
       "      <td>2</td>\n",
       "      <td>...</td>\n",
       "      <td>5</td>\n",
       "      <td>4</td>\n",
       "      <td>3</td>\n",
       "      <td>4</td>\n",
       "      <td>4</td>\n",
       "      <td>4</td>\n",
       "      <td>5</td>\n",
       "      <td>0</td>\n",
       "      <td>0.0</td>\n",
       "      <td>satisfied</td>\n",
       "    </tr>\n",
       "    <tr>\n",
       "      <th>3</th>\n",
       "      <td>3</td>\n",
       "      <td>24026</td>\n",
       "      <td>Female</td>\n",
       "      <td>Loyal Customer</td>\n",
       "      <td>25</td>\n",
       "      <td>Business travel</td>\n",
       "      <td>Business</td>\n",
       "      <td>562</td>\n",
       "      <td>2</td>\n",
       "      <td>5</td>\n",
       "      <td>...</td>\n",
       "      <td>2</td>\n",
       "      <td>2</td>\n",
       "      <td>5</td>\n",
       "      <td>3</td>\n",
       "      <td>1</td>\n",
       "      <td>4</td>\n",
       "      <td>2</td>\n",
       "      <td>11</td>\n",
       "      <td>9.0</td>\n",
       "      <td>neutral or dissatisfied</td>\n",
       "    </tr>\n",
       "    <tr>\n",
       "      <th>4</th>\n",
       "      <td>4</td>\n",
       "      <td>119299</td>\n",
       "      <td>Male</td>\n",
       "      <td>Loyal Customer</td>\n",
       "      <td>61</td>\n",
       "      <td>Business travel</td>\n",
       "      <td>Business</td>\n",
       "      <td>214</td>\n",
       "      <td>3</td>\n",
       "      <td>3</td>\n",
       "      <td>...</td>\n",
       "      <td>3</td>\n",
       "      <td>3</td>\n",
       "      <td>4</td>\n",
       "      <td>4</td>\n",
       "      <td>3</td>\n",
       "      <td>3</td>\n",
       "      <td>3</td>\n",
       "      <td>0</td>\n",
       "      <td>0.0</td>\n",
       "      <td>satisfied</td>\n",
       "    </tr>\n",
       "    <tr>\n",
       "      <th>5</th>\n",
       "      <td>5</td>\n",
       "      <td>111157</td>\n",
       "      <td>Female</td>\n",
       "      <td>Loyal Customer</td>\n",
       "      <td>26</td>\n",
       "      <td>Personal Travel</td>\n",
       "      <td>Eco</td>\n",
       "      <td>1180</td>\n",
       "      <td>3</td>\n",
       "      <td>4</td>\n",
       "      <td>...</td>\n",
       "      <td>1</td>\n",
       "      <td>3</td>\n",
       "      <td>4</td>\n",
       "      <td>4</td>\n",
       "      <td>4</td>\n",
       "      <td>4</td>\n",
       "      <td>1</td>\n",
       "      <td>0</td>\n",
       "      <td>0.0</td>\n",
       "      <td>neutral or dissatisfied</td>\n",
       "    </tr>\n",
       "    <tr>\n",
       "      <th>6</th>\n",
       "      <td>6</td>\n",
       "      <td>82113</td>\n",
       "      <td>Male</td>\n",
       "      <td>Loyal Customer</td>\n",
       "      <td>47</td>\n",
       "      <td>Personal Travel</td>\n",
       "      <td>Eco</td>\n",
       "      <td>1276</td>\n",
       "      <td>2</td>\n",
       "      <td>4</td>\n",
       "      <td>...</td>\n",
       "      <td>2</td>\n",
       "      <td>3</td>\n",
       "      <td>3</td>\n",
       "      <td>4</td>\n",
       "      <td>3</td>\n",
       "      <td>5</td>\n",
       "      <td>2</td>\n",
       "      <td>9</td>\n",
       "      <td>23.0</td>\n",
       "      <td>neutral or dissatisfied</td>\n",
       "    </tr>\n",
       "    <tr>\n",
       "      <th>7</th>\n",
       "      <td>7</td>\n",
       "      <td>96462</td>\n",
       "      <td>Female</td>\n",
       "      <td>Loyal Customer</td>\n",
       "      <td>52</td>\n",
       "      <td>Business travel</td>\n",
       "      <td>Business</td>\n",
       "      <td>2035</td>\n",
       "      <td>4</td>\n",
       "      <td>3</td>\n",
       "      <td>...</td>\n",
       "      <td>5</td>\n",
       "      <td>5</td>\n",
       "      <td>5</td>\n",
       "      <td>5</td>\n",
       "      <td>4</td>\n",
       "      <td>5</td>\n",
       "      <td>4</td>\n",
       "      <td>4</td>\n",
       "      <td>0.0</td>\n",
       "      <td>satisfied</td>\n",
       "    </tr>\n",
       "    <tr>\n",
       "      <th>8</th>\n",
       "      <td>8</td>\n",
       "      <td>79485</td>\n",
       "      <td>Female</td>\n",
       "      <td>Loyal Customer</td>\n",
       "      <td>41</td>\n",
       "      <td>Business travel</td>\n",
       "      <td>Business</td>\n",
       "      <td>853</td>\n",
       "      <td>1</td>\n",
       "      <td>2</td>\n",
       "      <td>...</td>\n",
       "      <td>1</td>\n",
       "      <td>1</td>\n",
       "      <td>2</td>\n",
       "      <td>1</td>\n",
       "      <td>4</td>\n",
       "      <td>1</td>\n",
       "      <td>2</td>\n",
       "      <td>0</td>\n",
       "      <td>0.0</td>\n",
       "      <td>neutral or dissatisfied</td>\n",
       "    </tr>\n",
       "    <tr>\n",
       "      <th>9</th>\n",
       "      <td>9</td>\n",
       "      <td>65725</td>\n",
       "      <td>Male</td>\n",
       "      <td>disloyal Customer</td>\n",
       "      <td>20</td>\n",
       "      <td>Business travel</td>\n",
       "      <td>Eco</td>\n",
       "      <td>1061</td>\n",
       "      <td>3</td>\n",
       "      <td>3</td>\n",
       "      <td>...</td>\n",
       "      <td>2</td>\n",
       "      <td>2</td>\n",
       "      <td>3</td>\n",
       "      <td>4</td>\n",
       "      <td>4</td>\n",
       "      <td>3</td>\n",
       "      <td>2</td>\n",
       "      <td>0</td>\n",
       "      <td>0.0</td>\n",
       "      <td>neutral or dissatisfied</td>\n",
       "    </tr>\n",
       "  </tbody>\n",
       "</table>\n",
       "<p>10 rows × 25 columns</p>\n",
       "</div>"
      ],
      "text/plain": [
       "   Unnamed: 0      id  Gender      Customer Type  Age   Type of Travel  \\\n",
       "0           0   70172    Male     Loyal Customer   13  Personal Travel   \n",
       "1           1    5047    Male  disloyal Customer   25  Business travel   \n",
       "2           2  110028  Female     Loyal Customer   26  Business travel   \n",
       "3           3   24026  Female     Loyal Customer   25  Business travel   \n",
       "4           4  119299    Male     Loyal Customer   61  Business travel   \n",
       "5           5  111157  Female     Loyal Customer   26  Personal Travel   \n",
       "6           6   82113    Male     Loyal Customer   47  Personal Travel   \n",
       "7           7   96462  Female     Loyal Customer   52  Business travel   \n",
       "8           8   79485  Female     Loyal Customer   41  Business travel   \n",
       "9           9   65725    Male  disloyal Customer   20  Business travel   \n",
       "\n",
       "      Class  Flight Distance  Inflight wifi service  \\\n",
       "0  Eco Plus              460                      3   \n",
       "1  Business              235                      3   \n",
       "2  Business             1142                      2   \n",
       "3  Business              562                      2   \n",
       "4  Business              214                      3   \n",
       "5       Eco             1180                      3   \n",
       "6       Eco             1276                      2   \n",
       "7  Business             2035                      4   \n",
       "8  Business              853                      1   \n",
       "9       Eco             1061                      3   \n",
       "\n",
       "   Departure/Arrival time convenient  ...  Inflight entertainment  \\\n",
       "0                                  4  ...                       5   \n",
       "1                                  2  ...                       1   \n",
       "2                                  2  ...                       5   \n",
       "3                                  5  ...                       2   \n",
       "4                                  3  ...                       3   \n",
       "5                                  4  ...                       1   \n",
       "6                                  4  ...                       2   \n",
       "7                                  3  ...                       5   \n",
       "8                                  2  ...                       1   \n",
       "9                                  3  ...                       2   \n",
       "\n",
       "   On-board service  Leg room service  Baggage handling  Checkin service  \\\n",
       "0                 4                 3                 4                4   \n",
       "1                 1                 5                 3                1   \n",
       "2                 4                 3                 4                4   \n",
       "3                 2                 5                 3                1   \n",
       "4                 3                 4                 4                3   \n",
       "5                 3                 4                 4                4   \n",
       "6                 3                 3                 4                3   \n",
       "7                 5                 5                 5                4   \n",
       "8                 1                 2                 1                4   \n",
       "9                 2                 3                 4                4   \n",
       "\n",
       "   Inflight service  Cleanliness  Departure Delay in Minutes  \\\n",
       "0                 5            5                          25   \n",
       "1                 4            1                           1   \n",
       "2                 4            5                           0   \n",
       "3                 4            2                          11   \n",
       "4                 3            3                           0   \n",
       "5                 4            1                           0   \n",
       "6                 5            2                           9   \n",
       "7                 5            4                           4   \n",
       "8                 1            2                           0   \n",
       "9                 3            2                           0   \n",
       "\n",
       "   Arrival Delay in Minutes             satisfaction  \n",
       "0                      18.0  neutral or dissatisfied  \n",
       "1                       6.0  neutral or dissatisfied  \n",
       "2                       0.0                satisfied  \n",
       "3                       9.0  neutral or dissatisfied  \n",
       "4                       0.0                satisfied  \n",
       "5                       0.0  neutral or dissatisfied  \n",
       "6                      23.0  neutral or dissatisfied  \n",
       "7                       0.0                satisfied  \n",
       "8                       0.0  neutral or dissatisfied  \n",
       "9                       0.0  neutral or dissatisfied  \n",
       "\n",
       "[10 rows x 25 columns]"
      ]
     },
     "execution_count": 3,
     "metadata": {},
     "output_type": "execute_result"
    }
   ],
   "source": [
    "# Get a snapshot of data\n",
    "train.head(10)"
   ]
  },
  {
   "cell_type": "code",
   "execution_count": 4,
   "metadata": {
    "execution": {
     "iopub.execute_input": "2022-05-15T18:41:57.917579Z",
     "iopub.status.busy": "2022-05-15T18:41:57.916912Z",
     "iopub.status.idle": "2022-05-15T18:41:57.951217Z",
     "shell.execute_reply": "2022-05-15T18:41:57.951778Z"
    },
    "papermill": {
     "duration": 0.092013,
     "end_time": "2022-05-15T18:41:57.951928",
     "exception": false,
     "start_time": "2022-05-15T18:41:57.859915",
     "status": "completed"
    },
    "tags": []
   },
   "outputs": [],
   "source": [
    "# Drop unnecessary columns\n",
    "train = train.drop('Unnamed: 0', axis=1)\n",
    "train = train.drop('id', axis=1)"
   ]
  },
  {
   "cell_type": "code",
   "execution_count": 5,
   "metadata": {
    "execution": {
     "iopub.execute_input": "2022-05-15T18:41:58.064324Z",
     "iopub.status.busy": "2022-05-15T18:41:58.063624Z",
     "iopub.status.idle": "2022-05-15T18:41:58.140760Z",
     "shell.execute_reply": "2022-05-15T18:41:58.141457Z"
    },
    "papermill": {
     "duration": 0.135757,
     "end_time": "2022-05-15T18:41:58.141675",
     "exception": false,
     "start_time": "2022-05-15T18:41:58.005918",
     "status": "completed"
    },
    "tags": []
   },
   "outputs": [
    {
     "name": "stdout",
     "output_type": "stream",
     "text": [
      "<class 'pandas.core.frame.DataFrame'>\n",
      "RangeIndex: 103904 entries, 0 to 103903\n",
      "Data columns (total 23 columns):\n",
      " #   Column                             Non-Null Count   Dtype  \n",
      "---  ------                             --------------   -----  \n",
      " 0   Gender                             103904 non-null  object \n",
      " 1   Customer Type                      103904 non-null  object \n",
      " 2   Age                                103904 non-null  int64  \n",
      " 3   Type of Travel                     103904 non-null  object \n",
      " 4   Class                              103904 non-null  object \n",
      " 5   Flight Distance                    103904 non-null  int64  \n",
      " 6   Inflight wifi service              103904 non-null  int64  \n",
      " 7   Departure/Arrival time convenient  103904 non-null  int64  \n",
      " 8   Ease of Online booking             103904 non-null  int64  \n",
      " 9   Gate location                      103904 non-null  int64  \n",
      " 10  Food and drink                     103904 non-null  int64  \n",
      " 11  Online boarding                    103904 non-null  int64  \n",
      " 12  Seat comfort                       103904 non-null  int64  \n",
      " 13  Inflight entertainment             103904 non-null  int64  \n",
      " 14  On-board service                   103904 non-null  int64  \n",
      " 15  Leg room service                   103904 non-null  int64  \n",
      " 16  Baggage handling                   103904 non-null  int64  \n",
      " 17  Checkin service                    103904 non-null  int64  \n",
      " 18  Inflight service                   103904 non-null  int64  \n",
      " 19  Cleanliness                        103904 non-null  int64  \n",
      " 20  Departure Delay in Minutes         103904 non-null  int64  \n",
      " 21  Arrival Delay in Minutes           103594 non-null  float64\n",
      " 22  satisfaction                       103904 non-null  object \n",
      "dtypes: float64(1), int64(17), object(5)\n",
      "memory usage: 18.2+ MB\n"
     ]
    }
   ],
   "source": [
    "# Check size of the data set\n",
    "train.info()"
   ]
  },
  {
   "cell_type": "markdown",
   "metadata": {
    "papermill": {
     "duration": 0.054287,
     "end_time": "2022-05-15T18:41:58.250383",
     "exception": false,
     "start_time": "2022-05-15T18:41:58.196096",
     "status": "completed"
    },
    "tags": []
   },
   "source": [
    "Repeating the same steps for test data set as well..."
   ]
  },
  {
   "cell_type": "code",
   "execution_count": 6,
   "metadata": {
    "execution": {
     "iopub.execute_input": "2022-05-15T18:41:58.372342Z",
     "iopub.status.busy": "2022-05-15T18:41:58.371332Z",
     "iopub.status.idle": "2022-05-15T18:41:58.375078Z",
     "shell.execute_reply": "2022-05-15T18:41:58.375613Z"
    },
    "papermill": {
     "duration": 0.070802,
     "end_time": "2022-05-15T18:41:58.375776",
     "exception": false,
     "start_time": "2022-05-15T18:41:58.304974",
     "status": "completed"
    },
    "tags": []
   },
   "outputs": [
    {
     "data": {
      "text/plain": [
       "(25976, 25)"
      ]
     },
     "execution_count": 6,
     "metadata": {},
     "output_type": "execute_result"
    }
   ],
   "source": [
    "test.shape"
   ]
  },
  {
   "cell_type": "code",
   "execution_count": 7,
   "metadata": {
    "execution": {
     "iopub.execute_input": "2022-05-15T18:41:58.500810Z",
     "iopub.status.busy": "2022-05-15T18:41:58.499774Z",
     "iopub.status.idle": "2022-05-15T18:41:58.532009Z",
     "shell.execute_reply": "2022-05-15T18:41:58.531422Z"
    },
    "papermill": {
     "duration": 0.096723,
     "end_time": "2022-05-15T18:41:58.532141",
     "exception": false,
     "start_time": "2022-05-15T18:41:58.435418",
     "status": "completed"
    },
    "tags": []
   },
   "outputs": [
    {
     "data": {
      "text/html": [
       "<div>\n",
       "<style scoped>\n",
       "    .dataframe tbody tr th:only-of-type {\n",
       "        vertical-align: middle;\n",
       "    }\n",
       "\n",
       "    .dataframe tbody tr th {\n",
       "        vertical-align: top;\n",
       "    }\n",
       "\n",
       "    .dataframe thead th {\n",
       "        text-align: right;\n",
       "    }\n",
       "</style>\n",
       "<table border=\"1\" class=\"dataframe\">\n",
       "  <thead>\n",
       "    <tr style=\"text-align: right;\">\n",
       "      <th></th>\n",
       "      <th>Unnamed: 0</th>\n",
       "      <th>id</th>\n",
       "      <th>Gender</th>\n",
       "      <th>Customer Type</th>\n",
       "      <th>Age</th>\n",
       "      <th>Type of Travel</th>\n",
       "      <th>Class</th>\n",
       "      <th>Flight Distance</th>\n",
       "      <th>Inflight wifi service</th>\n",
       "      <th>Departure/Arrival time convenient</th>\n",
       "      <th>...</th>\n",
       "      <th>Inflight entertainment</th>\n",
       "      <th>On-board service</th>\n",
       "      <th>Leg room service</th>\n",
       "      <th>Baggage handling</th>\n",
       "      <th>Checkin service</th>\n",
       "      <th>Inflight service</th>\n",
       "      <th>Cleanliness</th>\n",
       "      <th>Departure Delay in Minutes</th>\n",
       "      <th>Arrival Delay in Minutes</th>\n",
       "      <th>satisfaction</th>\n",
       "    </tr>\n",
       "  </thead>\n",
       "  <tbody>\n",
       "    <tr>\n",
       "      <th>0</th>\n",
       "      <td>0</td>\n",
       "      <td>19556</td>\n",
       "      <td>Female</td>\n",
       "      <td>Loyal Customer</td>\n",
       "      <td>52</td>\n",
       "      <td>Business travel</td>\n",
       "      <td>Eco</td>\n",
       "      <td>160</td>\n",
       "      <td>5</td>\n",
       "      <td>4</td>\n",
       "      <td>...</td>\n",
       "      <td>5</td>\n",
       "      <td>5</td>\n",
       "      <td>5</td>\n",
       "      <td>5</td>\n",
       "      <td>2</td>\n",
       "      <td>5</td>\n",
       "      <td>5</td>\n",
       "      <td>50</td>\n",
       "      <td>44.0</td>\n",
       "      <td>satisfied</td>\n",
       "    </tr>\n",
       "    <tr>\n",
       "      <th>1</th>\n",
       "      <td>1</td>\n",
       "      <td>90035</td>\n",
       "      <td>Female</td>\n",
       "      <td>Loyal Customer</td>\n",
       "      <td>36</td>\n",
       "      <td>Business travel</td>\n",
       "      <td>Business</td>\n",
       "      <td>2863</td>\n",
       "      <td>1</td>\n",
       "      <td>1</td>\n",
       "      <td>...</td>\n",
       "      <td>4</td>\n",
       "      <td>4</td>\n",
       "      <td>4</td>\n",
       "      <td>4</td>\n",
       "      <td>3</td>\n",
       "      <td>4</td>\n",
       "      <td>5</td>\n",
       "      <td>0</td>\n",
       "      <td>0.0</td>\n",
       "      <td>satisfied</td>\n",
       "    </tr>\n",
       "    <tr>\n",
       "      <th>2</th>\n",
       "      <td>2</td>\n",
       "      <td>12360</td>\n",
       "      <td>Male</td>\n",
       "      <td>disloyal Customer</td>\n",
       "      <td>20</td>\n",
       "      <td>Business travel</td>\n",
       "      <td>Eco</td>\n",
       "      <td>192</td>\n",
       "      <td>2</td>\n",
       "      <td>0</td>\n",
       "      <td>...</td>\n",
       "      <td>2</td>\n",
       "      <td>4</td>\n",
       "      <td>1</td>\n",
       "      <td>3</td>\n",
       "      <td>2</td>\n",
       "      <td>2</td>\n",
       "      <td>2</td>\n",
       "      <td>0</td>\n",
       "      <td>0.0</td>\n",
       "      <td>neutral or dissatisfied</td>\n",
       "    </tr>\n",
       "    <tr>\n",
       "      <th>3</th>\n",
       "      <td>3</td>\n",
       "      <td>77959</td>\n",
       "      <td>Male</td>\n",
       "      <td>Loyal Customer</td>\n",
       "      <td>44</td>\n",
       "      <td>Business travel</td>\n",
       "      <td>Business</td>\n",
       "      <td>3377</td>\n",
       "      <td>0</td>\n",
       "      <td>0</td>\n",
       "      <td>...</td>\n",
       "      <td>1</td>\n",
       "      <td>1</td>\n",
       "      <td>1</td>\n",
       "      <td>1</td>\n",
       "      <td>3</td>\n",
       "      <td>1</td>\n",
       "      <td>4</td>\n",
       "      <td>0</td>\n",
       "      <td>6.0</td>\n",
       "      <td>satisfied</td>\n",
       "    </tr>\n",
       "    <tr>\n",
       "      <th>4</th>\n",
       "      <td>4</td>\n",
       "      <td>36875</td>\n",
       "      <td>Female</td>\n",
       "      <td>Loyal Customer</td>\n",
       "      <td>49</td>\n",
       "      <td>Business travel</td>\n",
       "      <td>Eco</td>\n",
       "      <td>1182</td>\n",
       "      <td>2</td>\n",
       "      <td>3</td>\n",
       "      <td>...</td>\n",
       "      <td>2</td>\n",
       "      <td>2</td>\n",
       "      <td>2</td>\n",
       "      <td>2</td>\n",
       "      <td>4</td>\n",
       "      <td>2</td>\n",
       "      <td>4</td>\n",
       "      <td>0</td>\n",
       "      <td>20.0</td>\n",
       "      <td>satisfied</td>\n",
       "    </tr>\n",
       "    <tr>\n",
       "      <th>5</th>\n",
       "      <td>5</td>\n",
       "      <td>39177</td>\n",
       "      <td>Male</td>\n",
       "      <td>Loyal Customer</td>\n",
       "      <td>16</td>\n",
       "      <td>Business travel</td>\n",
       "      <td>Eco</td>\n",
       "      <td>311</td>\n",
       "      <td>3</td>\n",
       "      <td>3</td>\n",
       "      <td>...</td>\n",
       "      <td>5</td>\n",
       "      <td>4</td>\n",
       "      <td>3</td>\n",
       "      <td>1</td>\n",
       "      <td>1</td>\n",
       "      <td>2</td>\n",
       "      <td>5</td>\n",
       "      <td>0</td>\n",
       "      <td>0.0</td>\n",
       "      <td>satisfied</td>\n",
       "    </tr>\n",
       "    <tr>\n",
       "      <th>6</th>\n",
       "      <td>6</td>\n",
       "      <td>79433</td>\n",
       "      <td>Female</td>\n",
       "      <td>Loyal Customer</td>\n",
       "      <td>77</td>\n",
       "      <td>Business travel</td>\n",
       "      <td>Business</td>\n",
       "      <td>3987</td>\n",
       "      <td>5</td>\n",
       "      <td>5</td>\n",
       "      <td>...</td>\n",
       "      <td>5</td>\n",
       "      <td>5</td>\n",
       "      <td>5</td>\n",
       "      <td>5</td>\n",
       "      <td>4</td>\n",
       "      <td>5</td>\n",
       "      <td>3</td>\n",
       "      <td>0</td>\n",
       "      <td>0.0</td>\n",
       "      <td>satisfied</td>\n",
       "    </tr>\n",
       "    <tr>\n",
       "      <th>7</th>\n",
       "      <td>7</td>\n",
       "      <td>97286</td>\n",
       "      <td>Female</td>\n",
       "      <td>Loyal Customer</td>\n",
       "      <td>43</td>\n",
       "      <td>Business travel</td>\n",
       "      <td>Business</td>\n",
       "      <td>2556</td>\n",
       "      <td>2</td>\n",
       "      <td>2</td>\n",
       "      <td>...</td>\n",
       "      <td>4</td>\n",
       "      <td>4</td>\n",
       "      <td>4</td>\n",
       "      <td>4</td>\n",
       "      <td>5</td>\n",
       "      <td>4</td>\n",
       "      <td>3</td>\n",
       "      <td>77</td>\n",
       "      <td>65.0</td>\n",
       "      <td>satisfied</td>\n",
       "    </tr>\n",
       "    <tr>\n",
       "      <th>8</th>\n",
       "      <td>8</td>\n",
       "      <td>27508</td>\n",
       "      <td>Male</td>\n",
       "      <td>Loyal Customer</td>\n",
       "      <td>47</td>\n",
       "      <td>Business travel</td>\n",
       "      <td>Eco</td>\n",
       "      <td>556</td>\n",
       "      <td>5</td>\n",
       "      <td>2</td>\n",
       "      <td>...</td>\n",
       "      <td>5</td>\n",
       "      <td>2</td>\n",
       "      <td>2</td>\n",
       "      <td>5</td>\n",
       "      <td>3</td>\n",
       "      <td>3</td>\n",
       "      <td>5</td>\n",
       "      <td>1</td>\n",
       "      <td>0.0</td>\n",
       "      <td>satisfied</td>\n",
       "    </tr>\n",
       "    <tr>\n",
       "      <th>9</th>\n",
       "      <td>9</td>\n",
       "      <td>62482</td>\n",
       "      <td>Female</td>\n",
       "      <td>Loyal Customer</td>\n",
       "      <td>46</td>\n",
       "      <td>Business travel</td>\n",
       "      <td>Business</td>\n",
       "      <td>1744</td>\n",
       "      <td>2</td>\n",
       "      <td>2</td>\n",
       "      <td>...</td>\n",
       "      <td>4</td>\n",
       "      <td>4</td>\n",
       "      <td>4</td>\n",
       "      <td>4</td>\n",
       "      <td>5</td>\n",
       "      <td>4</td>\n",
       "      <td>4</td>\n",
       "      <td>28</td>\n",
       "      <td>14.0</td>\n",
       "      <td>satisfied</td>\n",
       "    </tr>\n",
       "  </tbody>\n",
       "</table>\n",
       "<p>10 rows × 25 columns</p>\n",
       "</div>"
      ],
      "text/plain": [
       "   Unnamed: 0     id  Gender      Customer Type  Age   Type of Travel  \\\n",
       "0           0  19556  Female     Loyal Customer   52  Business travel   \n",
       "1           1  90035  Female     Loyal Customer   36  Business travel   \n",
       "2           2  12360    Male  disloyal Customer   20  Business travel   \n",
       "3           3  77959    Male     Loyal Customer   44  Business travel   \n",
       "4           4  36875  Female     Loyal Customer   49  Business travel   \n",
       "5           5  39177    Male     Loyal Customer   16  Business travel   \n",
       "6           6  79433  Female     Loyal Customer   77  Business travel   \n",
       "7           7  97286  Female     Loyal Customer   43  Business travel   \n",
       "8           8  27508    Male     Loyal Customer   47  Business travel   \n",
       "9           9  62482  Female     Loyal Customer   46  Business travel   \n",
       "\n",
       "      Class  Flight Distance  Inflight wifi service  \\\n",
       "0       Eco              160                      5   \n",
       "1  Business             2863                      1   \n",
       "2       Eco              192                      2   \n",
       "3  Business             3377                      0   \n",
       "4       Eco             1182                      2   \n",
       "5       Eco              311                      3   \n",
       "6  Business             3987                      5   \n",
       "7  Business             2556                      2   \n",
       "8       Eco              556                      5   \n",
       "9  Business             1744                      2   \n",
       "\n",
       "   Departure/Arrival time convenient  ...  Inflight entertainment  \\\n",
       "0                                  4  ...                       5   \n",
       "1                                  1  ...                       4   \n",
       "2                                  0  ...                       2   \n",
       "3                                  0  ...                       1   \n",
       "4                                  3  ...                       2   \n",
       "5                                  3  ...                       5   \n",
       "6                                  5  ...                       5   \n",
       "7                                  2  ...                       4   \n",
       "8                                  2  ...                       5   \n",
       "9                                  2  ...                       4   \n",
       "\n",
       "   On-board service  Leg room service  Baggage handling  Checkin service  \\\n",
       "0                 5                 5                 5                2   \n",
       "1                 4                 4                 4                3   \n",
       "2                 4                 1                 3                2   \n",
       "3                 1                 1                 1                3   \n",
       "4                 2                 2                 2                4   \n",
       "5                 4                 3                 1                1   \n",
       "6                 5                 5                 5                4   \n",
       "7                 4                 4                 4                5   \n",
       "8                 2                 2                 5                3   \n",
       "9                 4                 4                 4                5   \n",
       "\n",
       "   Inflight service  Cleanliness  Departure Delay in Minutes  \\\n",
       "0                 5            5                          50   \n",
       "1                 4            5                           0   \n",
       "2                 2            2                           0   \n",
       "3                 1            4                           0   \n",
       "4                 2            4                           0   \n",
       "5                 2            5                           0   \n",
       "6                 5            3                           0   \n",
       "7                 4            3                          77   \n",
       "8                 3            5                           1   \n",
       "9                 4            4                          28   \n",
       "\n",
       "   Arrival Delay in Minutes             satisfaction  \n",
       "0                      44.0                satisfied  \n",
       "1                       0.0                satisfied  \n",
       "2                       0.0  neutral or dissatisfied  \n",
       "3                       6.0                satisfied  \n",
       "4                      20.0                satisfied  \n",
       "5                       0.0                satisfied  \n",
       "6                       0.0                satisfied  \n",
       "7                      65.0                satisfied  \n",
       "8                       0.0                satisfied  \n",
       "9                      14.0                satisfied  \n",
       "\n",
       "[10 rows x 25 columns]"
      ]
     },
     "execution_count": 7,
     "metadata": {},
     "output_type": "execute_result"
    }
   ],
   "source": [
    "test.head(10)"
   ]
  },
  {
   "cell_type": "code",
   "execution_count": 8,
   "metadata": {
    "execution": {
     "iopub.execute_input": "2022-05-15T18:41:58.658879Z",
     "iopub.status.busy": "2022-05-15T18:41:58.658144Z",
     "iopub.status.idle": "2022-05-15T18:41:58.668186Z",
     "shell.execute_reply": "2022-05-15T18:41:58.668904Z"
    },
    "papermill": {
     "duration": 0.078969,
     "end_time": "2022-05-15T18:41:58.669071",
     "exception": false,
     "start_time": "2022-05-15T18:41:58.590102",
     "status": "completed"
    },
    "tags": []
   },
   "outputs": [],
   "source": [
    "test = test.drop('Unnamed: 0', axis=1)\n",
    "test = test.drop('id', axis=1)"
   ]
  },
  {
   "cell_type": "code",
   "execution_count": 9,
   "metadata": {
    "execution": {
     "iopub.execute_input": "2022-05-15T18:41:58.799164Z",
     "iopub.status.busy": "2022-05-15T18:41:58.798419Z",
     "iopub.status.idle": "2022-05-15T18:41:58.812829Z",
     "shell.execute_reply": "2022-05-15T18:41:58.812144Z"
    },
    "papermill": {
     "duration": 0.088311,
     "end_time": "2022-05-15T18:41:58.812971",
     "exception": false,
     "start_time": "2022-05-15T18:41:58.724660",
     "status": "completed"
    },
    "tags": []
   },
   "outputs": [
    {
     "name": "stdout",
     "output_type": "stream",
     "text": [
      "<class 'pandas.core.frame.DataFrame'>\n",
      "RangeIndex: 25976 entries, 0 to 25975\n",
      "Data columns (total 23 columns):\n",
      " #   Column                             Non-Null Count  Dtype  \n",
      "---  ------                             --------------  -----  \n",
      " 0   Gender                             25976 non-null  object \n",
      " 1   Customer Type                      25976 non-null  object \n",
      " 2   Age                                25976 non-null  int64  \n",
      " 3   Type of Travel                     25976 non-null  object \n",
      " 4   Class                              25976 non-null  object \n",
      " 5   Flight Distance                    25976 non-null  int64  \n",
      " 6   Inflight wifi service              25976 non-null  int64  \n",
      " 7   Departure/Arrival time convenient  25976 non-null  int64  \n",
      " 8   Ease of Online booking             25976 non-null  int64  \n",
      " 9   Gate location                      25976 non-null  int64  \n",
      " 10  Food and drink                     25976 non-null  int64  \n",
      " 11  Online boarding                    25976 non-null  int64  \n",
      " 12  Seat comfort                       25976 non-null  int64  \n",
      " 13  Inflight entertainment             25976 non-null  int64  \n",
      " 14  On-board service                   25976 non-null  int64  \n",
      " 15  Leg room service                   25976 non-null  int64  \n",
      " 16  Baggage handling                   25976 non-null  int64  \n",
      " 17  Checkin service                    25976 non-null  int64  \n",
      " 18  Inflight service                   25976 non-null  int64  \n",
      " 19  Cleanliness                        25976 non-null  int64  \n",
      " 20  Departure Delay in Minutes         25976 non-null  int64  \n",
      " 21  Arrival Delay in Minutes           25893 non-null  float64\n",
      " 22  satisfaction                       25976 non-null  object \n",
      "dtypes: float64(1), int64(17), object(5)\n",
      "memory usage: 4.6+ MB\n"
     ]
    }
   ],
   "source": [
    "test.info()"
   ]
  },
  {
   "cell_type": "code",
   "execution_count": 10,
   "metadata": {
    "execution": {
     "iopub.execute_input": "2022-05-15T18:41:58.930292Z",
     "iopub.status.busy": "2022-05-15T18:41:58.929529Z",
     "iopub.status.idle": "2022-05-15T18:41:58.933894Z",
     "shell.execute_reply": "2022-05-15T18:41:58.934520Z"
    },
    "papermill": {
     "duration": 0.065897,
     "end_time": "2022-05-15T18:41:58.934664",
     "exception": false,
     "start_time": "2022-05-15T18:41:58.868767",
     "status": "completed"
    },
    "tags": []
   },
   "outputs": [],
   "source": [
    "# Replace spaces in the column names with underscore\n",
    "train.columns = [c.replace(' ', '_') for c in train.columns]"
   ]
  },
  {
   "cell_type": "code",
   "execution_count": 11,
   "metadata": {
    "execution": {
     "iopub.execute_input": "2022-05-15T18:41:59.049814Z",
     "iopub.status.busy": "2022-05-15T18:41:59.049146Z",
     "iopub.status.idle": "2022-05-15T18:41:59.054574Z",
     "shell.execute_reply": "2022-05-15T18:41:59.055461Z"
    },
    "papermill": {
     "duration": 0.065036,
     "end_time": "2022-05-15T18:41:59.055662",
     "exception": false,
     "start_time": "2022-05-15T18:41:58.990626",
     "status": "completed"
    },
    "tags": []
   },
   "outputs": [],
   "source": [
    "test.columns = [c.replace(' ', '_') for c in test.columns]"
   ]
  },
  {
   "cell_type": "code",
   "execution_count": 12,
   "metadata": {
    "execution": {
     "iopub.execute_input": "2022-05-15T18:41:59.173757Z",
     "iopub.status.busy": "2022-05-15T18:41:59.173076Z",
     "iopub.status.idle": "2022-05-15T18:41:59.234467Z",
     "shell.execute_reply": "2022-05-15T18:41:59.235057Z"
    },
    "papermill": {
     "duration": 0.120767,
     "end_time": "2022-05-15T18:41:59.235226",
     "exception": false,
     "start_time": "2022-05-15T18:41:59.114459",
     "status": "completed"
    },
    "tags": []
   },
   "outputs": [],
   "source": [
    "train['satisfaction'].replace({'neutral or dissatisfied': 0, 'satisfied': 1},inplace = True)"
   ]
  },
  {
   "cell_type": "code",
   "execution_count": 13,
   "metadata": {
    "execution": {
     "iopub.execute_input": "2022-05-15T18:41:59.354781Z",
     "iopub.status.busy": "2022-05-15T18:41:59.354064Z",
     "iopub.status.idle": "2022-05-15T18:41:59.374401Z",
     "shell.execute_reply": "2022-05-15T18:41:59.375019Z"
    },
    "papermill": {
     "duration": 0.081694,
     "end_time": "2022-05-15T18:41:59.375181",
     "exception": false,
     "start_time": "2022-05-15T18:41:59.293487",
     "status": "completed"
    },
    "tags": []
   },
   "outputs": [],
   "source": [
    "test['satisfaction'].replace({'neutral or dissatisfied': 0, 'satisfied': 1},inplace = True)"
   ]
  },
  {
   "cell_type": "markdown",
   "metadata": {
    "papermill": {
     "duration": 0.056078,
     "end_time": "2022-05-15T18:41:59.487168",
     "exception": false,
     "start_time": "2022-05-15T18:41:59.431090",
     "status": "completed"
    },
    "tags": []
   },
   "source": [
    "# Checking for Imbalance"
   ]
  },
  {
   "cell_type": "code",
   "execution_count": 14,
   "metadata": {
    "execution": {
     "iopub.execute_input": "2022-05-15T18:41:59.602451Z",
     "iopub.status.busy": "2022-05-15T18:41:59.601772Z",
     "iopub.status.idle": "2022-05-15T18:41:59.813406Z",
     "shell.execute_reply": "2022-05-15T18:41:59.812754Z"
    },
    "papermill": {
     "duration": 0.270297,
     "end_time": "2022-05-15T18:41:59.813535",
     "exception": false,
     "start_time": "2022-05-15T18:41:59.543238",
     "status": "completed"
    },
    "tags": []
   },
   "outputs": [
    {
     "data": {
      "image/png": "[encoded data removed]",
      "text/plain": [
       "<Figure size 576x360 with 1 Axes>"
      ]
     },
     "metadata": {
      "needs_background": "light"
     },
     "output_type": "display_data"
    }
   ],
   "source": [
    "# Checking the nature of data set: balanced or imbalanced?\n",
    "import matplotlib.pyplot as plt\n",
    "fig = plt.figure(figsize = (8,5))\n",
    "train.satisfaction.value_counts(normalize = True).plot(kind='bar', color= ['darkorange','steelblue'], alpha = 0.9, rot=0)\n",
    "plt.title('Satisfaction Indicator (0) and (1) in the Dataset')\n",
    "plt.show()"
   ]
  },
  {
   "cell_type": "markdown",
   "metadata": {
    "papermill": {
     "duration": 0.057301,
     "end_time": "2022-05-15T18:41:59.927813",
     "exception": false,
     "start_time": "2022-05-15T18:41:59.870512",
     "status": "completed"
    },
    "tags": []
   },
   "source": [
    "The above plot shows a distribution of around 55%:45% between neutral/dissatisfied passengers and satisfied passengers respectively. So the data is quite balanced and it does not require any special treatment/resampling.\n",
    "\n",
    "# Handling of Missing Data"
   ]
  },
  {
   "cell_type": "code",
   "execution_count": 15,
   "metadata": {
    "execution": {
     "iopub.execute_input": "2022-05-15T18:42:00.052598Z",
     "iopub.status.busy": "2022-05-15T18:42:00.051169Z",
     "iopub.status.idle": "2022-05-15T18:42:00.220789Z",
     "shell.execute_reply": "2022-05-15T18:42:00.220236Z"
    },
    "papermill": {
     "duration": 0.235766,
     "end_time": "2022-05-15T18:42:00.220922",
     "exception": false,
     "start_time": "2022-05-15T18:41:59.985156",
     "status": "completed"
    },
    "tags": []
   },
   "outputs": [
    {
     "data": {
      "text/html": [
       "<div>\n",
       "<style scoped>\n",
       "    .dataframe tbody tr th:only-of-type {\n",
       "        vertical-align: middle;\n",
       "    }\n",
       "\n",
       "    .dataframe tbody tr th {\n",
       "        vertical-align: top;\n",
       "    }\n",
       "\n",
       "    .dataframe thead th {\n",
       "        text-align: right;\n",
       "    }\n",
       "</style>\n",
       "<table border=\"1\" class=\"dataframe\">\n",
       "  <thead>\n",
       "    <tr style=\"text-align: right;\">\n",
       "      <th></th>\n",
       "      <th>Total</th>\n",
       "      <th>Percent</th>\n",
       "    </tr>\n",
       "  </thead>\n",
       "  <tbody>\n",
       "    <tr>\n",
       "      <th>Arrival_Delay_in_Minutes</th>\n",
       "      <td>310</td>\n",
       "      <td>0.002984</td>\n",
       "    </tr>\n",
       "    <tr>\n",
       "      <th>satisfaction</th>\n",
       "      <td>0</td>\n",
       "      <td>0.000000</td>\n",
       "    </tr>\n",
       "    <tr>\n",
       "      <th>Food_and_drink</th>\n",
       "      <td>0</td>\n",
       "      <td>0.000000</td>\n",
       "    </tr>\n",
       "    <tr>\n",
       "      <th>Customer_Type</th>\n",
       "      <td>0</td>\n",
       "      <td>0.000000</td>\n",
       "    </tr>\n",
       "    <tr>\n",
       "      <th>Age</th>\n",
       "      <td>0</td>\n",
       "      <td>0.000000</td>\n",
       "    </tr>\n",
       "  </tbody>\n",
       "</table>\n",
       "</div>"
      ],
      "text/plain": [
       "                          Total   Percent\n",
       "Arrival_Delay_in_Minutes    310  0.002984\n",
       "satisfaction                  0  0.000000\n",
       "Food_and_drink                0  0.000000\n",
       "Customer_Type                 0  0.000000\n",
       "Age                           0  0.000000"
      ]
     },
     "execution_count": 15,
     "metadata": {},
     "output_type": "execute_result"
    }
   ],
   "source": [
    "# Missing data\n",
    "total = train.isnull().sum().sort_values(ascending=False)\n",
    "percent = (train.isnull().sum()/train.isnull().count()).sort_values(ascending=False)\n",
    "missing = pd.concat([total, percent], axis=1, keys=['Total', 'Percent'])\n",
    "missing.head()"
   ]
  },
  {
   "cell_type": "code",
   "execution_count": 16,
   "metadata": {
    "execution": {
     "iopub.execute_input": "2022-05-15T18:42:00.354397Z",
     "iopub.status.busy": "2022-05-15T18:42:00.353281Z",
     "iopub.status.idle": "2022-05-15T18:42:00.361990Z",
     "shell.execute_reply": "2022-05-15T18:42:00.363008Z"
    },
    "papermill": {
     "duration": 0.084192,
     "end_time": "2022-05-15T18:42:00.363276",
     "exception": false,
     "start_time": "2022-05-15T18:42:00.279084",
     "status": "completed"
    },
    "tags": []
   },
   "outputs": [],
   "source": [
    "# Imputing missing value with mean\n",
    "train['Arrival_Delay_in_Minutes'] = train['Arrival_Delay_in_Minutes'].fillna(train['Arrival_Delay_in_Minutes'].mean())"
   ]
  },
  {
   "cell_type": "code",
   "execution_count": 17,
   "metadata": {
    "execution": {
     "iopub.execute_input": "2022-05-15T18:42:00.494152Z",
     "iopub.status.busy": "2022-05-15T18:42:00.493396Z",
     "iopub.status.idle": "2022-05-15T18:42:00.497370Z",
     "shell.execute_reply": "2022-05-15T18:42:00.496731Z"
    },
    "papermill": {
     "duration": 0.067014,
     "end_time": "2022-05-15T18:42:00.497498",
     "exception": false,
     "start_time": "2022-05-15T18:42:00.430484",
     "status": "completed"
    },
    "tags": []
   },
   "outputs": [],
   "source": [
    "test['Arrival_Delay_in_Minutes'] = test['Arrival_Delay_in_Minutes'].fillna(test['Arrival_Delay_in_Minutes'].mean())"
   ]
  },
  {
   "cell_type": "code",
   "execution_count": 18,
   "metadata": {
    "execution": {
     "iopub.execute_input": "2022-05-15T18:42:00.619805Z",
     "iopub.status.busy": "2022-05-15T18:42:00.619148Z",
     "iopub.status.idle": "2022-05-15T18:42:00.627126Z",
     "shell.execute_reply": "2022-05-15T18:42:00.627627Z"
    },
    "papermill": {
     "duration": 0.072484,
     "end_time": "2022-05-15T18:42:00.627775",
     "exception": false,
     "start_time": "2022-05-15T18:42:00.555291",
     "status": "completed"
    },
    "tags": []
   },
   "outputs": [
    {
     "data": {
      "text/plain": [
       "Index(['Gender', 'Customer_Type', 'Type_of_Travel', 'Class'], dtype='object')"
      ]
     },
     "execution_count": 18,
     "metadata": {},
     "output_type": "execute_result"
    }
   ],
   "source": [
    "# Check the list of categorical variables\n",
    "train.select_dtypes(include=['object']).columns"
   ]
  },
  {
   "cell_type": "code",
   "execution_count": 19,
   "metadata": {
    "execution": {
     "iopub.execute_input": "2022-05-15T18:42:00.794611Z",
     "iopub.status.busy": "2022-05-15T18:42:00.777547Z",
     "iopub.status.idle": "2022-05-15T18:42:00.867207Z",
     "shell.execute_reply": "2022-05-15T18:42:00.866485Z"
    },
    "papermill": {
     "duration": 0.181206,
     "end_time": "2022-05-15T18:42:00.867333",
     "exception": false,
     "start_time": "2022-05-15T18:42:00.686127",
     "status": "completed"
    },
    "tags": []
   },
   "outputs": [],
   "source": [
    "# Replace NaN with mode for categorical variables\n",
    "train['Gender'] = train['Gender'].fillna(train['Gender'].mode()[0])\n",
    "train['Customer_Type'] = train['Customer_Type'].fillna(train['Customer_Type'].mode()[0])\n",
    "train['Type_of_Travel'] = train['Type_of_Travel'].fillna(train['Type_of_Travel'].mode()[0])\n",
    "train['Class'] = train['Class'].fillna(train['Class'].mode()[0])"
   ]
  },
  {
   "cell_type": "code",
   "execution_count": 20,
   "metadata": {
    "execution": {
     "iopub.execute_input": "2022-05-15T18:42:01.064524Z",
     "iopub.status.busy": "2022-05-15T18:42:00.996693Z",
     "iopub.status.idle": "2022-05-15T18:42:01.091606Z",
     "shell.execute_reply": "2022-05-15T18:42:01.090991Z"
    },
    "papermill": {
     "duration": 0.164515,
     "end_time": "2022-05-15T18:42:01.091742",
     "exception": false,
     "start_time": "2022-05-15T18:42:00.927227",
     "status": "completed"
    },
    "tags": []
   },
   "outputs": [],
   "source": [
    "test['Gender'] = test['Gender'].fillna(test['Gender'].mode()[0])\n",
    "test['Customer_Type'] = test['Customer_Type'].fillna(test['Customer_Type'].mode()[0])\n",
    "test['Type_of_Travel'] = test['Type_of_Travel'].fillna(test['Type_of_Travel'].mode()[0])\n",
    "test['Class'] = test['Class'].fillna(test['Class'].mode()[0])"
   ]
  },
  {
   "cell_type": "markdown",
   "metadata": {
    "papermill": {
     "duration": 0.058371,
     "end_time": "2022-05-15T18:42:01.209734",
     "exception": false,
     "start_time": "2022-05-15T18:42:01.151363",
     "status": "completed"
    },
    "tags": []
   },
   "source": [
    "# Exploratory Data Analysis"
   ]
  },
  {
   "cell_type": "code",
   "execution_count": 21,
   "metadata": {
    "execution": {
     "iopub.execute_input": "2022-05-15T18:42:01.334179Z",
     "iopub.status.busy": "2022-05-15T18:42:01.333425Z",
     "iopub.status.idle": "2022-05-15T18:42:03.058383Z",
     "shell.execute_reply": "2022-05-15T18:42:03.057710Z"
    },
    "papermill": {
     "duration": 1.79043,
     "end_time": "2022-05-15T18:42:03.058527",
     "exception": false,
     "start_time": "2022-05-15T18:42:01.268097",
     "status": "completed"
    },
    "tags": []
   },
   "outputs": [
    {
     "data": {
      "image/png": "[encoded data removed]",
      "text/plain": [
       "<Figure size 360x180 with 2 Axes>"
      ]
     },
     "metadata": {},
     "output_type": "display_data"
    },
    {
     "data": {
      "image/png": "[encoded data removed]",
      "text/plain": [
       "<Figure size 360x180 with 2 Axes>"
      ]
     },
     "metadata": {},
     "output_type": "display_data"
    }
   ],
   "source": [
    "import seaborn as sns\n",
    "with sns.axes_style(style='ticks'):\n",
    "    g = sns.catplot(\"satisfaction\", col=\"Gender\", col_wrap=2, data=train, kind=\"count\", height=2.5, aspect=1.0)  \n",
    "    g = sns.catplot(\"satisfaction\", col=\"Customer_Type\", col_wrap=2, data=train, kind=\"count\", height=2.5, aspect=1.0)"
   ]
  },
  {
   "cell_type": "markdown",
   "metadata": {
    "papermill": {
     "duration": 0.061379,
     "end_time": "2022-05-15T18:42:03.181989",
     "exception": false,
     "start_time": "2022-05-15T18:42:03.120610",
     "status": "completed"
    },
    "tags": []
   },
   "source": [
    "**Gender:** \n",
    "It is observed that gender-wise distribution of dissatisfied and satisfied customers are quite same. For both male and female passengers, no. of dissatisfied customers are on the higher side compared to no. of satisfied customers.\n",
    "\n",
    "**Customer Type:**\n",
    "Loyal passengers are very high in number. Even among loyal passengers, the ratio of satisfied and dissatidfied ones are almost 49:51. "
   ]
  },
  {
   "cell_type": "code",
   "execution_count": 22,
   "metadata": {
    "execution": {
     "iopub.execute_input": "2022-05-15T18:42:03.311253Z",
     "iopub.status.busy": "2022-05-15T18:42:03.309936Z",
     "iopub.status.idle": "2022-05-15T18:42:07.052585Z",
     "shell.execute_reply": "2022-05-15T18:42:07.051995Z"
    },
    "papermill": {
     "duration": 3.810699,
     "end_time": "2022-05-15T18:42:07.052709",
     "exception": false,
     "start_time": "2022-05-15T18:42:03.242010",
     "status": "completed"
    },
    "tags": []
   },
   "outputs": [
    {
     "data": {
      "image/png": "[encoded data removed]",
      "text/plain": [
       "<Figure size 1145.75x360 with 1 Axes>"
      ]
     },
     "metadata": {},
     "output_type": "display_data"
    }
   ],
   "source": [
    "with sns.axes_style('white'):\n",
    "    g = sns.catplot(\"Age\", data=train, aspect=3.0, kind='count', hue='satisfaction', order=range(5, 80))\n",
    "    g.set_ylabels('Age vs Passenger Satisfaction')"
   ]
  },
  {
   "cell_type": "markdown",
   "metadata": {
    "papermill": {
     "duration": 0.060815,
     "end_time": "2022-05-15T18:42:07.175109",
     "exception": false,
     "start_time": "2022-05-15T18:42:07.114294",
     "status": "completed"
    },
    "tags": []
   },
   "source": [
    "**Age:**\n",
    "From age 7-to-38 and from age 61-to-79, quotient of dissatisfied passengers is very high compared to satisfied passengers. On the contrary, in age range 39-60, quotient of satisfied passengers is higher compared to dissatisfied passengers."
   ]
  },
  {
   "cell_type": "code",
   "execution_count": 23,
   "metadata": {
    "execution": {
     "iopub.execute_input": "2022-05-15T18:42:07.310312Z",
     "iopub.status.busy": "2022-05-15T18:42:07.309280Z",
     "iopub.status.idle": "2022-05-15T18:42:09.857267Z",
     "shell.execute_reply": "2022-05-15T18:42:09.856715Z"
    },
    "papermill": {
     "duration": 2.621146,
     "end_time": "2022-05-15T18:42:09.857391",
     "exception": false,
     "start_time": "2022-05-15T18:42:07.236245",
     "status": "completed"
    },
    "tags": []
   },
   "outputs": [
    {
     "data": {
      "image/png": "[encoded data removed]",
      "text/plain": [
       "<Figure size 843.35x324 with 3 Axes>"
      ]
     },
     "metadata": {},
     "output_type": "display_data"
    }
   ],
   "source": [
    "with sns.axes_style('white'):\n",
    "    g = sns.catplot(x=\"Flight_Distance\", y=\"Type_of_Travel\", hue=\"satisfaction\", col=\"Class\", data=train, kind=\"bar\", height=4.5, aspect=.8)"
   ]
  },
  {
   "cell_type": "markdown",
   "metadata": {
    "papermill": {
     "duration": 0.063488,
     "end_time": "2022-05-15T18:42:09.984855",
     "exception": false,
     "start_time": "2022-05-15T18:42:09.921367",
     "status": "completed"
    },
    "tags": []
   },
   "source": [
    "**Type of Travel, Class, Flight Distance:**\n",
    "For business travel in business class category, the number of satisfied passengers are quite on the higher side for longer flight distance. For other combinations, there is almost equal distribution of satisfied and dissatisfied passengers.\n"
   ]
  },
  {
   "cell_type": "code",
   "execution_count": 24,
   "metadata": {
    "execution": {
     "iopub.execute_input": "2022-05-15T18:42:10.117912Z",
     "iopub.status.busy": "2022-05-15T18:42:10.117250Z",
     "iopub.status.idle": "2022-05-15T18:42:13.497129Z",
     "shell.execute_reply": "2022-05-15T18:42:13.497644Z"
    },
    "papermill": {
     "duration": 3.450042,
     "end_time": "2022-05-15T18:42:13.497811",
     "exception": false,
     "start_time": "2022-05-15T18:42:10.047769",
     "status": "completed"
    },
    "tags": []
   },
   "outputs": [
    {
     "data": {
      "image/png": "[encoded data removed]",
      "text/plain": [
       "<Figure size 843.35x324 with 3 Axes>"
      ]
     },
     "metadata": {},
     "output_type": "display_data"
    }
   ],
   "source": [
    "with sns.axes_style('white'):\n",
    "    g = sns.catplot(x=\"Departure/Arrival_time_convenient\", y=\"Online_boarding\", hue=\"satisfaction\", col=\"Class\", data=train, kind=\"bar\", height=4.5, aspect=.8)"
   ]
  },
  {
   "cell_type": "markdown",
   "metadata": {
    "papermill": {
     "duration": 0.062975,
     "end_time": "2022-05-15T18:42:13.624624",
     "exception": false,
     "start_time": "2022-05-15T18:42:13.561649",
     "status": "completed"
    },
    "tags": []
   },
   "source": [
    "**Online Boarding, Departure/Arrival Time Convenience grouped by Class:**\n",
    "For Eco Plus class, very inconvenient Departure/Arrival time (Departure/Arrival_time_convenient = 0) has really high no. of dissatisfied passengers, even when online boarding is done very well. For other combinations, no. of satisfied passengers are on the higher side compared to no. of dissatisfied passengers. "
   ]
  },
  {
   "cell_type": "code",
   "execution_count": 25,
   "metadata": {
    "execution": {
     "iopub.execute_input": "2022-05-15T18:42:13.756857Z",
     "iopub.status.busy": "2022-05-15T18:42:13.755856Z",
     "iopub.status.idle": "2022-05-15T18:42:17.551473Z",
     "shell.execute_reply": "2022-05-15T18:42:17.550745Z"
    },
    "papermill": {
     "duration": 3.86372,
     "end_time": "2022-05-15T18:42:17.551598",
     "exception": false,
     "start_time": "2022-05-15T18:42:13.687878",
     "status": "completed"
    },
    "tags": []
   },
   "outputs": [
    {
     "data": {
      "image/png": "[encoded data removed]",
      "text/plain": [
       "<Figure size 584.15x324 with 2 Axes>"
      ]
     },
     "metadata": {},
     "output_type": "display_data"
    },
    {
     "data": {
      "image/png": "[encoded data removed]",
      "text/plain": [
       "<Figure size 584.15x324 with 2 Axes>"
      ]
     },
     "metadata": {},
     "output_type": "display_data"
    }
   ],
   "source": [
    "with sns.axes_style('white'):\n",
    "    g = sns.catplot(x=\"Class\", y=\"Departure_Delay_in_Minutes\", hue=\"satisfaction\", col=\"Type_of_Travel\", data=train, kind=\"bar\", height=4.5, aspect=.8)\n",
    "    g = sns.catplot(x=\"Class\", y=\"Arrival_Delay_in_Minutes\", hue=\"satisfaction\", col=\"Type_of_Travel\", data=train, kind=\"bar\", height=4.5, aspect=.8)"
   ]
  },
  {
   "cell_type": "markdown",
   "metadata": {
    "papermill": {
     "duration": 0.065234,
     "end_time": "2022-05-15T18:42:17.684019",
     "exception": false,
     "start_time": "2022-05-15T18:42:17.618785",
     "status": "completed"
    },
    "tags": []
   },
   "source": [
    "**Departure Delay, Arrival Delay grouped by Type of Travel:**\n",
    "For personal travel (specially Eco Plus and Eco), the no. of dissatisfied passengers are really high when arrival delay in minutes is high. Now, this is quite obvious. By minute comparison, all combinations have higher no. of dissatisfied passengers compared to no. of satisfied passengers."
   ]
  },
  {
   "cell_type": "code",
   "execution_count": 26,
   "metadata": {
    "execution": {
     "iopub.execute_input": "2022-05-15T18:42:17.819122Z",
     "iopub.status.busy": "2022-05-15T18:42:17.818443Z",
     "iopub.status.idle": "2022-05-15T18:42:19.536346Z",
     "shell.execute_reply": "2022-05-15T18:42:19.537001Z"
    },
    "papermill": {
     "duration": 1.787326,
     "end_time": "2022-05-15T18:42:19.537183",
     "exception": false,
     "start_time": "2022-05-15T18:42:17.749857",
     "status": "completed"
    },
    "tags": []
   },
   "outputs": [
    {
     "data": {
      "image/png": "[encoded data removed]",
      "text/plain": [
       "<Figure size 843.35x324 with 3 Axes>"
      ]
     },
     "metadata": {},
     "output_type": "display_data"
    }
   ],
   "source": [
    "with sns.axes_style('white'):\n",
    "    g = sns.catplot(x=\"Gate_location\", y=\"Baggage_handling\", hue=\"satisfaction\", col=\"Class\", data=train, kind=\"box\", height=4.5, aspect=.8)"
   ]
  },
  {
   "cell_type": "markdown",
   "metadata": {
    "papermill": {
     "duration": 0.066461,
     "end_time": "2022-05-15T18:42:19.719621",
     "exception": false,
     "start_time": "2022-05-15T18:42:19.653160",
     "status": "completed"
    },
    "tags": []
   },
   "source": [
    "**Baggage Handling, Gate Location grouped by Class:**\n",
    "For business class, it is observed that all gate locations have higher no. of dissatisfied passengers when baggage handling is not done perfectly well (rating <= 4). For Eco Plus, when the gate location is 1 and for Eco, when the gate location is 2, even when the baggages are handled in a mediocre way (rating in range 2.0 - 4.0), passengers remained dissatisfied."
   ]
  },
  {
   "cell_type": "code",
   "execution_count": 27,
   "metadata": {
    "execution": {
     "iopub.execute_input": "2022-05-15T18:42:19.857555Z",
     "iopub.status.busy": "2022-05-15T18:42:19.856505Z",
     "iopub.status.idle": "2022-05-15T18:42:21.519666Z",
     "shell.execute_reply": "2022-05-15T18:42:21.520283Z"
    },
    "papermill": {
     "duration": 1.733856,
     "end_time": "2022-05-15T18:42:21.520449",
     "exception": false,
     "start_time": "2022-05-15T18:42:19.786593",
     "status": "completed"
    },
    "tags": []
   },
   "outputs": [
    {
     "data": {
      "image/png": "[encoded data removed]",
      "text/plain": [
       "<Figure size 843.35x324 with 3 Axes>"
      ]
     },
     "metadata": {},
     "output_type": "display_data"
    }
   ],
   "source": [
    "with sns.axes_style('white'):\n",
    "    g = sns.catplot(x=\"Inflight_wifi_service\", y=\"Inflight_entertainment\", hue=\"satisfaction\", col=\"Class\", data=train, kind=\"box\", height=4.5, aspect=.8)"
   ]
  },
  {
   "cell_type": "markdown",
   "metadata": {
    "papermill": {
     "duration": 0.069249,
     "end_time": "2022-05-15T18:42:21.658905",
     "exception": false,
     "start_time": "2022-05-15T18:42:21.589656",
     "status": "completed"
    },
    "tags": []
   },
   "source": [
    "**Inflight Entertainment, Inflight wi-fi Service grouped by Class:**\n",
    "It is interesting to find that Eco Plus passengers are mostly satisfied without in-flight wi-fi service (rating 0) and medium level of in-flight entertainment (rating 2 - 4). For Business class passengers, only highest level of in-flight entertainment (rating 5) can make them satisfied. For Eco passengers, high level of in-flight entertainment (rating 3 - 5) and very high wi-fi service availability (rating 5) can make them satisfied."
   ]
  },
  {
   "cell_type": "code",
   "execution_count": 28,
   "metadata": {
    "execution": {
     "iopub.execute_input": "2022-05-15T18:42:21.800226Z",
     "iopub.status.busy": "2022-05-15T18:42:21.799196Z",
     "iopub.status.idle": "2022-05-15T18:42:22.612979Z",
     "shell.execute_reply": "2022-05-15T18:42:22.613568Z"
    },
    "papermill": {
     "duration": 0.885958,
     "end_time": "2022-05-15T18:42:22.613747",
     "exception": false,
     "start_time": "2022-05-15T18:42:21.727789",
     "status": "completed"
    },
    "tags": []
   },
   "outputs": [
    {
     "data": {
      "image/png": "[encoded data removed]",
      "text/plain": [
       "<Figure size 972x180 with 6 Axes>"
      ]
     },
     "metadata": {},
     "output_type": "display_data"
    }
   ],
   "source": [
    "with sns.axes_style(style='ticks'):\n",
    "    g = sns.catplot(\"satisfaction\", col=\"Ease_of_Online_booking\", col_wrap=6, data=train, kind=\"count\", height=2.5, aspect=.9)"
   ]
  },
  {
   "cell_type": "code",
   "execution_count": 29,
   "metadata": {
    "execution": {
     "iopub.execute_input": "2022-05-15T18:42:22.758693Z",
     "iopub.status.busy": "2022-05-15T18:42:22.757667Z",
     "iopub.status.idle": "2022-05-15T18:42:23.643865Z",
     "shell.execute_reply": "2022-05-15T18:42:23.643235Z"
    },
    "papermill": {
     "duration": 0.959551,
     "end_time": "2022-05-15T18:42:23.644005",
     "exception": false,
     "start_time": "2022-05-15T18:42:22.684454",
     "status": "completed"
    },
    "tags": []
   },
   "outputs": [
    {
     "data": {
      "image/png": "[encoded data removed]",
      "text/plain": [
       "<Figure size 864x180 with 6 Axes>"
      ]
     },
     "metadata": {},
     "output_type": "display_data"
    }
   ],
   "source": [
    "with sns.axes_style(style='ticks'):\n",
    "    g = sns.catplot(\"satisfaction\", col=\"Seat_comfort\", col_wrap=6, data=train, kind=\"count\", height=2.5, aspect=.8)"
   ]
  },
  {
   "cell_type": "code",
   "execution_count": 30,
   "metadata": {
    "execution": {
     "iopub.execute_input": "2022-05-15T18:42:23.791268Z",
     "iopub.status.busy": "2022-05-15T18:42:23.790498Z",
     "iopub.status.idle": "2022-05-15T18:42:24.552250Z",
     "shell.execute_reply": "2022-05-15T18:42:24.551694Z"
    },
    "papermill": {
     "duration": 0.836995,
     "end_time": "2022-05-15T18:42:24.552379",
     "exception": false,
     "start_time": "2022-05-15T18:42:23.715384",
     "status": "completed"
    },
    "tags": []
   },
   "outputs": [
    {
     "data": {
      "image/png": "[encoded data removed]",
      "text/plain": [
       "<Figure size 864x180 with 6 Axes>"
      ]
     },
     "metadata": {},
     "output_type": "display_data"
    }
   ],
   "source": [
    "with sns.axes_style(style='ticks'):\n",
    "    g = sns.catplot(\"satisfaction\", col=\"Cleanliness\", col_wrap=6, data=train, kind=\"count\", height=2.5, aspect=.8)"
   ]
  },
  {
   "cell_type": "code",
   "execution_count": 31,
   "metadata": {
    "execution": {
     "iopub.execute_input": "2022-05-15T18:42:24.699460Z",
     "iopub.status.busy": "2022-05-15T18:42:24.698782Z",
     "iopub.status.idle": "2022-05-15T18:42:25.452115Z",
     "shell.execute_reply": "2022-05-15T18:42:25.451554Z"
    },
    "papermill": {
     "duration": 0.827826,
     "end_time": "2022-05-15T18:42:25.452252",
     "exception": false,
     "start_time": "2022-05-15T18:42:24.624426",
     "status": "completed"
    },
    "tags": []
   },
   "outputs": [
    {
     "data": {
      "image/png": "[encoded data removed]",
      "text/plain": [
       "<Figure size 864x180 with 6 Axes>"
      ]
     },
     "metadata": {},
     "output_type": "display_data"
    }
   ],
   "source": [
    "with sns.axes_style(style='ticks'):\n",
    "    g = sns.catplot(\"satisfaction\", col=\"Food_and_drink\", col_wrap=6, data=train, kind=\"count\", height=2.5, aspect=.8)"
   ]
  },
  {
   "cell_type": "markdown",
   "metadata": {
    "papermill": {
     "duration": 0.071613,
     "end_time": "2022-05-15T18:42:25.595763",
     "exception": false,
     "start_time": "2022-05-15T18:42:25.524150",
     "status": "completed"
    },
    "tags": []
   },
   "source": [
    "**Ease of Online Booking, Seat Comfort, Cleanliness, Food and Drink:**\n",
    "For all of these features, maximum no. of satisfied passengers belong to the category of 4 and 5 rating givers. Below rating 4, passengers are mostly dissatisfied."
   ]
  },
  {
   "cell_type": "code",
   "execution_count": 32,
   "metadata": {
    "execution": {
     "iopub.execute_input": "2022-05-15T18:42:25.742595Z",
     "iopub.status.busy": "2022-05-15T18:42:25.741811Z",
     "iopub.status.idle": "2022-05-15T18:42:26.820243Z",
     "shell.execute_reply": "2022-05-15T18:42:26.819571Z"
    },
    "papermill": {
     "duration": 1.153072,
     "end_time": "2022-05-15T18:42:26.820392",
     "exception": false,
     "start_time": "2022-05-15T18:42:25.667320",
     "status": "completed"
    },
    "tags": []
   },
   "outputs": [
    {
     "data": {
      "text/plain": [
       "<matplotlib.axes._subplots.AxesSubplot at 0x7f27e118d690>"
      ]
     },
     "execution_count": 32,
     "metadata": {},
     "output_type": "execute_result"
    },
    {
     "data": {
      "image/png": "[encoded data removed]",
      "text/plain": [
       "<Figure size 864x576 with 8 Axes>"
      ]
     },
     "metadata": {
      "needs_background": "light"
     },
     "output_type": "display_data"
    }
   ],
   "source": [
    "import matplotlib.pyplot as plt \n",
    "fig, axarr = plt.subplots(2, 2, figsize=(12, 8))\n",
    "\n",
    "table1 = pd.crosstab(train['satisfaction'], train['Checkin_service'])\n",
    "sns.heatmap(table1, cmap='Oranges', ax = axarr[0][0])\n",
    "table2 = pd.crosstab(train['satisfaction'], train['Inflight_service'])\n",
    "sns.heatmap(table2, cmap='Blues', ax = axarr[0][1])\n",
    "table3 = pd.crosstab(train['satisfaction'], train['On-board_service'])\n",
    "sns.heatmap(table3, cmap='pink', ax = axarr[1][0])\n",
    "table4 = pd.crosstab(train['satisfaction'], train['Leg_room_service'])\n",
    "sns.heatmap(table4, cmap='bone', ax = axarr[1][1])"
   ]
  },
  {
   "cell_type": "markdown",
   "metadata": {
    "papermill": {
     "duration": 0.072659,
     "end_time": "2022-05-15T18:42:26.967061",
     "exception": false,
     "start_time": "2022-05-15T18:42:26.894402",
     "status": "completed"
    },
    "tags": []
   },
   "source": [
    "**Checkin Service, Inflight Service, On-board Service, Leg-room Service:**\n",
    "For checkin service, 0-2 rating givers are predominantly dissatisfied. For other three services, only 4 and 5 rating givers belong to satisfied passengers category.  "
   ]
  },
  {
   "cell_type": "markdown",
   "metadata": {
    "papermill": {
     "duration": 0.076734,
     "end_time": "2022-05-15T18:42:27.116481",
     "exception": false,
     "start_time": "2022-05-15T18:42:27.039747",
     "status": "completed"
    },
    "tags": []
   },
   "source": [
    "# Label Encoding of Categorical Variables"
   ]
  },
  {
   "cell_type": "code",
   "execution_count": 33,
   "metadata": {
    "execution": {
     "iopub.execute_input": "2022-05-15T18:42:27.274148Z",
     "iopub.status.busy": "2022-05-15T18:42:27.273421Z",
     "iopub.status.idle": "2022-05-15T18:42:27.490794Z",
     "shell.execute_reply": "2022-05-15T18:42:27.490056Z"
    },
    "papermill": {
     "duration": 0.296662,
     "end_time": "2022-05-15T18:42:27.490923",
     "exception": false,
     "start_time": "2022-05-15T18:42:27.194261",
     "status": "completed"
    },
    "tags": []
   },
   "outputs": [],
   "source": [
    "from sklearn.preprocessing import LabelEncoder\n",
    "lencoders = {}\n",
    "for col in train.select_dtypes(include=['object']).columns:\n",
    "    lencoders[col] = LabelEncoder()\n",
    "    train[col] = lencoders[col].fit_transform(train[col])"
   ]
  },
  {
   "cell_type": "code",
   "execution_count": 34,
   "metadata": {
    "execution": {
     "iopub.execute_input": "2022-05-15T18:42:27.647689Z",
     "iopub.status.busy": "2022-05-15T18:42:27.646944Z",
     "iopub.status.idle": "2022-05-15T18:42:27.690050Z",
     "shell.execute_reply": "2022-05-15T18:42:27.689226Z"
    },
    "papermill": {
     "duration": 0.124546,
     "end_time": "2022-05-15T18:42:27.690198",
     "exception": false,
     "start_time": "2022-05-15T18:42:27.565652",
     "status": "completed"
    },
    "tags": []
   },
   "outputs": [],
   "source": [
    "lencoders_t = {}\n",
    "for col in test.select_dtypes(include=['object']).columns:\n",
    "    lencoders_t[col] = LabelEncoder()\n",
    "    test[col] = lencoders_t[col].fit_transform(test[col])"
   ]
  },
  {
   "cell_type": "markdown",
   "metadata": {
    "papermill": {
     "duration": 0.073375,
     "end_time": "2022-05-15T18:42:27.839514",
     "exception": false,
     "start_time": "2022-05-15T18:42:27.766139",
     "status": "completed"
    },
    "tags": []
   },
   "source": [
    "# Outliers Detection and Removal"
   ]
  },
  {
   "cell_type": "code",
   "execution_count": 35,
   "metadata": {
    "execution": {
     "iopub.execute_input": "2022-05-15T18:42:27.996123Z",
     "iopub.status.busy": "2022-05-15T18:42:27.995283Z",
     "iopub.status.idle": "2022-05-15T18:42:28.086739Z",
     "shell.execute_reply": "2022-05-15T18:42:28.087316Z"
    },
    "papermill": {
     "duration": 0.174749,
     "end_time": "2022-05-15T18:42:28.087482",
     "exception": false,
     "start_time": "2022-05-15T18:42:27.912733",
     "status": "completed"
    },
    "tags": []
   },
   "outputs": [
    {
     "name": "stdout",
     "output_type": "stream",
     "text": [
      "Gender                                  1.0\n",
      "Customer_Type                           0.0\n",
      "Age                                    24.0\n",
      "Type_of_Travel                          1.0\n",
      "Class                                   1.0\n",
      "Flight_Distance                      1329.0\n",
      "Inflight_wifi_service                   2.0\n",
      "Departure/Arrival_time_convenient       2.0\n",
      "Ease_of_Online_booking                  2.0\n",
      "Gate_location                           2.0\n",
      "Food_and_drink                          2.0\n",
      "Online_boarding                         2.0\n",
      "Seat_comfort                            3.0\n",
      "Inflight_entertainment                  2.0\n",
      "On-board_service                        2.0\n",
      "Leg_room_service                        2.0\n",
      "Baggage_handling                        2.0\n",
      "Checkin_service                         1.0\n",
      "Inflight_service                        2.0\n",
      "Cleanliness                             2.0\n",
      "Departure_Delay_in_Minutes             12.0\n",
      "Arrival_Delay_in_Minutes               13.0\n",
      "satisfaction                            1.0\n",
      "dtype: float64\n"
     ]
    }
   ],
   "source": [
    "Q1 = train.quantile(0.25)\n",
    "Q3 = train.quantile(0.75)\n",
    "IQR = Q3 - Q1\n",
    "print(IQR)"
   ]
  },
  {
   "cell_type": "code",
   "execution_count": 36,
   "metadata": {
    "execution": {
     "iopub.execute_input": "2022-05-15T18:42:28.242868Z",
     "iopub.status.busy": "2022-05-15T18:42:28.242195Z",
     "iopub.status.idle": "2022-05-15T18:42:28.286206Z",
     "shell.execute_reply": "2022-05-15T18:42:28.285177Z"
    },
    "papermill": {
     "duration": 0.124098,
     "end_time": "2022-05-15T18:42:28.286342",
     "exception": false,
     "start_time": "2022-05-15T18:42:28.162244",
     "status": "completed"
    },
    "tags": []
   },
   "outputs": [
    {
     "data": {
      "text/plain": [
       "(61197, 23)"
      ]
     },
     "execution_count": 36,
     "metadata": {},
     "output_type": "execute_result"
    }
   ],
   "source": [
    "# Removing outliers from dataset\n",
    "train = train[~((train < (Q1 - 1.5 * IQR)) |(train > (Q3 + 1.5 * IQR))).any(axis=1)]\n",
    "train.shape"
   ]
  },
  {
   "cell_type": "markdown",
   "metadata": {
    "papermill": {
     "duration": 0.075249,
     "end_time": "2022-05-15T18:42:28.439822",
     "exception": false,
     "start_time": "2022-05-15T18:42:28.364573",
     "status": "completed"
    },
    "tags": []
   },
   "source": [
    "# Correlation among Features"
   ]
  },
  {
   "cell_type": "code",
   "execution_count": 37,
   "metadata": {
    "execution": {
     "iopub.execute_input": "2022-05-15T18:42:28.594118Z",
     "iopub.status.busy": "2022-05-15T18:42:28.593396Z",
     "iopub.status.idle": "2022-05-15T18:42:30.083787Z",
     "shell.execute_reply": "2022-05-15T18:42:30.084546Z"
    },
    "papermill": {
     "duration": 1.570412,
     "end_time": "2022-05-15T18:42:30.084722",
     "exception": false,
     "start_time": "2022-05-15T18:42:28.514310",
     "status": "completed"
    },
    "tags": []
   },
   "outputs": [
    {
     "data": {
      "text/plain": [
       "<matplotlib.axes._subplots.AxesSubplot at 0x7f27e0e64d90>"
      ]
     },
     "execution_count": 37,
     "metadata": {},
     "output_type": "execute_result"
    },
    {
     "data": {
      "image/png": "[encoded data removed]",
      "text/plain": [
       "<Figure size 1440x1440 with 2 Axes>"
      ]
     },
     "metadata": {
      "needs_background": "light"
     },
     "output_type": "display_data"
    }
   ],
   "source": [
    "import numpy as np\n",
    "import matplotlib.pyplot as plt\n",
    "import seaborn as sns\n",
    "corr = train.corr()\n",
    "mask = np.triu(np.ones_like(corr, dtype=np.bool))\n",
    "f, ax = plt.subplots(figsize=(20, 20))\n",
    "cmap = sns.diverging_palette(150, 1, as_cmap=True)\n",
    "sns.heatmap(corr, mask=mask, cmap=cmap, vmax=None, center=0,square=True, annot=True, linewidths=.5, cbar_kws={\"shrink\": .9})"
   ]
  },
  {
   "cell_type": "markdown",
   "metadata": {
    "papermill": {
     "duration": 0.079338,
     "end_time": "2022-05-15T18:42:30.248352",
     "exception": false,
     "start_time": "2022-05-15T18:42:30.169014",
     "status": "completed"
    },
    "tags": []
   },
   "source": [
    "\"Ease_of_Online_booking\" is highly correlated with \"Inflight_wifi_service\". Also \"Inflight_service\" is highly correlated with \"Baggage_handling\". But no pair is having corr. coefficient exactly equal to 1. So there is no perfect multicollinearity. Hence we are not discarding any variable. \n",
    "\n",
    "# Top 10 Feature Selection through Chi-Square"
   ]
  },
  {
   "cell_type": "code",
   "execution_count": 38,
   "metadata": {
    "execution": {
     "iopub.execute_input": "2022-05-15T18:42:30.409781Z",
     "iopub.status.busy": "2022-05-15T18:42:30.409105Z",
     "iopub.status.idle": "2022-05-15T18:42:30.457829Z",
     "shell.execute_reply": "2022-05-15T18:42:30.458518Z"
    },
    "papermill": {
     "duration": 0.131088,
     "end_time": "2022-05-15T18:42:30.458673",
     "exception": false,
     "start_time": "2022-05-15T18:42:30.327585",
     "status": "completed"
    },
    "tags": []
   },
   "outputs": [
    {
     "data": {
      "text/html": [
       "<div>\n",
       "<style scoped>\n",
       "    .dataframe tbody tr th:only-of-type {\n",
       "        vertical-align: middle;\n",
       "    }\n",
       "\n",
       "    .dataframe tbody tr th {\n",
       "        vertical-align: top;\n",
       "    }\n",
       "\n",
       "    .dataframe thead th {\n",
       "        text-align: right;\n",
       "    }\n",
       "</style>\n",
       "<table border=\"1\" class=\"dataframe\">\n",
       "  <thead>\n",
       "    <tr style=\"text-align: right;\">\n",
       "      <th></th>\n",
       "      <th>Gender</th>\n",
       "      <th>Customer_Type</th>\n",
       "      <th>Age</th>\n",
       "      <th>Type_of_Travel</th>\n",
       "      <th>Class</th>\n",
       "      <th>Flight_Distance</th>\n",
       "      <th>Inflight_wifi_service</th>\n",
       "      <th>Departure/Arrival_time_convenient</th>\n",
       "      <th>Ease_of_Online_booking</th>\n",
       "      <th>Gate_location</th>\n",
       "      <th>...</th>\n",
       "      <th>Inflight_entertainment</th>\n",
       "      <th>On-board_service</th>\n",
       "      <th>Leg_room_service</th>\n",
       "      <th>Baggage_handling</th>\n",
       "      <th>Checkin_service</th>\n",
       "      <th>Inflight_service</th>\n",
       "      <th>Cleanliness</th>\n",
       "      <th>Departure_Delay_in_Minutes</th>\n",
       "      <th>Arrival_Delay_in_Minutes</th>\n",
       "      <th>satisfaction</th>\n",
       "    </tr>\n",
       "  </thead>\n",
       "  <tbody>\n",
       "    <tr>\n",
       "      <th>0</th>\n",
       "      <td>1.0</td>\n",
       "      <td>0.0</td>\n",
       "      <td>0.076923</td>\n",
       "      <td>1.0</td>\n",
       "      <td>1.0</td>\n",
       "      <td>0.115789</td>\n",
       "      <td>0.6</td>\n",
       "      <td>0.8</td>\n",
       "      <td>0.6</td>\n",
       "      <td>0.2</td>\n",
       "      <td>...</td>\n",
       "      <td>1.0</td>\n",
       "      <td>0.8</td>\n",
       "      <td>0.6</td>\n",
       "      <td>0.75</td>\n",
       "      <td>0.666667</td>\n",
       "      <td>1.0</td>\n",
       "      <td>1.0</td>\n",
       "      <td>0.833333</td>\n",
       "      <td>0.56250</td>\n",
       "      <td>0.0</td>\n",
       "    </tr>\n",
       "    <tr>\n",
       "      <th>1</th>\n",
       "      <td>0.0</td>\n",
       "      <td>0.0</td>\n",
       "      <td>0.243590</td>\n",
       "      <td>0.0</td>\n",
       "      <td>0.0</td>\n",
       "      <td>0.299865</td>\n",
       "      <td>0.4</td>\n",
       "      <td>0.4</td>\n",
       "      <td>0.4</td>\n",
       "      <td>0.4</td>\n",
       "      <td>...</td>\n",
       "      <td>1.0</td>\n",
       "      <td>0.8</td>\n",
       "      <td>0.6</td>\n",
       "      <td>0.75</td>\n",
       "      <td>0.666667</td>\n",
       "      <td>0.8</td>\n",
       "      <td>1.0</td>\n",
       "      <td>0.000000</td>\n",
       "      <td>0.00000</td>\n",
       "      <td>1.0</td>\n",
       "    </tr>\n",
       "    <tr>\n",
       "      <th>2</th>\n",
       "      <td>1.0</td>\n",
       "      <td>0.0</td>\n",
       "      <td>0.692308</td>\n",
       "      <td>0.0</td>\n",
       "      <td>0.0</td>\n",
       "      <td>0.049393</td>\n",
       "      <td>0.6</td>\n",
       "      <td>0.6</td>\n",
       "      <td>0.6</td>\n",
       "      <td>0.6</td>\n",
       "      <td>...</td>\n",
       "      <td>0.6</td>\n",
       "      <td>0.6</td>\n",
       "      <td>0.8</td>\n",
       "      <td>0.75</td>\n",
       "      <td>0.333333</td>\n",
       "      <td>0.6</td>\n",
       "      <td>0.6</td>\n",
       "      <td>0.000000</td>\n",
       "      <td>0.00000</td>\n",
       "      <td>1.0</td>\n",
       "    </tr>\n",
       "    <tr>\n",
       "      <th>3</th>\n",
       "      <td>0.0</td>\n",
       "      <td>0.0</td>\n",
       "      <td>0.243590</td>\n",
       "      <td>1.0</td>\n",
       "      <td>0.5</td>\n",
       "      <td>0.310121</td>\n",
       "      <td>0.6</td>\n",
       "      <td>0.8</td>\n",
       "      <td>0.4</td>\n",
       "      <td>0.2</td>\n",
       "      <td>...</td>\n",
       "      <td>0.2</td>\n",
       "      <td>0.6</td>\n",
       "      <td>0.8</td>\n",
       "      <td>0.75</td>\n",
       "      <td>0.666667</td>\n",
       "      <td>0.8</td>\n",
       "      <td>0.2</td>\n",
       "      <td>0.000000</td>\n",
       "      <td>0.00000</td>\n",
       "      <td>0.0</td>\n",
       "    </tr>\n",
       "    <tr>\n",
       "      <th>4</th>\n",
       "      <td>1.0</td>\n",
       "      <td>0.0</td>\n",
       "      <td>0.512821</td>\n",
       "      <td>1.0</td>\n",
       "      <td>0.5</td>\n",
       "      <td>0.336032</td>\n",
       "      <td>0.4</td>\n",
       "      <td>0.8</td>\n",
       "      <td>0.4</td>\n",
       "      <td>0.6</td>\n",
       "      <td>...</td>\n",
       "      <td>0.4</td>\n",
       "      <td>0.6</td>\n",
       "      <td>0.6</td>\n",
       "      <td>0.75</td>\n",
       "      <td>0.333333</td>\n",
       "      <td>1.0</td>\n",
       "      <td>0.4</td>\n",
       "      <td>0.300000</td>\n",
       "      <td>0.71875</td>\n",
       "      <td>0.0</td>\n",
       "    </tr>\n",
       "  </tbody>\n",
       "</table>\n",
       "<p>5 rows × 23 columns</p>\n",
       "</div>"
      ],
      "text/plain": [
       "   Gender  Customer_Type       Age  Type_of_Travel  Class  Flight_Distance  \\\n",
       "0     1.0            0.0  0.076923             1.0    1.0         0.115789   \n",
       "1     0.0            0.0  0.243590             0.0    0.0         0.299865   \n",
       "2     1.0            0.0  0.692308             0.0    0.0         0.049393   \n",
       "3     0.0            0.0  0.243590             1.0    0.5         0.310121   \n",
       "4     1.0            0.0  0.512821             1.0    0.5         0.336032   \n",
       "\n",
       "   Inflight_wifi_service  Departure/Arrival_time_convenient  \\\n",
       "0                    0.6                                0.8   \n",
       "1                    0.4                                0.4   \n",
       "2                    0.6                                0.6   \n",
       "3                    0.6                                0.8   \n",
       "4                    0.4                                0.8   \n",
       "\n",
       "   Ease_of_Online_booking  Gate_location  ...  Inflight_entertainment  \\\n",
       "0                     0.6            0.2  ...                     1.0   \n",
       "1                     0.4            0.4  ...                     1.0   \n",
       "2                     0.6            0.6  ...                     0.6   \n",
       "3                     0.4            0.2  ...                     0.2   \n",
       "4                     0.4            0.6  ...                     0.4   \n",
       "\n",
       "   On-board_service  Leg_room_service  Baggage_handling  Checkin_service  \\\n",
       "0               0.8               0.6              0.75         0.666667   \n",
       "1               0.8               0.6              0.75         0.666667   \n",
       "2               0.6               0.8              0.75         0.333333   \n",
       "3               0.6               0.8              0.75         0.666667   \n",
       "4               0.6               0.6              0.75         0.333333   \n",
       "\n",
       "   Inflight_service  Cleanliness  Departure_Delay_in_Minutes  \\\n",
       "0               1.0          1.0                    0.833333   \n",
       "1               0.8          1.0                    0.000000   \n",
       "2               0.6          0.6                    0.000000   \n",
       "3               0.8          0.2                    0.000000   \n",
       "4               1.0          0.4                    0.300000   \n",
       "\n",
       "   Arrival_Delay_in_Minutes  satisfaction  \n",
       "0                   0.56250           0.0  \n",
       "1                   0.00000           1.0  \n",
       "2                   0.00000           1.0  \n",
       "3                   0.00000           0.0  \n",
       "4                   0.71875           0.0  \n",
       "\n",
       "[5 rows x 23 columns]"
      ]
     },
     "execution_count": 38,
     "metadata": {},
     "output_type": "execute_result"
    }
   ],
   "source": [
    "from sklearn import preprocessing\n",
    "r_scaler = preprocessing.MinMaxScaler()\n",
    "r_scaler.fit(train)\n",
    "#modified_data = pd.DataFrame(r_scaler.transform(train), index=train['id'], columns=train.columns)\n",
    "modified_data = pd.DataFrame(r_scaler.transform(train), columns=train.columns)\n",
    "modified_data.head()"
   ]
  },
  {
   "cell_type": "code",
   "execution_count": 39,
   "metadata": {
    "execution": {
     "iopub.execute_input": "2022-05-15T18:42:30.622929Z",
     "iopub.status.busy": "2022-05-15T18:42:30.622265Z",
     "iopub.status.idle": "2022-05-15T18:42:30.858334Z",
     "shell.execute_reply": "2022-05-15T18:42:30.859114Z"
    },
    "papermill": {
     "duration": 0.319991,
     "end_time": "2022-05-15T18:42:30.859321",
     "exception": false,
     "start_time": "2022-05-15T18:42:30.539330",
     "status": "completed"
    },
    "tags": []
   },
   "outputs": [
    {
     "name": "stdout",
     "output_type": "stream",
     "text": [
      "Index(['Type_of_Travel', 'Class', 'Flight_Distance', 'Inflight_wifi_service',\n",
      "       'Online_boarding', 'Seat_comfort', 'Inflight_entertainment',\n",
      "       'On-board_service', 'Leg_room_service', 'Cleanliness'],\n",
      "      dtype='object')\n"
     ]
    }
   ],
   "source": [
    "from sklearn.feature_selection import SelectKBest, chi2\n",
    "X = modified_data.loc[:,modified_data.columns!='satisfaction']\n",
    "y = modified_data[['satisfaction']]\n",
    "selector = SelectKBest(chi2, k=10)\n",
    "selector.fit(X, y)\n",
    "X_new = selector.transform(X)\n",
    "print(X.columns[selector.get_support(indices=True)])"
   ]
  },
  {
   "cell_type": "markdown",
   "metadata": {
    "papermill": {
     "duration": 0.081799,
     "end_time": "2022-05-15T18:42:31.023817",
     "exception": false,
     "start_time": "2022-05-15T18:42:30.942018",
     "status": "completed"
    },
    "tags": []
   },
   "source": [
    "These are top 10 features impacting on passenger satisfaction. We will check feature importance with other methods as well.\n",
    "# Feature Importance using Wrapper Method"
   ]
  },
  {
   "cell_type": "code",
   "execution_count": 40,
   "metadata": {
    "execution": {
     "iopub.execute_input": "2022-05-15T18:42:31.194023Z",
     "iopub.status.busy": "2022-05-15T18:42:31.193295Z",
     "iopub.status.idle": "2022-05-15T18:42:44.369731Z",
     "shell.execute_reply": "2022-05-15T18:42:44.368854Z"
    },
    "papermill": {
     "duration": 13.263943,
     "end_time": "2022-05-15T18:42:44.369908",
     "exception": false,
     "start_time": "2022-05-15T18:42:31.105965",
     "status": "completed"
    },
    "tags": []
   },
   "outputs": [
    {
     "name": "stdout",
     "output_type": "stream",
     "text": [
      "['Type_of_Travel', 'Class', 'Inflight_wifi_service', 'Online_boarding', 'Seat_comfort', 'Inflight_entertainment']\n",
      "[0.00412513 0.         0.0258749  0.21982853 0.08990315 0.03140161\n",
      " 0.12224491 0.01737014 0.03081474 0.01485982 0.01068989 0.11324523\n",
      " 0.06338185 0.06652081 0.02798984 0.04231821 0.02388634 0.02276466\n",
      " 0.02411625 0.03309566 0.00702376 0.00854455]\n"
     ]
    }
   ],
   "source": [
    "from sklearn.feature_selection import SelectFromModel\n",
    "from sklearn.ensemble import RandomForestClassifier as rf\n",
    "\n",
    "X = train.drop('satisfaction', axis=1)\n",
    "y = train['satisfaction']\n",
    "selector = SelectFromModel(rf(n_estimators=100, random_state=0))\n",
    "selector.fit(X, y)\n",
    "support = selector.get_support()\n",
    "features = X.loc[:,support].columns.tolist()\n",
    "print(features)\n",
    "print(rf(n_estimators=100, random_state=0).fit(X,y).feature_importances_)"
   ]
  },
  {
   "cell_type": "markdown",
   "metadata": {
    "papermill": {
     "duration": 0.080647,
     "end_time": "2022-05-15T18:42:44.540336",
     "exception": false,
     "start_time": "2022-05-15T18:42:44.459689",
     "status": "completed"
    },
    "tags": []
   },
   "source": [
    "So only these six features are inherently important in contributing towards passenger satisfaction. However, we will again cross-check with another feature importance deciding method.\n",
    "# Feature Permutation Importance"
   ]
  },
  {
   "cell_type": "code",
   "execution_count": 41,
   "metadata": {
    "execution": {
     "iopub.execute_input": "2022-05-15T18:42:44.707784Z",
     "iopub.status.busy": "2022-05-15T18:42:44.706737Z",
     "iopub.status.idle": "2022-05-15T18:42:44.710640Z",
     "shell.execute_reply": "2022-05-15T18:42:44.710067Z"
    },
    "papermill": {
     "duration": 0.089589,
     "end_time": "2022-05-15T18:42:44.710759",
     "exception": false,
     "start_time": "2022-05-15T18:42:44.621170",
     "status": "completed"
    },
    "tags": []
   },
   "outputs": [],
   "source": [
    "import warnings\n",
    "warnings.filterwarnings(\"ignore\")"
   ]
  },
  {
   "cell_type": "code",
   "execution_count": 42,
   "metadata": {
    "execution": {
     "iopub.execute_input": "2022-05-15T18:42:44.876861Z",
     "iopub.status.busy": "2022-05-15T18:42:44.876142Z",
     "iopub.status.idle": "2022-05-15T18:44:40.234235Z",
     "shell.execute_reply": "2022-05-15T18:44:40.234792Z"
    },
    "papermill": {
     "duration": 115.44308,
     "end_time": "2022-05-15T18:44:40.234984",
     "exception": false,
     "start_time": "2022-05-15T18:42:44.791904",
     "status": "completed"
    },
    "tags": []
   },
   "outputs": [
    {
     "name": "stderr",
     "output_type": "stream",
     "text": [
      "Using TensorFlow backend.\n"
     ]
    },
    {
     "data": {
      "text/html": [
       "\n",
       "    <style>\n",
       "    table.eli5-weights tr:hover {\n",
       "        filter: brightness(85%);\n",
       "    }\n",
       "</style>\n",
       "\n",
       "\n",
       "\n",
       "    \n",
       "\n",
       "    \n",
       "\n",
       "    \n",
       "\n",
       "    \n",
       "\n",
       "    \n",
       "\n",
       "    \n",
       "\n",
       "\n",
       "    \n",
       "\n",
       "    \n",
       "\n",
       "    \n",
       "\n",
       "    \n",
       "\n",
       "    \n",
       "\n",
       "    \n",
       "\n",
       "\n",
       "    \n",
       "\n",
       "    \n",
       "\n",
       "    \n",
       "\n",
       "    \n",
       "\n",
       "    \n",
       "        <table class=\"eli5-weights eli5-feature-importances\" style=\"border-collapse: collapse; border: none; margin-top: 0em; table-layout: auto;\">\n",
       "    <thead>\n",
       "    <tr style=\"border: none;\">\n",
       "        <th style=\"padding: 0 1em 0 0.5em; text-align: right; border: none;\">Weight</th>\n",
       "        <th style=\"padding: 0 0.5em 0 0.5em; text-align: left; border: none;\">Feature</th>\n",
       "    </tr>\n",
       "    </thead>\n",
       "    <tbody>\n",
       "    \n",
       "        <tr style=\"background-color: hsl(120, 100.00%, 80.00%); border: none;\">\n",
       "            <td style=\"padding: 0 1em 0 0.5em; text-align: right; border: none;\">\n",
       "                0.2723\n",
       "                \n",
       "                    &plusmn; 0.0039\n",
       "                \n",
       "            </td>\n",
       "            <td style=\"padding: 0 0.5em 0 0.5em; text-align: left; border: none;\">\n",
       "                Type_of_Travel\n",
       "            </td>\n",
       "        </tr>\n",
       "    \n",
       "        <tr style=\"background-color: hsl(120, 100.00%, 88.22%); border: none;\">\n",
       "            <td style=\"padding: 0 1em 0 0.5em; text-align: right; border: none;\">\n",
       "                0.1278\n",
       "                \n",
       "                    &plusmn; 0.0026\n",
       "                \n",
       "            </td>\n",
       "            <td style=\"padding: 0 0.5em 0 0.5em; text-align: left; border: none;\">\n",
       "                Inflight_wifi_service\n",
       "            </td>\n",
       "        </tr>\n",
       "    \n",
       "        <tr style=\"background-color: hsl(120, 100.00%, 94.46%); border: none;\">\n",
       "            <td style=\"padding: 0 1em 0 0.5em; text-align: right; border: none;\">\n",
       "                0.0435\n",
       "                \n",
       "                    &plusmn; 0.0011\n",
       "                \n",
       "            </td>\n",
       "            <td style=\"padding: 0 0.5em 0 0.5em; text-align: left; border: none;\">\n",
       "                Online_boarding\n",
       "            </td>\n",
       "        </tr>\n",
       "    \n",
       "        <tr style=\"background-color: hsl(120, 100.00%, 94.56%); border: none;\">\n",
       "            <td style=\"padding: 0 1em 0 0.5em; text-align: right; border: none;\">\n",
       "                0.0424\n",
       "                \n",
       "                    &plusmn; 0.0013\n",
       "                \n",
       "            </td>\n",
       "            <td style=\"padding: 0 0.5em 0 0.5em; text-align: left; border: none;\">\n",
       "                Seat_comfort\n",
       "            </td>\n",
       "        </tr>\n",
       "    \n",
       "        <tr style=\"background-color: hsl(120, 100.00%, 95.20%); border: none;\">\n",
       "            <td style=\"padding: 0 1em 0 0.5em; text-align: right; border: none;\">\n",
       "                0.0355\n",
       "                \n",
       "                    &plusmn; 0.0009\n",
       "                \n",
       "            </td>\n",
       "            <td style=\"padding: 0 0.5em 0 0.5em; text-align: left; border: none;\">\n",
       "                Checkin_service\n",
       "            </td>\n",
       "        </tr>\n",
       "    \n",
       "        <tr style=\"background-color: hsl(120, 100.00%, 95.79%); border: none;\">\n",
       "            <td style=\"padding: 0 1em 0 0.5em; text-align: right; border: none;\">\n",
       "                0.0294\n",
       "                \n",
       "                    &plusmn; 0.0014\n",
       "                \n",
       "            </td>\n",
       "            <td style=\"padding: 0 0.5em 0 0.5em; text-align: left; border: none;\">\n",
       "                Inflight_service\n",
       "            </td>\n",
       "        </tr>\n",
       "    \n",
       "        <tr style=\"background-color: hsl(120, 100.00%, 95.84%); border: none;\">\n",
       "            <td style=\"padding: 0 1em 0 0.5em; text-align: right; border: none;\">\n",
       "                0.0289\n",
       "                \n",
       "                    &plusmn; 0.0008\n",
       "                \n",
       "            </td>\n",
       "            <td style=\"padding: 0 0.5em 0 0.5em; text-align: left; border: none;\">\n",
       "                Baggage_handling\n",
       "            </td>\n",
       "        </tr>\n",
       "    \n",
       "        <tr style=\"background-color: hsl(120, 100.00%, 96.28%); border: none;\">\n",
       "            <td style=\"padding: 0 1em 0 0.5em; text-align: right; border: none;\">\n",
       "                0.0246\n",
       "                \n",
       "                    &plusmn; 0.0006\n",
       "                \n",
       "            </td>\n",
       "            <td style=\"padding: 0 0.5em 0 0.5em; text-align: left; border: none;\">\n",
       "                Cleanliness\n",
       "            </td>\n",
       "        </tr>\n",
       "    \n",
       "        <tr style=\"background-color: hsl(120, 100.00%, 97.05%); border: none;\">\n",
       "            <td style=\"padding: 0 1em 0 0.5em; text-align: right; border: none;\">\n",
       "                0.0177\n",
       "                \n",
       "                    &plusmn; 0.0007\n",
       "                \n",
       "            </td>\n",
       "            <td style=\"padding: 0 0.5em 0 0.5em; text-align: left; border: none;\">\n",
       "                On-board_service\n",
       "            </td>\n",
       "        </tr>\n",
       "    \n",
       "        <tr style=\"background-color: hsl(120, 100.00%, 97.10%); border: none;\">\n",
       "            <td style=\"padding: 0 1em 0 0.5em; text-align: right; border: none;\">\n",
       "                0.0172\n",
       "                \n",
       "                    &plusmn; 0.0007\n",
       "                \n",
       "            </td>\n",
       "            <td style=\"padding: 0 0.5em 0 0.5em; text-align: left; border: none;\">\n",
       "                Class\n",
       "            </td>\n",
       "        </tr>\n",
       "    \n",
       "        <tr style=\"background-color: hsl(120, 100.00%, 98.06%); border: none;\">\n",
       "            <td style=\"padding: 0 1em 0 0.5em; text-align: right; border: none;\">\n",
       "                0.0097\n",
       "                \n",
       "                    &plusmn; 0.0006\n",
       "                \n",
       "            </td>\n",
       "            <td style=\"padding: 0 0.5em 0 0.5em; text-align: left; border: none;\">\n",
       "                Leg_room_service\n",
       "            </td>\n",
       "        </tr>\n",
       "    \n",
       "        <tr style=\"background-color: hsl(120, 100.00%, 98.09%); border: none;\">\n",
       "            <td style=\"padding: 0 1em 0 0.5em; text-align: right; border: none;\">\n",
       "                0.0095\n",
       "                \n",
       "                    &plusmn; 0.0004\n",
       "                \n",
       "            </td>\n",
       "            <td style=\"padding: 0 0.5em 0 0.5em; text-align: left; border: none;\">\n",
       "                Flight_Distance\n",
       "            </td>\n",
       "        </tr>\n",
       "    \n",
       "        <tr style=\"background-color: hsl(120, 100.00%, 98.21%); border: none;\">\n",
       "            <td style=\"padding: 0 1em 0 0.5em; text-align: right; border: none;\">\n",
       "                0.0087\n",
       "                \n",
       "                    &plusmn; 0.0004\n",
       "                \n",
       "            </td>\n",
       "            <td style=\"padding: 0 0.5em 0 0.5em; text-align: left; border: none;\">\n",
       "                Inflight_entertainment\n",
       "            </td>\n",
       "        </tr>\n",
       "    \n",
       "        <tr style=\"background-color: hsl(120, 100.00%, 98.28%); border: none;\">\n",
       "            <td style=\"padding: 0 1em 0 0.5em; text-align: right; border: none;\">\n",
       "                0.0082\n",
       "                \n",
       "                    &plusmn; 0.0003\n",
       "                \n",
       "            </td>\n",
       "            <td style=\"padding: 0 0.5em 0 0.5em; text-align: left; border: none;\">\n",
       "                Age\n",
       "            </td>\n",
       "        </tr>\n",
       "    \n",
       "        <tr style=\"background-color: hsl(120, 100.00%, 98.59%); border: none;\">\n",
       "            <td style=\"padding: 0 1em 0 0.5em; text-align: right; border: none;\">\n",
       "                0.0062\n",
       "                \n",
       "                    &plusmn; 0.0007\n",
       "                \n",
       "            </td>\n",
       "            <td style=\"padding: 0 0.5em 0 0.5em; text-align: left; border: none;\">\n",
       "                Arrival_Delay_in_Minutes\n",
       "            </td>\n",
       "        </tr>\n",
       "    \n",
       "        <tr style=\"background-color: hsl(120, 100.00%, 98.64%); border: none;\">\n",
       "            <td style=\"padding: 0 1em 0 0.5em; text-align: right; border: none;\">\n",
       "                0.0058\n",
       "                \n",
       "                    &plusmn; 0.0003\n",
       "                \n",
       "            </td>\n",
       "            <td style=\"padding: 0 0.5em 0 0.5em; text-align: left; border: none;\">\n",
       "                Ease_of_Online_booking\n",
       "            </td>\n",
       "        </tr>\n",
       "    \n",
       "        <tr style=\"background-color: hsl(120, 100.00%, 98.89%); border: none;\">\n",
       "            <td style=\"padding: 0 1em 0 0.5em; text-align: right; border: none;\">\n",
       "                0.0044\n",
       "                \n",
       "                    &plusmn; 0.0004\n",
       "                \n",
       "            </td>\n",
       "            <td style=\"padding: 0 0.5em 0 0.5em; text-align: left; border: none;\">\n",
       "                Gate_location\n",
       "            </td>\n",
       "        </tr>\n",
       "    \n",
       "        <tr style=\"background-color: hsl(120, 100.00%, 99.09%); border: none;\">\n",
       "            <td style=\"padding: 0 1em 0 0.5em; text-align: right; border: none;\">\n",
       "                0.0033\n",
       "                \n",
       "                    &plusmn; 0.0002\n",
       "                \n",
       "            </td>\n",
       "            <td style=\"padding: 0 0.5em 0 0.5em; text-align: left; border: none;\">\n",
       "                Departure/Arrival_time_convenient\n",
       "            </td>\n",
       "        </tr>\n",
       "    \n",
       "        <tr style=\"background-color: hsl(120, 100.00%, 99.21%); border: none;\">\n",
       "            <td style=\"padding: 0 1em 0 0.5em; text-align: right; border: none;\">\n",
       "                0.0027\n",
       "                \n",
       "                    &plusmn; 0.0002\n",
       "                \n",
       "            </td>\n",
       "            <td style=\"padding: 0 0.5em 0 0.5em; text-align: left; border: none;\">\n",
       "                Departure_Delay_in_Minutes\n",
       "            </td>\n",
       "        </tr>\n",
       "    \n",
       "        <tr style=\"background-color: hsl(120, 100.00%, 99.33%); border: none;\">\n",
       "            <td style=\"padding: 0 1em 0 0.5em; text-align: right; border: none;\">\n",
       "                0.0021\n",
       "                \n",
       "                    &plusmn; 0.0003\n",
       "                \n",
       "            </td>\n",
       "            <td style=\"padding: 0 0.5em 0 0.5em; text-align: left; border: none;\">\n",
       "                Food_and_drink\n",
       "            </td>\n",
       "        </tr>\n",
       "    \n",
       "    \n",
       "        \n",
       "            <tr style=\"background-color: hsl(120, 100.00%, 99.33%); border: none;\">\n",
       "                <td colspan=\"2\" style=\"padding: 0 0.5em 0 0.5em; text-align: center; border: none; white-space: nowrap;\">\n",
       "                    <i>&hellip; 2 more &hellip;</i>\n",
       "                </td>\n",
       "            </tr>\n",
       "        \n",
       "    \n",
       "    </tbody>\n",
       "</table>\n",
       "    \n",
       "\n",
       "    \n",
       "\n",
       "\n",
       "    \n",
       "\n",
       "    \n",
       "\n",
       "    \n",
       "\n",
       "    \n",
       "\n",
       "    \n",
       "\n",
       "    \n",
       "\n",
       "\n",
       "\n"
      ],
      "text/plain": [
       "<IPython.core.display.HTML object>"
      ]
     },
     "execution_count": 42,
     "metadata": {},
     "output_type": "execute_result"
    }
   ],
   "source": [
    "import eli5\n",
    "from eli5.sklearn import PermutationImportance\n",
    "\n",
    "perm = PermutationImportance(rf(n_estimators=100, random_state=0).fit(X,y),random_state=1).fit(X,y)\n",
    "eli5.show_weights(perm, feature_names = X.columns.tolist())"
   ]
  },
  {
   "cell_type": "markdown",
   "metadata": {
    "papermill": {
     "duration": 0.082371,
     "end_time": "2022-05-15T18:44:40.400552",
     "exception": false,
     "start_time": "2022-05-15T18:44:40.318181",
     "status": "completed"
    },
    "tags": []
   },
   "source": [
    "From all above results, finally we can combine and conclude the list of important features.\n",
    "\n",
    "**Really Important Features:** Type_of_Travel, Inflight_wifi_service, Online_boarding, Seat_comfort\n",
    "\n",
    "**Important Features:** Class, Flight_Distance, Inflight_entertainment, On-board_service, Leg_room_service, Cleanliness, Checkin_service, Inflight_service, Baggage_handling\n",
    "\n",
    "# Building Models "
   ]
  },
  {
   "cell_type": "code",
   "execution_count": 43,
   "metadata": {
    "execution": {
     "iopub.execute_input": "2022-05-15T18:44:40.570474Z",
     "iopub.status.busy": "2022-05-15T18:44:40.569687Z",
     "iopub.status.idle": "2022-05-15T18:44:40.611404Z",
     "shell.execute_reply": "2022-05-15T18:44:40.612000Z"
    },
    "papermill": {
     "duration": 0.128332,
     "end_time": "2022-05-15T18:44:40.612164",
     "exception": false,
     "start_time": "2022-05-15T18:44:40.483832",
     "status": "completed"
    },
    "tags": []
   },
   "outputs": [],
   "source": [
    "features = ['Type_of_Travel','Inflight_wifi_service','Online_boarding','Seat_comfort','Flight_Distance',\n",
    "            'Inflight_entertainment','On-board_service','Leg_room_service','Cleanliness','Checkin_service', \n",
    "            'Inflight_service', 'Baggage_handling']\n",
    "target = ['satisfaction']\n",
    "\n",
    "# Split into test and train\n",
    "X_train = train[features]\n",
    "y_train = train[target].to_numpy()\n",
    "X_test = test[features]\n",
    "y_test = test[target].to_numpy()\n",
    "\n",
    "# Normalize Features\n",
    "from sklearn.preprocessing import StandardScaler\n",
    "scaler = StandardScaler()\n",
    "X_train = scaler.fit_transform(X_train)\n",
    "X_test = scaler.fit_transform(X_test)"
   ]
  },
  {
   "cell_type": "code",
   "execution_count": 44,
   "metadata": {
    "execution": {
     "iopub.execute_input": "2022-05-15T18:44:40.787198Z",
     "iopub.status.busy": "2022-05-15T18:44:40.786428Z",
     "iopub.status.idle": "2022-05-15T18:44:40.792177Z",
     "shell.execute_reply": "2022-05-15T18:44:40.792712Z"
    },
    "papermill": {
     "duration": 0.097844,
     "end_time": "2022-05-15T18:44:40.792866",
     "exception": false,
     "start_time": "2022-05-15T18:44:40.695022",
     "status": "completed"
    },
    "tags": []
   },
   "outputs": [],
   "source": [
    "import time\n",
    "from sklearn.metrics import accuracy_score, roc_auc_score, classification_report, plot_confusion_matrix, plot_roc_curve\n",
    "from matplotlib import pyplot as plt \n",
    "def run_model(model, X_train, y_train, X_test, y_test, verbose=True):\n",
    "    t0=time.time()\n",
    "    if verbose == False:\n",
    "        model.fit(X_train,y_train.ravel(), verbose=0)\n",
    "    else:\n",
    "        model.fit(X_train,y_train.ravel())\n",
    "    y_pred = model.predict(X_test)\n",
    "    accuracy = accuracy_score(y_test, y_pred)\n",
    "    roc_auc = roc_auc_score(y_test, y_pred) \n",
    "    time_taken = time.time()-t0\n",
    "    print(\"Accuracy = {}\".format(accuracy))\n",
    "    print(\"ROC Area under Curve = {}\".format(roc_auc))\n",
    "    print(\"Time taken = {}\".format(time_taken))\n",
    "    print(classification_report(y_test,y_pred,digits=5))\n",
    "    plot_confusion_matrix(model, X_test, y_test,cmap=plt.cm.pink, normalize = 'all')\n",
    "    plot_roc_curve(model, X_test, y_test)                     \n",
    "    \n",
    "    return model, accuracy, roc_auc, time_taken"
   ]
  },
  {
   "cell_type": "markdown",
   "metadata": {
    "papermill": {
     "duration": 0.08334,
     "end_time": "2022-05-15T18:44:40.959316",
     "exception": false,
     "start_time": "2022-05-15T18:44:40.875976",
     "status": "completed"
    },
    "tags": []
   },
   "source": [
    "**Model-1: Logistic Regression penalized with Elastic Net (L1 penalty = 50%, L2 penalty = 50%)**"
   ]
  },
  {
   "cell_type": "code",
   "execution_count": 45,
   "metadata": {
    "execution": {
     "iopub.execute_input": "2022-05-15T18:44:41.134542Z",
     "iopub.status.busy": "2022-05-15T18:44:41.133862Z",
     "iopub.status.idle": "2022-05-15T18:44:41.936335Z",
     "shell.execute_reply": "2022-05-15T18:44:41.935793Z"
    },
    "papermill": {
     "duration": 0.891768,
     "end_time": "2022-05-15T18:44:41.936460",
     "exception": false,
     "start_time": "2022-05-15T18:44:41.044692",
     "status": "completed"
    },
    "tags": []
   },
   "outputs": [
    {
     "name": "stdout",
     "output_type": "stream",
     "text": [
      "Accuracy = 0.8132891900215584\n",
      "ROC Area under Curve = 0.8201667535234151\n",
      "Time taken = 0.3919508457183838\n",
      "              precision    recall  f1-score   support\n",
      "\n",
      "           0    0.88771   0.76381   0.82111     14573\n",
      "           1    0.74384   0.87652   0.80475     11403\n",
      "\n",
      "    accuracy                        0.81329     25976\n",
      "   macro avg    0.81578   0.82017   0.81293     25976\n",
      "weighted avg    0.82455   0.81329   0.81393     25976\n",
      "\n"
     ]
    },
    {
     "data": {
      "image/png": "[encoded data removed]",
      "text/plain": [
       "<Figure size 432x288 with 2 Axes>"
      ]
     },
     "metadata": {
      "needs_background": "light"
     },
     "output_type": "display_data"
    },
    {
     "data": {
      "image/png": "[encoded data removed]",
      "text/plain": [
       "<Figure size 432x288 with 1 Axes>"
      ]
     },
     "metadata": {
      "needs_background": "light"
     },
     "output_type": "display_data"
    }
   ],
   "source": [
    "from sklearn.linear_model import LogisticRegression\n",
    "\n",
    "params_lr = {'penalty': 'elasticnet', 'l1_ratio':0.5, 'solver': 'saga'}\n",
    "\n",
    "model_lr = LogisticRegression(**params_lr)\n",
    "model_lr, accuracy_lr, roc_auc_lr, tt_lr = run_model(model_lr, X_train, y_train, X_test, y_test)"
   ]
  },
  {
   "cell_type": "markdown",
   "metadata": {
    "papermill": {
     "duration": 0.085755,
     "end_time": "2022-05-15T18:44:42.107521",
     "exception": false,
     "start_time": "2022-05-15T18:44:42.021766",
     "status": "completed"
    },
    "tags": []
   },
   "source": [
    "Since Logistic Regression is a white-box model (explainable), we can dive deeper into it to get more insight. "
   ]
  },
  {
   "cell_type": "code",
   "execution_count": 46,
   "metadata": {
    "execution": {
     "iopub.execute_input": "2022-05-15T18:44:42.283708Z",
     "iopub.status.busy": "2022-05-15T18:44:42.282669Z",
     "iopub.status.idle": "2022-05-15T18:44:43.195528Z",
     "shell.execute_reply": "2022-05-15T18:44:43.196181Z"
    },
    "papermill": {
     "duration": 1.003354,
     "end_time": "2022-05-15T18:44:43.196391",
     "exception": false,
     "start_time": "2022-05-15T18:44:42.193037",
     "status": "completed"
    },
    "tags": []
   },
   "outputs": [
    {
     "name": "stdout",
     "output_type": "stream",
     "text": [
      "Optimization terminated successfully.\n",
      "         Current function value: 0.309527\n",
      "         Iterations 7\n",
      "                           Logit Regression Results                           \n",
      "==============================================================================\n",
      "Dep. Variable:                      y   No. Observations:                61197\n",
      "Model:                          Logit   Df Residuals:                    61185\n",
      "Method:                           MLE   Df Model:                           11\n",
      "Date:                Sun, 15 May 2022   Pseudo R-squ.:                  0.5533\n",
      "Time:                        18:44:43   Log-Likelihood:                -18942.\n",
      "converged:                       True   LL-Null:                       -42406.\n",
      "Covariance Type:            nonrobust   LLR p-value:                     0.000\n",
      "==============================================================================\n",
      "                 coef    std err          z      P>|z|      [0.025      0.975]\n",
      "------------------------------------------------------------------------------\n",
      "x1            -1.6437      0.016   -101.562      0.000      -1.675      -1.612\n",
      "x2             0.2389      0.015     15.914      0.000       0.209       0.268\n",
      "x3             0.8106      0.018     46.040      0.000       0.776       0.845\n",
      "x4             0.1874      0.019      9.853      0.000       0.150       0.225\n",
      "x5             0.1042      0.014      7.377      0.000       0.077       0.132\n",
      "x6             0.0344      0.024      1.418      0.156      -0.013       0.082\n",
      "x7             0.4471      0.019     23.468      0.000       0.410       0.484\n",
      "x8             0.4414      0.016     28.327      0.000       0.411       0.472\n",
      "x9             0.4011      0.019     21.065      0.000       0.364       0.438\n",
      "x10            0.3847      0.014     27.342      0.000       0.357       0.412\n",
      "x11            0.1070      0.021      5.090      0.000       0.066       0.148\n",
      "x12            0.1469      0.019      7.633      0.000       0.109       0.185\n",
      "==============================================================================\n"
     ]
    }
   ],
   "source": [
    "import statsmodels.api as sm\n",
    "logit_model=sm.Logit(y_train,X_train)\n",
    "result=logit_model.fit()\n",
    "print(result.summary())"
   ]
  },
  {
   "cell_type": "markdown",
   "metadata": {
    "papermill": {
     "duration": 0.086827,
     "end_time": "2022-05-15T18:44:43.374856",
     "exception": false,
     "start_time": "2022-05-15T18:44:43.288029",
     "status": "completed"
    },
    "tags": []
   },
   "source": [
    "We can see, among 12 features, except 6th feature (Inflight_entertainment), rest 11 features have p-value < 0.05. So these are really important features impacting highly towards the target variable. Also, a pseudo R-square value **(McFadden's Pseudo R-Squared Value)** of 0.55 represents an excellent fit. \n",
    "\n",
    "**Model-2: Naive Bayes Classifier**"
   ]
  },
  {
   "cell_type": "code",
   "execution_count": 47,
   "metadata": {
    "execution": {
     "iopub.execute_input": "2022-05-15T18:44:43.555271Z",
     "iopub.status.busy": "2022-05-15T18:44:43.554496Z",
     "iopub.status.idle": "2022-05-15T18:44:44.010008Z",
     "shell.execute_reply": "2022-05-15T18:44:44.009445Z"
    },
    "papermill": {
     "duration": 0.54825,
     "end_time": "2022-05-15T18:44:44.010143",
     "exception": false,
     "start_time": "2022-05-15T18:44:43.461893",
     "status": "completed"
    },
    "tags": []
   },
   "outputs": [
    {
     "name": "stdout",
     "output_type": "stream",
     "text": [
      "Accuracy = 0.8334616569140745\n",
      "ROC Area under Curve = 0.8345493488740687\n",
      "Time taken = 0.0290682315826416\n",
      "              precision    recall  f1-score   support\n",
      "\n",
      "           0    0.87081   0.82564   0.84762     14573\n",
      "           1    0.79102   0.84346   0.81640     11403\n",
      "\n",
      "    accuracy                        0.83346     25976\n",
      "   macro avg    0.83092   0.83455   0.83201     25976\n",
      "weighted avg    0.83578   0.83346   0.83392     25976\n",
      "\n"
     ]
    },
    {
     "data": {
      "image/png": "[encoded data removed]",
      "text/plain": [
       "<Figure size 432x288 with 2 Axes>"
      ]
     },
     "metadata": {
      "needs_background": "light"
     },
     "output_type": "display_data"
    },
    {
     "data": {
      "image/png": "[encoded data removed]",
      "text/plain": [
       "<Figure size 432x288 with 1 Axes>"
      ]
     },
     "metadata": {
      "needs_background": "light"
     },
     "output_type": "display_data"
    }
   ],
   "source": [
    "from sklearn.naive_bayes import GaussianNB\n",
    "\n",
    "params_nb = {}\n",
    "\n",
    "model_nb = GaussianNB(**params_nb)\n",
    "model_nb, accuracy_nb, roc_auc_nb, tt_nb = run_model(model_nb, X_train, y_train, X_test, y_test)"
   ]
  },
  {
   "cell_type": "markdown",
   "metadata": {
    "papermill": {
     "duration": 0.088867,
     "end_time": "2022-05-15T18:44:44.188644",
     "exception": false,
     "start_time": "2022-05-15T18:44:44.099777",
     "status": "completed"
    },
    "tags": []
   },
   "source": [
    "**Model-3: K-Nearest Neighbor Classifier**"
   ]
  },
  {
   "cell_type": "code",
   "execution_count": 48,
   "metadata": {
    "execution": {
     "iopub.execute_input": "2022-05-15T18:44:44.401326Z",
     "iopub.status.busy": "2022-05-15T18:44:44.399557Z",
     "iopub.status.idle": "2022-05-15T18:45:11.548103Z",
     "shell.execute_reply": "2022-05-15T18:45:11.547462Z"
    },
    "papermill": {
     "duration": 27.267913,
     "end_time": "2022-05-15T18:45:11.548235",
     "exception": false,
     "start_time": "2022-05-15T18:44:44.280322",
     "status": "completed"
    },
    "tags": []
   },
   "outputs": [
    {
     "name": "stdout",
     "output_type": "stream",
     "text": [
      "Accuracy = 0.8861256544502618\n",
      "ROC Area under Curve = 0.8870270908506304\n",
      "Time taken = 9.785216569900513\n",
      "              precision    recall  f1-score   support\n",
      "\n",
      "           0    0.91414   0.87964   0.89656     14573\n",
      "           1    0.85326   0.89441   0.87335     11403\n",
      "\n",
      "    accuracy                        0.88613     25976\n",
      "   macro avg    0.88370   0.88703   0.88496     25976\n",
      "weighted avg    0.88741   0.88613   0.88637     25976\n",
      "\n"
     ]
    },
    {
     "data": {
      "image/png": "[encoded data removed]",
      "text/plain": [
       "<Figure size 432x288 with 2 Axes>"
      ]
     },
     "metadata": {
      "needs_background": "light"
     },
     "output_type": "display_data"
    },
    {
     "data": {
      "image/png": "[encoded data removed]",
      "text/plain": [
       "<Figure size 432x288 with 1 Axes>"
      ]
     },
     "metadata": {
      "needs_background": "light"
     },
     "output_type": "display_data"
    }
   ],
   "source": [
    "from sklearn.neighbors import KNeighborsClassifier\n",
    "\n",
    "params_kn = {'n_neighbors':10, 'algorithm': 'kd_tree', 'n_jobs':4}\n",
    "\n",
    "model_kn = KNeighborsClassifier(**params_kn)\n",
    "model_kn, accuracy_kn, roc_auc_kn, tt_kn = run_model(model_kn, X_train, y_train, X_test, y_test)"
   ]
  },
  {
   "cell_type": "markdown",
   "metadata": {
    "papermill": {
     "duration": 0.089715,
     "end_time": "2022-05-15T18:45:11.728300",
     "exception": false,
     "start_time": "2022-05-15T18:45:11.638585",
     "status": "completed"
    },
    "tags": []
   },
   "source": [
    "Model-4: Decision Tree Classifier"
   ]
  },
  {
   "cell_type": "code",
   "execution_count": 49,
   "metadata": {
    "execution": {
     "iopub.execute_input": "2022-05-15T18:45:11.914600Z",
     "iopub.status.busy": "2022-05-15T18:45:11.913896Z",
     "iopub.status.idle": "2022-05-15T18:45:12.381402Z",
     "shell.execute_reply": "2022-05-15T18:45:12.380579Z"
    },
    "papermill": {
     "duration": 0.563229,
     "end_time": "2022-05-15T18:45:12.381531",
     "exception": false,
     "start_time": "2022-05-15T18:45:11.818302",
     "status": "completed"
    },
    "tags": []
   },
   "outputs": [
    {
     "name": "stdout",
     "output_type": "stream",
     "text": [
      "Accuracy = 0.9001000923929782\n",
      "ROC Area under Curve = 0.9026291980368106\n",
      "Time taken = 0.06675577163696289\n",
      "              precision    recall  f1-score   support\n",
      "\n",
      "           0    0.93633   0.88190   0.90830     14573\n",
      "           1    0.85951   0.92335   0.89029     11403\n",
      "\n",
      "    accuracy                        0.90010     25976\n",
      "   macro avg    0.89792   0.90263   0.89929     25976\n",
      "weighted avg    0.90260   0.90010   0.90039     25976\n",
      "\n"
     ]
    },
    {
     "data": {
      "image/png": "[encoded data removed]",
      "text/plain": [
       "<Figure size 432x288 with 2 Axes>"
      ]
     },
     "metadata": {
      "needs_background": "light"
     },
     "output_type": "display_data"
    },
    {
     "data": {
      "image/png": "[encoded data removed]",
      "text/plain": [
       "<Figure size 432x288 with 1 Axes>"
      ]
     },
     "metadata": {
      "needs_background": "light"
     },
     "output_type": "display_data"
    }
   ],
   "source": [
    "from sklearn.tree import DecisionTreeClassifier\n",
    "params_dt = {'max_depth': 12,    \n",
    "             'max_features': \"sqrt\"}\n",
    "\n",
    "model_dt = DecisionTreeClassifier(**params_dt)\n",
    "model_dt, accuracy_dt, roc_auc_dt, tt_dt = run_model(model_dt, X_train, y_train, X_test, y_test)"
   ]
  },
  {
   "cell_type": "markdown",
   "metadata": {
    "papermill": {
     "duration": 0.09203,
     "end_time": "2022-05-15T18:45:12.566621",
     "exception": false,
     "start_time": "2022-05-15T18:45:12.474591",
     "status": "completed"
    },
    "tags": []
   },
   "source": [
    "Since Decision Tree is a white-box (explainable) model, we can deep-dive into its visualization to get more valuable insight below. From tree-visualization, we can extract rules which are contributing towards passenger-satisfaction."
   ]
  },
  {
   "cell_type": "code",
   "execution_count": 50,
   "metadata": {
    "execution": {
     "iopub.execute_input": "2022-05-15T18:45:12.760063Z",
     "iopub.status.busy": "2022-05-15T18:45:12.759317Z",
     "iopub.status.idle": "2022-05-15T18:45:13.323116Z",
     "shell.execute_reply": "2022-05-15T18:45:13.322534Z"
    },
    "papermill": {
     "duration": 0.664527,
     "end_time": "2022-05-15T18:45:13.323233",
     "exception": false,
     "start_time": "2022-05-15T18:45:12.658706",
     "status": "completed"
    },
    "tags": []
   },
   "outputs": [
    {
     "data": {
      "image/svg+xml": [
       "<?xml version=\"1.0\" encoding=\"UTF-8\" standalone=\"no\"?>\n",
       "<!DOCTYPE svg PUBLIC \"-//W3C//DTD SVG 1.1//EN\"\n",
       " \"http://www.w3.org/Graphics/SVG/1.1/DTD/svg11.dtd\">\n",
       "<!-- Generated by graphviz version 2.42.3 (20191010.1750)\n",
       " -->\n",
       "<!-- Title: Tree Pages: 1 -->\n",
       "<svg width=\"971pt\" height=\"433pt\"\n",
       " viewBox=\"0.00 0.00 970.50 433.00\" xmlns=\"http://www.w3.org/2000/svg\" xmlns:xlink=\"http://www.w3.org/1999/xlink\">\n",
       "<g id=\"graph0\" class=\"graph\" transform=\"scale(1 1) rotate(0) translate(4 429)\">\n",
       "<title>Tree</title>\n",
       "<polygon fill=\"white\" stroke=\"transparent\" points=\"-4,4 -4,-429 966.5,-429 966.5,4 -4,4\"/>\n",
       "<!-- 0 -->\n",
       "<g id=\"node1\" class=\"node\">\n",
       "<title>0</title>\n",
       "<path fill=\"#f7fbfe\" stroke=\"black\" d=\"M641,-425C641,-425 505,-425 505,-425 499,-425 493,-419 493,-413 493,-413 493,-354 493,-354 493,-348 499,-342 505,-342 505,-342 641,-342 641,-342 647,-342 653,-348 653,-354 653,-354 653,-413 653,-413 653,-419 647,-425 641,-425\"/>\n",
       "<text text-anchor=\"start\" x=\"501\" y=\"-409.8\" font-family=\"Helvetica,sans-Serif\" font-size=\"14.00\">Type_of_Travel ≤ 0.227</text>\n",
       "<text text-anchor=\"start\" x=\"545\" y=\"-394.8\" font-family=\"Helvetica,sans-Serif\" font-size=\"14.00\">gini = 0.5</text>\n",
       "<text text-anchor=\"start\" x=\"520.5\" y=\"-379.8\" font-family=\"Helvetica,sans-Serif\" font-size=\"14.00\">samples = 61197</text>\n",
       "<text text-anchor=\"start\" x=\"503.5\" y=\"-364.8\" font-family=\"Helvetica,sans-Serif\" font-size=\"14.00\">value = [29991, 31206]</text>\n",
       "<text text-anchor=\"start\" x=\"513.5\" y=\"-349.8\" font-family=\"Helvetica,sans-Serif\" font-size=\"14.00\">class = Satisfied (1)</text>\n",
       "</g>\n",
       "<!-- 1 -->\n",
       "<g id=\"node2\" class=\"node\">\n",
       "<title>1</title>\n",
       "<path fill=\"#76bbed\" stroke=\"black\" d=\"M540,-306C540,-306 412,-306 412,-306 406,-306 400,-300 400,-294 400,-294 400,-235 400,-235 400,-229 406,-223 412,-223 412,-223 540,-223 540,-223 546,-223 552,-229 552,-235 552,-235 552,-294 552,-294 552,-300 546,-306 540,-306\"/>\n",
       "<text text-anchor=\"start\" x=\"408\" y=\"-290.8\" font-family=\"Helvetica,sans-Serif\" font-size=\"14.00\">Seat_comfort ≤ &#45;0.089</text>\n",
       "<text text-anchor=\"start\" x=\"440.5\" y=\"-275.8\" font-family=\"Helvetica,sans-Serif\" font-size=\"14.00\">gini = 0.361</text>\n",
       "<text text-anchor=\"start\" x=\"423.5\" y=\"-260.8\" font-family=\"Helvetica,sans-Serif\" font-size=\"14.00\">samples = 37362</text>\n",
       "<text text-anchor=\"start\" x=\"410.5\" y=\"-245.8\" font-family=\"Helvetica,sans-Serif\" font-size=\"14.00\">value = [8826, 28536]</text>\n",
       "<text text-anchor=\"start\" x=\"416.5\" y=\"-230.8\" font-family=\"Helvetica,sans-Serif\" font-size=\"14.00\">class = Satisfied (1)</text>\n",
       "</g>\n",
       "<!-- 0&#45;&gt;1 -->\n",
       "<g id=\"edge1\" class=\"edge\">\n",
       "<title>0&#45;&gt;1</title>\n",
       "<path fill=\"none\" stroke=\"black\" d=\"M539.35,-341.91C531.82,-332.83 523.77,-323.12 516.02,-313.77\"/>\n",
       "<polygon fill=\"black\" stroke=\"black\" points=\"518.67,-311.49 509.59,-306.02 513.28,-315.95 518.67,-311.49\"/>\n",
       "<text text-anchor=\"middle\" x=\"507.27\" y=\"-327.21\" font-family=\"Helvetica,sans-Serif\" font-size=\"14.00\">True</text>\n",
       "</g>\n",
       "<!-- 8 -->\n",
       "<g id=\"node9\" class=\"node\">\n",
       "<title>8</title>\n",
       "<path fill=\"#e89152\" stroke=\"black\" d=\"M794.5,-306C794.5,-306 635.5,-306 635.5,-306 629.5,-306 623.5,-300 623.5,-294 623.5,-294 623.5,-235 623.5,-235 623.5,-229 629.5,-223 635.5,-223 635.5,-223 794.5,-223 794.5,-223 800.5,-223 806.5,-229 806.5,-235 806.5,-235 806.5,-294 806.5,-294 806.5,-300 800.5,-306 794.5,-306\"/>\n",
       "<text text-anchor=\"start\" x=\"631.5\" y=\"-290.8\" font-family=\"Helvetica,sans-Serif\" font-size=\"14.00\">Inflight_wifi_service ≤ 1.297</text>\n",
       "<text text-anchor=\"start\" x=\"679.5\" y=\"-275.8\" font-family=\"Helvetica,sans-Serif\" font-size=\"14.00\">gini = 0.199</text>\n",
       "<text text-anchor=\"start\" x=\"662.5\" y=\"-260.8\" font-family=\"Helvetica,sans-Serif\" font-size=\"14.00\">samples = 23835</text>\n",
       "<text text-anchor=\"start\" x=\"649.5\" y=\"-245.8\" font-family=\"Helvetica,sans-Serif\" font-size=\"14.00\">value = [21165, 2670]</text>\n",
       "<text text-anchor=\"start\" x=\"647\" y=\"-230.8\" font-family=\"Helvetica,sans-Serif\" font-size=\"14.00\">class = Dissatisfied (0)</text>\n",
       "</g>\n",
       "<!-- 0&#45;&gt;8 -->\n",
       "<g id=\"edge8\" class=\"edge\">\n",
       "<title>0&#45;&gt;8</title>\n",
       "<path fill=\"none\" stroke=\"black\" d=\"M622.27,-341.91C633.72,-332.47 646.01,-322.34 657.78,-312.65\"/>\n",
       "<polygon fill=\"black\" stroke=\"black\" points=\"660.33,-315.08 665.82,-306.02 655.88,-309.68 660.33,-315.08\"/>\n",
       "<text text-anchor=\"middle\" x=\"663.42\" y=\"-327.21\" font-family=\"Helvetica,sans-Serif\" font-size=\"14.00\">False</text>\n",
       "</g>\n",
       "<!-- 2 -->\n",
       "<g id=\"node3\" class=\"node\">\n",
       "<title>2</title>\n",
       "<path fill=\"#f4cbae\" stroke=\"black\" d=\"M317.5,-187C317.5,-187 158.5,-187 158.5,-187 152.5,-187 146.5,-181 146.5,-175 146.5,-175 146.5,-116 146.5,-116 146.5,-110 152.5,-104 158.5,-104 158.5,-104 317.5,-104 317.5,-104 323.5,-104 329.5,-110 329.5,-116 329.5,-116 329.5,-175 329.5,-175 329.5,-181 323.5,-187 317.5,-187\"/>\n",
       "<text text-anchor=\"start\" x=\"154.5\" y=\"-171.8\" font-family=\"Helvetica,sans-Serif\" font-size=\"14.00\">Inflight_wifi_service ≤ 0.555</text>\n",
       "<text text-anchor=\"start\" x=\"202.5\" y=\"-156.8\" font-family=\"Helvetica,sans-Serif\" font-size=\"14.00\">gini = 0.467</text>\n",
       "<text text-anchor=\"start\" x=\"185.5\" y=\"-141.8\" font-family=\"Helvetica,sans-Serif\" font-size=\"14.00\">samples = 10374</text>\n",
       "<text text-anchor=\"start\" x=\"176\" y=\"-126.8\" font-family=\"Helvetica,sans-Serif\" font-size=\"14.00\">value = [6525, 3849]</text>\n",
       "<text text-anchor=\"start\" x=\"170\" y=\"-111.8\" font-family=\"Helvetica,sans-Serif\" font-size=\"14.00\">class = Dissatisfied (0)</text>\n",
       "</g>\n",
       "<!-- 1&#45;&gt;2 -->\n",
       "<g id=\"edge2\" class=\"edge\">\n",
       "<title>1&#45;&gt;2</title>\n",
       "<path fill=\"none\" stroke=\"black\" d=\"M399.71,-226C377.39,-215.02 352.75,-202.91 329.58,-191.52\"/>\n",
       "<polygon fill=\"black\" stroke=\"black\" points=\"330.95,-188.3 320.44,-187.03 327.87,-194.58 330.95,-188.3\"/>\n",
       "</g>\n",
       "<!-- 5 -->\n",
       "<g id=\"node6\" class=\"node\">\n",
       "<title>5</title>\n",
       "<path fill=\"#4ba6e7\" stroke=\"black\" d=\"M547,-187C547,-187 405,-187 405,-187 399,-187 393,-181 393,-175 393,-175 393,-116 393,-116 393,-110 399,-104 405,-104 405,-104 547,-104 547,-104 553,-104 559,-110 559,-116 559,-116 559,-175 559,-175 559,-181 553,-187 547,-187\"/>\n",
       "<text text-anchor=\"start\" x=\"401\" y=\"-171.8\" font-family=\"Helvetica,sans-Serif\" font-size=\"14.00\">Online_boarding ≤ 0.045</text>\n",
       "<text text-anchor=\"start\" x=\"440.5\" y=\"-156.8\" font-family=\"Helvetica,sans-Serif\" font-size=\"14.00\">gini = 0.156</text>\n",
       "<text text-anchor=\"start\" x=\"423.5\" y=\"-141.8\" font-family=\"Helvetica,sans-Serif\" font-size=\"14.00\">samples = 26988</text>\n",
       "<text text-anchor=\"start\" x=\"410.5\" y=\"-126.8\" font-family=\"Helvetica,sans-Serif\" font-size=\"14.00\">value = [2301, 24687]</text>\n",
       "<text text-anchor=\"start\" x=\"416.5\" y=\"-111.8\" font-family=\"Helvetica,sans-Serif\" font-size=\"14.00\">class = Satisfied (1)</text>\n",
       "</g>\n",
       "<!-- 1&#45;&gt;5 -->\n",
       "<g id=\"edge5\" class=\"edge\">\n",
       "<title>1&#45;&gt;5</title>\n",
       "<path fill=\"none\" stroke=\"black\" d=\"M476,-222.91C476,-214.65 476,-205.86 476,-197.3\"/>\n",
       "<polygon fill=\"black\" stroke=\"black\" points=\"479.5,-197.02 476,-187.02 472.5,-197.02 479.5,-197.02\"/>\n",
       "</g>\n",
       "<!-- 3 -->\n",
       "<g id=\"node4\" class=\"node\">\n",
       "<title>3</title>\n",
       "<path fill=\"#eeae80\" stroke=\"black\" d=\"M140,-68C140,-68 12,-68 12,-68 6,-68 0,-62 0,-56 0,-56 0,-12 0,-12 0,-6 6,0 12,0 12,0 140,0 140,0 146,0 152,-6 152,-12 152,-12 152,-56 152,-56 152,-62 146,-68 140,-68\"/>\n",
       "<text text-anchor=\"start\" x=\"44\" y=\"-52.8\" font-family=\"Helvetica,sans-Serif\" font-size=\"14.00\">gini = 0.39</text>\n",
       "<text text-anchor=\"start\" x=\"27.5\" y=\"-37.8\" font-family=\"Helvetica,sans-Serif\" font-size=\"14.00\">samples = 8212</text>\n",
       "<text text-anchor=\"start\" x=\"14\" y=\"-22.8\" font-family=\"Helvetica,sans-Serif\" font-size=\"14.00\">value = [6034, 2178]</text>\n",
       "<text text-anchor=\"start\" x=\"8\" y=\"-7.8\" font-family=\"Helvetica,sans-Serif\" font-size=\"14.00\">class = Dissatisfied (0)</text>\n",
       "</g>\n",
       "<!-- 2&#45;&gt;3 -->\n",
       "<g id=\"edge3\" class=\"edge\">\n",
       "<title>2&#45;&gt;3</title>\n",
       "<path fill=\"none\" stroke=\"black\" d=\"M177.68,-103.73C163.16,-93.92 147.7,-83.46 133.33,-73.75\"/>\n",
       "<polygon fill=\"black\" stroke=\"black\" points=\"135.25,-70.83 125.01,-68.13 131.33,-76.62 135.25,-70.83\"/>\n",
       "</g>\n",
       "<!-- 4 -->\n",
       "<g id=\"node5\" class=\"node\">\n",
       "<title>4</title>\n",
       "<path fill=\"#73baed\" stroke=\"black\" d=\"M293.5,-68C293.5,-68 182.5,-68 182.5,-68 176.5,-68 170.5,-62 170.5,-56 170.5,-56 170.5,-12 170.5,-12 170.5,-6 176.5,0 182.5,0 182.5,0 293.5,0 293.5,0 299.5,0 305.5,-6 305.5,-12 305.5,-12 305.5,-56 305.5,-56 305.5,-62 299.5,-68 293.5,-68\"/>\n",
       "<text text-anchor=\"start\" x=\"202.5\" y=\"-52.8\" font-family=\"Helvetica,sans-Serif\" font-size=\"14.00\">gini = 0.351</text>\n",
       "<text text-anchor=\"start\" x=\"189.5\" y=\"-37.8\" font-family=\"Helvetica,sans-Serif\" font-size=\"14.00\">samples = 2162</text>\n",
       "<text text-anchor=\"start\" x=\"180\" y=\"-22.8\" font-family=\"Helvetica,sans-Serif\" font-size=\"14.00\">value = [491, 1671]</text>\n",
       "<text text-anchor=\"start\" x=\"178.5\" y=\"-7.8\" font-family=\"Helvetica,sans-Serif\" font-size=\"14.00\">class = Satisfied (1)</text>\n",
       "</g>\n",
       "<!-- 2&#45;&gt;4 -->\n",
       "<g id=\"edge4\" class=\"edge\">\n",
       "<title>2&#45;&gt;4</title>\n",
       "<path fill=\"none\" stroke=\"black\" d=\"M238,-103.73C238,-95.52 238,-86.86 238,-78.56\"/>\n",
       "<polygon fill=\"black\" stroke=\"black\" points=\"241.5,-78.3 238,-68.3 234.5,-78.3 241.5,-78.3\"/>\n",
       "</g>\n",
       "<!-- 6 -->\n",
       "<g id=\"node7\" class=\"node\">\n",
       "<title>6</title>\n",
       "<path fill=\"#b9dcf6\" stroke=\"black\" d=\"M452,-68C452,-68 336,-68 336,-68 330,-68 324,-62 324,-56 324,-56 324,-12 324,-12 324,-6 330,0 336,0 336,0 452,0 452,0 458,0 464,-6 464,-12 464,-12 464,-56 464,-56 464,-62 458,-68 452,-68\"/>\n",
       "<text text-anchor=\"start\" x=\"358.5\" y=\"-52.8\" font-family=\"Helvetica,sans-Serif\" font-size=\"14.00\">gini = 0.477</text>\n",
       "<text text-anchor=\"start\" x=\"345.5\" y=\"-37.8\" font-family=\"Helvetica,sans-Serif\" font-size=\"14.00\">samples = 2636</text>\n",
       "<text text-anchor=\"start\" x=\"332\" y=\"-22.8\" font-family=\"Helvetica,sans-Serif\" font-size=\"14.00\">value = [1035, 1601]</text>\n",
       "<text text-anchor=\"start\" x=\"334.5\" y=\"-7.8\" font-family=\"Helvetica,sans-Serif\" font-size=\"14.00\">class = Satisfied (1)</text>\n",
       "</g>\n",
       "<!-- 5&#45;&gt;6 -->\n",
       "<g id=\"edge6\" class=\"edge\">\n",
       "<title>5&#45;&gt;6</title>\n",
       "<path fill=\"none\" stroke=\"black\" d=\"M445.47,-103.73C438.77,-94.79 431.68,-85.32 424.97,-76.36\"/>\n",
       "<polygon fill=\"black\" stroke=\"black\" points=\"427.73,-74.21 418.94,-68.3 422.13,-78.4 427.73,-74.21\"/>\n",
       "</g>\n",
       "<!-- 7 -->\n",
       "<g id=\"node8\" class=\"node\">\n",
       "<title>7</title>\n",
       "<path fill=\"#44a2e6\" stroke=\"black\" d=\"M617.5,-68C617.5,-68 494.5,-68 494.5,-68 488.5,-68 482.5,-62 482.5,-56 482.5,-56 482.5,-12 482.5,-12 482.5,-6 488.5,0 494.5,0 494.5,0 617.5,0 617.5,0 623.5,0 629.5,-6 629.5,-12 629.5,-12 629.5,-56 629.5,-56 629.5,-62 623.5,-68 617.5,-68\"/>\n",
       "<text text-anchor=\"start\" x=\"520.5\" y=\"-52.8\" font-family=\"Helvetica,sans-Serif\" font-size=\"14.00\">gini = 0.099</text>\n",
       "<text text-anchor=\"start\" x=\"503.5\" y=\"-37.8\" font-family=\"Helvetica,sans-Serif\" font-size=\"14.00\">samples = 24352</text>\n",
       "<text text-anchor=\"start\" x=\"490.5\" y=\"-22.8\" font-family=\"Helvetica,sans-Serif\" font-size=\"14.00\">value = [1266, 23086]</text>\n",
       "<text text-anchor=\"start\" x=\"496.5\" y=\"-7.8\" font-family=\"Helvetica,sans-Serif\" font-size=\"14.00\">class = Satisfied (1)</text>\n",
       "</g>\n",
       "<!-- 5&#45;&gt;7 -->\n",
       "<g id=\"edge7\" class=\"edge\">\n",
       "<title>5&#45;&gt;7</title>\n",
       "<path fill=\"none\" stroke=\"black\" d=\"M505.79,-103.73C512.25,-94.88 519.1,-85.51 525.59,-76.63\"/>\n",
       "<polygon fill=\"black\" stroke=\"black\" points=\"528.6,-78.44 531.67,-68.3 522.95,-74.31 528.6,-78.44\"/>\n",
       "</g>\n",
       "<!-- 9 -->\n",
       "<g id=\"node10\" class=\"node\">\n",
       "<title>9</title>\n",
       "<path fill=\"#e78b48\" stroke=\"black\" d=\"M797,-187C797,-187 633,-187 633,-187 627,-187 621,-181 621,-175 621,-175 621,-116 621,-116 621,-110 627,-104 633,-104 633,-104 797,-104 797,-104 803,-104 809,-110 809,-116 809,-116 809,-175 809,-175 809,-181 803,-187 797,-187\"/>\n",
       "<text text-anchor=\"start\" x=\"629\" y=\"-171.8\" font-family=\"Helvetica,sans-Serif\" font-size=\"14.00\">Inflight_wifi_service ≤ &#45;1.672</text>\n",
       "<text text-anchor=\"start\" x=\"679.5\" y=\"-156.8\" font-family=\"Helvetica,sans-Serif\" font-size=\"14.00\">gini = 0.132</text>\n",
       "<text text-anchor=\"start\" x=\"662.5\" y=\"-141.8\" font-family=\"Helvetica,sans-Serif\" font-size=\"14.00\">samples = 22784</text>\n",
       "<text text-anchor=\"start\" x=\"649.5\" y=\"-126.8\" font-family=\"Helvetica,sans-Serif\" font-size=\"14.00\">value = [21165, 1619]</text>\n",
       "<text text-anchor=\"start\" x=\"647\" y=\"-111.8\" font-family=\"Helvetica,sans-Serif\" font-size=\"14.00\">class = Dissatisfied (0)</text>\n",
       "</g>\n",
       "<!-- 8&#45;&gt;9 -->\n",
       "<g id=\"edge9\" class=\"edge\">\n",
       "<title>8&#45;&gt;9</title>\n",
       "<path fill=\"none\" stroke=\"black\" d=\"M715,-222.91C715,-214.65 715,-205.86 715,-197.3\"/>\n",
       "<polygon fill=\"black\" stroke=\"black\" points=\"718.5,-197.02 715,-187.02 711.5,-197.02 718.5,-197.02\"/>\n",
       "</g>\n",
       "<!-- 12 -->\n",
       "<g id=\"node13\" class=\"node\">\n",
       "<title>12</title>\n",
       "<path fill=\"#399de5\" stroke=\"black\" d=\"M950.5,-179.5C950.5,-179.5 839.5,-179.5 839.5,-179.5 833.5,-179.5 827.5,-173.5 827.5,-167.5 827.5,-167.5 827.5,-123.5 827.5,-123.5 827.5,-117.5 833.5,-111.5 839.5,-111.5 839.5,-111.5 950.5,-111.5 950.5,-111.5 956.5,-111.5 962.5,-117.5 962.5,-123.5 962.5,-123.5 962.5,-167.5 962.5,-167.5 962.5,-173.5 956.5,-179.5 950.5,-179.5\"/>\n",
       "<text text-anchor=\"start\" x=\"867\" y=\"-164.3\" font-family=\"Helvetica,sans-Serif\" font-size=\"14.00\">gini = 0.0</text>\n",
       "<text text-anchor=\"start\" x=\"846.5\" y=\"-149.3\" font-family=\"Helvetica,sans-Serif\" font-size=\"14.00\">samples = 1051</text>\n",
       "<text text-anchor=\"start\" x=\"844.5\" y=\"-134.3\" font-family=\"Helvetica,sans-Serif\" font-size=\"14.00\">value = [0, 1051]</text>\n",
       "<text text-anchor=\"start\" x=\"835.5\" y=\"-119.3\" font-family=\"Helvetica,sans-Serif\" font-size=\"14.00\">class = Satisfied (1)</text>\n",
       "</g>\n",
       "<!-- 8&#45;&gt;12 -->\n",
       "<g id=\"edge12\" class=\"edge\">\n",
       "<title>8&#45;&gt;12</title>\n",
       "<path fill=\"none\" stroke=\"black\" d=\"M777.45,-222.91C796.29,-210.66 816.92,-197.25 835.56,-185.13\"/>\n",
       "<polygon fill=\"black\" stroke=\"black\" points=\"837.5,-188.05 843.97,-179.67 833.68,-182.18 837.5,-188.05\"/>\n",
       "</g>\n",
       "<!-- 10 -->\n",
       "<g id=\"node11\" class=\"node\">\n",
       "<title>10</title>\n",
       "<path fill=\"#399de5\" stroke=\"black\" d=\"M770.5,-68C770.5,-68 659.5,-68 659.5,-68 653.5,-68 647.5,-62 647.5,-56 647.5,-56 647.5,-12 647.5,-12 647.5,-6 653.5,0 659.5,0 659.5,0 770.5,0 770.5,0 776.5,0 782.5,-6 782.5,-12 782.5,-12 782.5,-56 782.5,-56 782.5,-62 776.5,-68 770.5,-68\"/>\n",
       "<text text-anchor=\"start\" x=\"687\" y=\"-52.8\" font-family=\"Helvetica,sans-Serif\" font-size=\"14.00\">gini = 0.0</text>\n",
       "<text text-anchor=\"start\" x=\"670\" y=\"-37.8\" font-family=\"Helvetica,sans-Serif\" font-size=\"14.00\">samples = 539</text>\n",
       "<text text-anchor=\"start\" x=\"668\" y=\"-22.8\" font-family=\"Helvetica,sans-Serif\" font-size=\"14.00\">value = [0, 539]</text>\n",
       "<text text-anchor=\"start\" x=\"655.5\" y=\"-7.8\" font-family=\"Helvetica,sans-Serif\" font-size=\"14.00\">class = Satisfied (1)</text>\n",
       "</g>\n",
       "<!-- 9&#45;&gt;10 -->\n",
       "<g id=\"edge10\" class=\"edge\">\n",
       "<title>9&#45;&gt;10</title>\n",
       "<path fill=\"none\" stroke=\"black\" d=\"M715,-103.73C715,-95.52 715,-86.86 715,-78.56\"/>\n",
       "<polygon fill=\"black\" stroke=\"black\" points=\"718.5,-78.3 715,-68.3 711.5,-78.3 718.5,-78.3\"/>\n",
       "</g>\n",
       "<!-- 11 -->\n",
       "<g id=\"node12\" class=\"node\">\n",
       "<title>11</title>\n",
       "<path fill=\"#e68743\" stroke=\"black\" d=\"M941,-68C941,-68 813,-68 813,-68 807,-68 801,-62 801,-56 801,-56 801,-12 801,-12 801,-6 807,0 813,0 813,0 941,0 941,0 947,0 953,-6 953,-12 953,-12 953,-56 953,-56 953,-62 947,-68 941,-68\"/>\n",
       "<text text-anchor=\"start\" x=\"841.5\" y=\"-52.8\" font-family=\"Helvetica,sans-Serif\" font-size=\"14.00\">gini = 0.092</text>\n",
       "<text text-anchor=\"start\" x=\"824.5\" y=\"-37.8\" font-family=\"Helvetica,sans-Serif\" font-size=\"14.00\">samples = 22245</text>\n",
       "<text text-anchor=\"start\" x=\"811.5\" y=\"-22.8\" font-family=\"Helvetica,sans-Serif\" font-size=\"14.00\">value = [21165, 1080]</text>\n",
       "<text text-anchor=\"start\" x=\"809\" y=\"-7.8\" font-family=\"Helvetica,sans-Serif\" font-size=\"14.00\">class = Dissatisfied (0)</text>\n",
       "</g>\n",
       "<!-- 9&#45;&gt;11 -->\n",
       "<g id=\"edge11\" class=\"edge\">\n",
       "<title>9&#45;&gt;11</title>\n",
       "<path fill=\"none\" stroke=\"black\" d=\"M775.32,-103.73C789.84,-93.92 805.3,-83.46 819.67,-73.75\"/>\n",
       "<polygon fill=\"black\" stroke=\"black\" points=\"821.67,-76.62 827.99,-68.13 817.75,-70.83 821.67,-76.62\"/>\n",
       "</g>\n",
       "</g>\n",
       "</svg>\n"
      ],
      "text/plain": [
       "<graphviz.files.Source at 0x7f27987f1850>"
      ]
     },
     "execution_count": 50,
     "metadata": {},
     "output_type": "execute_result"
    }
   ],
   "source": [
    "import graphviz\n",
    "from sklearn.tree import DecisionTreeClassifier, export_graphviz\n",
    "\n",
    "features_n = ['Type_of_Travel', 'Inflight_wifi_service', 'Online_boarding', 'Seat_comfort']\n",
    "X_train_n = scaler.fit_transform(train[features_n])\n",
    "data = export_graphviz(DecisionTreeClassifier(max_depth=3).fit(X_train_n, y_train), out_file=None, \n",
    "                       feature_names = features_n,\n",
    "                       class_names = ['Dissatisfied (0)', 'Satisfied (1)'], \n",
    "                       filled = True, rounded = True, special_characters = True)\n",
    "# we have intentionally kept max_depth short here to accommodate the entire visual-tree, best result comes with max_depth = 12\n",
    "# we have taken only really important features here to accommodate the entire tree picture\n",
    "graph = graphviz.Source(data)\n",
    "graph"
   ]
  },
  {
   "cell_type": "markdown",
   "metadata": {
    "papermill": {
     "duration": 0.09419,
     "end_time": "2022-05-15T18:45:13.511743",
     "exception": false,
     "start_time": "2022-05-15T18:45:13.417553",
     "status": "completed"
    },
    "tags": []
   },
   "source": [
    "From above tree visualization, it can be easily spotted that rule \"Type_of_Travel <=0.227 and Seat_comfort <= -0.089 and Online_boarding <= 0.045\" (all normalized values) contributes towards passenger satisfaction indicator= 1. Like that, many other rules can be extracted easily by going through the nodes.\n",
    "\n",
    "**Model-5: Neural Network (Multilayer Perceptron)**"
   ]
  },
  {
   "cell_type": "code",
   "execution_count": 51,
   "metadata": {
    "execution": {
     "iopub.execute_input": "2022-05-15T18:45:13.707117Z",
     "iopub.status.busy": "2022-05-15T18:45:13.706398Z",
     "iopub.status.idle": "2022-05-15T18:45:35.010199Z",
     "shell.execute_reply": "2022-05-15T18:45:35.010785Z"
    },
    "papermill": {
     "duration": 21.405662,
     "end_time": "2022-05-15T18:45:35.010969",
     "exception": false,
     "start_time": "2022-05-15T18:45:13.605307",
     "status": "completed"
    },
    "tags": []
   },
   "outputs": [
    {
     "name": "stdout",
     "output_type": "stream",
     "text": [
      "Accuracy = 0.8704573452417617\n",
      "ROC Area under Curve = 0.8770975203693623\n",
      "Time taken = 20.761159420013428\n",
      "              precision    recall  f1-score   support\n",
      "\n",
      "           0    0.93884   0.82269   0.87693     14573\n",
      "           1    0.80433   0.93151   0.86326     11403\n",
      "\n",
      "    accuracy                        0.87046     25976\n",
      "   macro avg    0.87159   0.87710   0.87010     25976\n",
      "weighted avg    0.87979   0.87046   0.87093     25976\n",
      "\n"
     ]
    },
    {
     "data": {
      "image/png": "[encoded data removed]",
      "text/plain": [
       "<Figure size 432x288 with 2 Axes>"
      ]
     },
     "metadata": {
      "needs_background": "light"
     },
     "output_type": "display_data"
    },
    {
     "data": {
      "image/png": "[encoded data removed]",
      "text/plain": [
       "<Figure size 432x288 with 1 Axes>"
      ]
     },
     "metadata": {
      "needs_background": "light"
     },
     "output_type": "display_data"
    }
   ],
   "source": [
    "from sklearn.neural_network import MLPClassifier\n",
    "\n",
    "params_nn = {'hidden_layer_sizes': (30,30,30),\n",
    "             'activation': 'logistic',\n",
    "             'solver': 'lbfgs',\n",
    "             'max_iter': 100}\n",
    "\n",
    "model_nn = MLPClassifier(**params_nn)\n",
    "model_nn, accuracy_nn, roc_auc_nn, tt_nn = run_model(model_nn, X_train, y_train, X_test, y_test)"
   ]
  },
  {
   "cell_type": "markdown",
   "metadata": {
    "papermill": {
     "duration": 0.095854,
     "end_time": "2022-05-15T18:45:35.206700",
     "exception": false,
     "start_time": "2022-05-15T18:45:35.110846",
     "status": "completed"
    },
    "tags": []
   },
   "source": [
    "**Model-6: Random Forest**"
   ]
  },
  {
   "cell_type": "code",
   "execution_count": 52,
   "metadata": {
    "execution": {
     "iopub.execute_input": "2022-05-15T18:45:35.405849Z",
     "iopub.status.busy": "2022-05-15T18:45:35.404817Z",
     "iopub.status.idle": "2022-05-15T18:45:41.470483Z",
     "shell.execute_reply": "2022-05-15T18:45:41.469921Z"
    },
    "papermill": {
     "duration": 6.166428,
     "end_time": "2022-05-15T18:45:41.470611",
     "exception": false,
     "start_time": "2022-05-15T18:45:35.304183",
     "status": "completed"
    },
    "tags": []
   },
   "outputs": [
    {
     "name": "stdout",
     "output_type": "stream",
     "text": [
      "Accuracy = 0.8941330458885125\n",
      "ROC Area under Curve = 0.9003728693084586\n",
      "Time taken = 4.925168991088867\n",
      "              precision    recall  f1-score   support\n",
      "\n",
      "           0    0.95723   0.84924   0.90001     14573\n",
      "           1    0.83161   0.95150   0.88753     11403\n",
      "\n",
      "    accuracy                        0.89413     25976\n",
      "   macro avg    0.89442   0.90037   0.89377     25976\n",
      "weighted avg    0.90208   0.89413   0.89453     25976\n",
      "\n"
     ]
    },
    {
     "data": {
      "image/png": "[encoded data removed]",
      "text/plain": [
       "<Figure size 432x288 with 2 Axes>"
      ]
     },
     "metadata": {
      "needs_background": "light"
     },
     "output_type": "display_data"
    },
    {
     "data": {
      "image/png": "[encoded data removed]",
      "text/plain": [
       "<Figure size 432x288 with 1 Axes>"
      ]
     },
     "metadata": {
      "needs_background": "light"
     },
     "output_type": "display_data"
    }
   ],
   "source": [
    "from sklearn.ensemble import RandomForestClassifier\n",
    "\n",
    "params_rf = {'max_depth': 16,\n",
    "             'min_samples_leaf': 1,\n",
    "             'min_samples_split': 2,\n",
    "             'n_estimators': 100,\n",
    "             'random_state': 12345}\n",
    "\n",
    "model_rf = RandomForestClassifier(**params_rf)\n",
    "model_rf, accuracy_rf, roc_auc_rf, tt_rf = run_model(model_rf, X_train, y_train, X_test, y_test)"
   ]
  },
  {
   "cell_type": "markdown",
   "metadata": {
    "papermill": {
     "duration": 0.097767,
     "end_time": "2022-05-15T18:45:41.667657",
     "exception": false,
     "start_time": "2022-05-15T18:45:41.569890",
     "status": "completed"
    },
    "tags": []
   },
   "source": [
    "Well, we see that Random Forest has performed very well on both Accuracy and area under ROC curve. So, we are now interested to see **how many decision trees are minimally required make the Accuarcy consistent** (recalling the fact that Random Forest is actually a bagged ensemble of decision trees)."
   ]
  },
  {
   "cell_type": "code",
   "execution_count": 53,
   "metadata": {
    "execution": {
     "iopub.execute_input": "2022-05-15T18:45:41.876525Z",
     "iopub.status.busy": "2022-05-15T18:45:41.875444Z",
     "iopub.status.idle": "2022-05-15T18:50:11.834185Z",
     "shell.execute_reply": "2022-05-15T18:50:11.833580Z"
    },
    "papermill": {
     "duration": 270.068411,
     "end_time": "2022-05-15T18:50:11.834318",
     "exception": false,
     "start_time": "2022-05-15T18:45:41.765907",
     "status": "completed"
    },
    "tags": []
   },
   "outputs": [
    {
     "data": {
      "text/plain": [
       "[<matplotlib.lines.Line2D at 0x7f2796fcf710>]"
      ]
     },
     "execution_count": 53,
     "metadata": {},
     "output_type": "execute_result"
    },
    {
     "data": {
      "image/png": "[encoded data removed]",
      "text/plain": [
       "<Figure size 432x288 with 1 Axes>"
      ]
     },
     "metadata": {
      "needs_background": "light"
     },
     "output_type": "display_data"
    }
   ],
   "source": [
    "import numpy as np\n",
    "%matplotlib inline\n",
    "\n",
    "trees=range(100)\n",
    "accuracy=np.zeros(100)\n",
    "\n",
    "for i in range(len(trees)):\n",
    "    clf = RandomForestClassifier(n_estimators = i+1)\n",
    "    model1 = clf.fit(X_train, y_train.ravel())\n",
    "    y_predictions = model1.predict(X_test)\n",
    "    accuracy[i] = accuracy_score(y_test, y_predictions)\n",
    "\n",
    "plt.plot(trees,accuracy)"
   ]
  },
  {
   "cell_type": "markdown",
   "metadata": {
    "papermill": {
     "duration": 0.100104,
     "end_time": "2022-05-15T18:50:12.034797",
     "exception": false,
     "start_time": "2022-05-15T18:50:11.934693",
     "status": "completed"
    },
    "tags": []
   },
   "source": [
    "From above graph, it is evident that **minimum 40 trees** are required to make accuracy fairly consistent (though minimal fluctuation is still there, and we can try the graph after increasing the no. of iterations).\n",
    "\n",
    "**Model-7: Extreme Gradient Boosting**"
   ]
  },
  {
   "cell_type": "code",
   "execution_count": 54,
   "metadata": {
    "execution": {
     "iopub.execute_input": "2022-05-15T18:50:12.244087Z",
     "iopub.status.busy": "2022-05-15T18:50:12.243409Z",
     "iopub.status.idle": "2022-05-15T18:50:44.270225Z",
     "shell.execute_reply": "2022-05-15T18:50:44.270853Z"
    },
    "papermill": {
     "duration": 32.134644,
     "end_time": "2022-05-15T18:50:44.271028",
     "exception": false,
     "start_time": "2022-05-15T18:50:12.136384",
     "status": "completed"
    },
    "tags": []
   },
   "outputs": [
    {
     "name": "stdout",
     "output_type": "stream",
     "text": [
      "Accuracy = 0.888820449645827\n",
      "ROC Area under Curve = 0.8960196091950001\n",
      "Time taken = 30.23775839805603\n",
      "              precision    recall  f1-score   support\n",
      "\n",
      "           0    0.95964   0.83703   0.89415     14573\n",
      "           1    0.82096   0.95501   0.88293     11403\n",
      "\n",
      "    accuracy                        0.88882     25976\n",
      "   macro avg    0.89030   0.89602   0.88854     25976\n",
      "weighted avg    0.89876   0.88882   0.88922     25976\n",
      "\n"
     ]
    },
    {
     "data": {
      "image/png": "[encoded data removed]",
      "text/plain": [
       "<Figure size 432x288 with 2 Axes>"
      ]
     },
     "metadata": {
      "needs_background": "light"
     },
     "output_type": "display_data"
    },
    {
     "data": {
      "image/png": "[encoded data removed]",
      "text/plain": [
       "<Figure size 432x288 with 1 Axes>"
      ]
     },
     "metadata": {
      "needs_background": "light"
     },
     "output_type": "display_data"
    }
   ],
   "source": [
    "import xgboost as xgb\n",
    "params_xgb ={'n_estimators': 500,\n",
    "            'max_depth': 16}\n",
    "\n",
    "model_xgb = xgb.XGBClassifier(**params_xgb)\n",
    "model_xgb, accuracy_xgb, roc_auc_xgb, tt_xgb = run_model(model_xgb, X_train, y_train, X_test, y_test)"
   ]
  },
  {
   "cell_type": "markdown",
   "metadata": {
    "papermill": {
     "duration": 0.103889,
     "end_time": "2022-05-15T18:50:44.475748",
     "exception": false,
     "start_time": "2022-05-15T18:50:44.371859",
     "status": "completed"
    },
    "tags": []
   },
   "source": [
    "**Model-8: Adaptive Gradient Boosting**"
   ]
  },
  {
   "cell_type": "code",
   "execution_count": 55,
   "metadata": {
    "execution": {
     "iopub.execute_input": "2022-05-15T18:50:44.683834Z",
     "iopub.status.busy": "2022-05-15T18:50:44.682763Z",
     "iopub.status.idle": "2022-05-15T18:51:10.230701Z",
     "shell.execute_reply": "2022-05-15T18:51:10.231612Z"
    },
    "papermill": {
     "duration": 25.654126,
     "end_time": "2022-05-15T18:51:10.231849",
     "exception": false,
     "start_time": "2022-05-15T18:50:44.577723",
     "status": "completed"
    },
    "tags": []
   },
   "outputs": [
    {
     "name": "stdout",
     "output_type": "stream",
     "text": [
      "Accuracy = 0.8955189405605174\n",
      "ROC Area under Curve = 0.8996241085930146\n",
      "Time taken = 21.31214165687561\n",
      "              precision    recall  f1-score   support\n",
      "\n",
      "           0    0.94313   0.86599   0.90291     14573\n",
      "           1    0.84494   0.93326   0.88691     11403\n",
      "\n",
      "    accuracy                        0.89552     25976\n",
      "   macro avg    0.89403   0.89962   0.89491     25976\n",
      "weighted avg    0.90002   0.89552   0.89589     25976\n",
      "\n"
     ]
    },
    {
     "data": {
      "image/png": "[encoded data removed]",
      "text/plain": [
       "<Figure size 432x288 with 2 Axes>"
      ]
     },
     "metadata": {
      "needs_background": "light"
     },
     "output_type": "display_data"
    },
    {
     "data": {
      "image/png": "[encoded data removed]",
      "text/plain": [
       "<Figure size 432x288 with 1 Axes>"
      ]
     },
     "metadata": {
      "needs_background": "light"
     },
     "output_type": "display_data"
    }
   ],
   "source": [
    "from sklearn.ensemble import AdaBoostClassifier as adab\n",
    "params_adab ={'n_estimators': 500,\n",
    "              'random_state': 12345}\n",
    "\n",
    "model_adab = adab(**params_adab)\n",
    "model_adab, accuracy_adab, roc_auc_adab, tt_adab = run_model(model_adab, X_train, y_train, X_test, y_test)"
   ]
  },
  {
   "cell_type": "markdown",
   "metadata": {
    "papermill": {
     "duration": 0.120692,
     "end_time": "2022-05-15T18:51:10.478159",
     "exception": false,
     "start_time": "2022-05-15T18:51:10.357467",
     "status": "completed"
    },
    "tags": []
   },
   "source": [
    "# Decision Region Plotting for Different Models\n",
    "\n",
    "We will observe the boundary of decision regions plotted by all the models on training data. Also we will observe the number of misclassified data points in the plots."
   ]
  },
  {
   "cell_type": "code",
   "execution_count": 56,
   "metadata": {
    "execution": {
     "iopub.execute_input": "2022-05-15T18:51:10.712790Z",
     "iopub.status.busy": "2022-05-15T18:51:10.711717Z",
     "iopub.status.idle": "2022-05-15T18:51:10.714914Z",
     "shell.execute_reply": "2022-05-15T18:51:10.714299Z"
    },
    "papermill": {
     "duration": 0.125394,
     "end_time": "2022-05-15T18:51:10.715062",
     "exception": false,
     "start_time": "2022-05-15T18:51:10.589668",
     "status": "completed"
    },
    "tags": []
   },
   "outputs": [],
   "source": [
    "import warnings\n",
    "warnings.filterwarnings(\"ignore\")"
   ]
  },
  {
   "cell_type": "code",
   "execution_count": 57,
   "metadata": {
    "execution": {
     "iopub.execute_input": "2022-05-15T18:51:10.970979Z",
     "iopub.status.busy": "2022-05-15T18:51:10.970266Z",
     "iopub.status.idle": "2022-05-15T18:53:41.909556Z",
     "shell.execute_reply": "2022-05-15T18:53:41.910331Z"
    },
    "papermill": {
     "duration": 151.076651,
     "end_time": "2022-05-15T18:53:41.910743",
     "exception": false,
     "start_time": "2022-05-15T18:51:10.834092",
     "status": "completed"
    },
    "tags": []
   },
   "outputs": [
    {
     "data": {
      "image/png": "[encoded data removed]",
      "text/plain": [
       "<Figure size 1296x1008 with 9 Axes>"
      ]
     },
     "metadata": {
      "needs_background": "light"
     },
     "output_type": "display_data"
    }
   ],
   "source": [
    "import numpy as np\n",
    "import matplotlib.pyplot as plt\n",
    "import matplotlib.gridspec as gridspec\n",
    "import itertools\n",
    "from sklearn.linear_model import LogisticRegression\n",
    "from sklearn.naive_bayes import GaussianNB\n",
    "from sklearn.neighbors import KNeighborsClassifier\n",
    "from sklearn.tree import DecisionTreeClassifier\n",
    "from sklearn.neural_network import MLPClassifier\n",
    "from sklearn.ensemble import RandomForestClassifier\n",
    "import xgboost as xgb\n",
    "from sklearn.ensemble import AdaBoostClassifier\n",
    "from mlxtend.classifier import EnsembleVoteClassifier\n",
    "from mlxtend.plotting import plot_decision_regions\n",
    "\n",
    "value = 1.70\n",
    "width = 0.85\n",
    "\n",
    "clf1 = LogisticRegression(random_state=12345)\n",
    "clf2 = GaussianNB()\n",
    "clf3 = KNeighborsClassifier()\n",
    "clf4 = DecisionTreeClassifier(random_state=12345) \n",
    "clf5 = MLPClassifier(random_state=12345, verbose = 0)\n",
    "clf6 = RandomForestClassifier(random_state=12345)\n",
    "clf7 = xgb.XGBClassifier(random_state=12345)\n",
    "clf8 = AdaBoostClassifier(random_state=12345)\n",
    "eclf = EnsembleVoteClassifier(clfs=[clf6, clf7, clf8], weights=[1, 1, 1], voting='soft')\n",
    "\n",
    "X_list = train[[\"Type_of_Travel\", \"Inflight_wifi_service\", \"Online_boarding\", \"Seat_comfort\"]] #took only really important features\n",
    "X = np.asarray(X_list, dtype=np.float32)\n",
    "y_list = train[\"satisfaction\"]\n",
    "y = np.asarray(y_list, dtype=np.int32)\n",
    "\n",
    "# Plotting Decision Regions\n",
    "gs = gridspec.GridSpec(3,3)\n",
    "fig = plt.figure(figsize=(18, 14))\n",
    "\n",
    "labels = ['Logistic Regression',\n",
    "          'Naive Bayes',\n",
    "          'KNN',\n",
    "          'Decision Tree',\n",
    "          'Neural Network',\n",
    "          'Random Forest',\n",
    "          'XGBoost',\n",
    "          'AdaBoost',\n",
    "          'Ensemble']\n",
    "\n",
    "for clf, lab, grd in zip([clf1, clf2, clf3, clf4, clf5, clf6, clf7, clf8, eclf],\n",
    "                         labels,\n",
    "                         itertools.product([0, 1, 2],\n",
    "                         repeat=2)):\n",
    "    clf.fit(X, y)\n",
    "    ax = plt.subplot(gs[grd[0], grd[1]])\n",
    "    fig = plot_decision_regions(X=X, y=y, clf=clf, \n",
    "                                filler_feature_values={2: value, 3: value}, \n",
    "                                filler_feature_ranges={2: width, 3: width}, \n",
    "                                legend=2)\n",
    "    plt.title(lab)\n",
    "\n",
    "plt.show()"
   ]
  },
  {
   "cell_type": "markdown",
   "metadata": {
    "papermill": {
     "duration": 0.109127,
     "end_time": "2022-05-15T18:53:42.130107",
     "exception": false,
     "start_time": "2022-05-15T18:53:42.020980",
     "status": "completed"
    },
    "tags": []
   },
   "source": [
    "# Model Comparison:\n",
    "We will compare the performace of various models by their respective ROC_AUC score and total time taken for execution."
   ]
  },
  {
   "cell_type": "code",
   "execution_count": 58,
   "metadata": {
    "execution": {
     "iopub.execute_input": "2022-05-15T18:53:42.362474Z",
     "iopub.status.busy": "2022-05-15T18:53:42.361636Z",
     "iopub.status.idle": "2022-05-15T18:53:42.679530Z",
     "shell.execute_reply": "2022-05-15T18:53:42.678756Z"
    },
    "papermill": {
     "duration": 0.441017,
     "end_time": "2022-05-15T18:53:42.679661",
     "exception": false,
     "start_time": "2022-05-15T18:53:42.238644",
     "status": "completed"
    },
    "tags": []
   },
   "outputs": [
    {
     "data": {
      "image/png": "[encoded data removed]",
      "text/plain": [
       "<Figure size 1008x576 with 2 Axes>"
      ]
     },
     "metadata": {
      "needs_background": "light"
     },
     "output_type": "display_data"
    }
   ],
   "source": [
    "roc_auc_scores = [roc_auc_lr, roc_auc_nb, roc_auc_kn, roc_auc_dt, roc_auc_nn, roc_auc_rf, roc_auc_xgb, roc_auc_adab]\n",
    "tt = [tt_lr, tt_nb, tt_kn, tt_dt, tt_nn, tt_rf, tt_xgb, tt_adab]\n",
    "\n",
    "model_data = {'Model': ['Logistic Regression','Naive Bayes','K-NN','Decision Tree','Neural Network','Random Forest','XGBoost','AdaBoost'],\n",
    "              'ROC_AUC': roc_auc_scores,\n",
    "              'Time taken': tt}\n",
    "data = pd.DataFrame(model_data)\n",
    "\n",
    "fig, ax1 = plt.subplots(figsize=(14,8))\n",
    "ax1.set_title('Model Comparison: Area under ROC Curve and Time taken for execution by Various Models', fontsize=13)\n",
    "color = 'tab:blue'\n",
    "ax1.set_xlabel('Model', fontsize=13)\n",
    "ax1.set_ylabel('Time taken', fontsize=13, color=color)\n",
    "ax2 = sns.barplot(x='Model', y='Time taken', data = data, palette='Blues_r')\n",
    "ax1.tick_params(axis='y')\n",
    "ax2 = ax1.twinx()\n",
    "color = 'tab:orange'\n",
    "ax2.set_ylabel('ROC_AUC', fontsize=13, color=color)\n",
    "ax2 = sns.lineplot(x='Model', y='ROC_AUC', data = data, sort=False, color=color)\n",
    "ax2.tick_params(axis='y', color=color)"
   ]
  },
  {
   "cell_type": "markdown",
   "metadata": {
    "papermill": {
     "duration": 0.110109,
     "end_time": "2022-05-15T18:53:42.899696",
     "exception": false,
     "start_time": "2022-05-15T18:53:42.789587",
     "status": "completed"
    },
    "tags": []
   },
   "source": [
    "# Conclusion\n",
    "We observe, Random Forest and AdaBoost have performed equally well on producing high ROC_AUC score (90%). But **Random Forest** has taken lesser amount of time compared to time taken by AdaBoost. So, we will stick to Random Forest as the best model. \n",
    "\n",
    "**Acknowledgement:** Thank you [TJ Klein](http://www.kaggle.com/teejmahal20) for your excellent kernel. I took the basic structure of run_model function from your work. Thank you [Prageeth Anjula](http://www.kaggle.com/praanj) for your great tree visualization. I took the codes for graphviz from your Titanic kernel. "
   ]
  },
  {
   "cell_type": "code",
   "execution_count": null,
   "metadata": {
    "papermill": {
     "duration": 0.111216,
     "end_time": "2022-05-15T18:53:43.121274",
     "exception": false,
     "start_time": "2022-05-15T18:53:43.010058",
     "status": "completed"
    },
    "tags": []
   },
   "outputs": [],
   "source": []
  }
 ],
 "metadata": {
  "kernelspec": {
   "display_name": "Python 3",
   "language": "python",
   "name": "python3"
  },
  "language_info": {
   "codemirror_mode": {
    "name": "ipython",
    "version": 3
   },
   "file_extension": ".py",
   "mimetype": "text/x-python",
   "name": "python",
   "nbconvert_exporter": "python",
   "pygments_lexer": "ipython3",
   "version": "3.7.6"
  },
  "papermill": {
   "duration": 711.231652,
   "end_time": "2022-05-15T18:53:43.338810",
   "environment_variables": {},
   "exception": null,
   "input_path": "__notebook__.ipynb",
   "output_path": "__notebook__.ipynb",
   "parameters": {},
   "start_time": "2022-05-15T18:41:52.107158",
   "version": "2.1.0"
  }
 },
 "nbformat": 4,
 "nbformat_minor": 4
}
